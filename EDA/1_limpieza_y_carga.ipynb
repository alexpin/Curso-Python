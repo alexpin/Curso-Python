{
  "cells": [
    {
      "cell_type": "markdown",
      "metadata": {
        "id": "view-in-github",
        "colab_type": "text"
      },
      "source": [
        "<a href=\"https://colab.research.google.com/github/alexpin/Curso-Python/blob/master/EDA/1_limpieza_y_carga.ipynb\" target=\"_parent\"><img src=\"https://colab.research.google.com/assets/colab-badge.svg\" alt=\"Open In Colab\"/></a>"
      ]
    },
    {
      "cell_type": "code",
      "execution_count": 35,
      "id": "79ea69cc",
      "metadata": {
        "id": "79ea69cc"
      },
      "outputs": [],
      "source": [
        "import pandas as pd\n",
        "import io"
      ]
    },
    {
      "cell_type": "code",
      "execution_count": 27,
      "id": "914e82d1",
      "metadata": {
        "id": "914e82d1"
      },
      "outputs": [],
      "source": [
        "##import os"
      ]
    },
    {
      "cell_type": "code",
      "execution_count": 28,
      "id": "e51b1645",
      "metadata": {
        "id": "e51b1645"
      },
      "outputs": [],
      "source": [
        "##os.chdir('Proyectos de datos')"
      ]
    },
    {
      "cell_type": "code",
      "execution_count": 29,
      "id": "f2dffdf3",
      "metadata": {
        "id": "f2dffdf3"
      },
      "outputs": [],
      "source": [
        "## !ls"
      ]
    },
    {
      "cell_type": "code",
      "source": [
        "from google.colab import files\n",
        "uploaded = files.upload()"
      ],
      "metadata": {
        "colab": {
          "base_uri": "https://localhost:8080/",
          "height": 74
        },
        "id": "IetiRA6Luh_h",
        "outputId": "ef6dfd19-bc83-4689-8a8a-2133c1dba75f"
      },
      "id": "IetiRA6Luh_h",
      "execution_count": 33,
      "outputs": [
        {
          "output_type": "display_data",
          "data": {
            "text/plain": [
              "<IPython.core.display.HTML object>"
            ],
            "text/html": [
              "\n",
              "     <input type=\"file\" id=\"files-5e9f500c-f4dd-437a-9c46-f562b9af50fa\" name=\"files[]\" multiple disabled\n",
              "        style=\"border:none\" />\n",
              "     <output id=\"result-5e9f500c-f4dd-437a-9c46-f562b9af50fa\">\n",
              "      Upload widget is only available when the cell has been executed in the\n",
              "      current browser session. Please rerun this cell to enable.\n",
              "      </output>\n",
              "      <script>// Copyright 2017 Google LLC\n",
              "//\n",
              "// Licensed under the Apache License, Version 2.0 (the \"License\");\n",
              "// you may not use this file except in compliance with the License.\n",
              "// You may obtain a copy of the License at\n",
              "//\n",
              "//      http://www.apache.org/licenses/LICENSE-2.0\n",
              "//\n",
              "// Unless required by applicable law or agreed to in writing, software\n",
              "// distributed under the License is distributed on an \"AS IS\" BASIS,\n",
              "// WITHOUT WARRANTIES OR CONDITIONS OF ANY KIND, either express or implied.\n",
              "// See the License for the specific language governing permissions and\n",
              "// limitations under the License.\n",
              "\n",
              "/**\n",
              " * @fileoverview Helpers for google.colab Python module.\n",
              " */\n",
              "(function(scope) {\n",
              "function span(text, styleAttributes = {}) {\n",
              "  const element = document.createElement('span');\n",
              "  element.textContent = text;\n",
              "  for (const key of Object.keys(styleAttributes)) {\n",
              "    element.style[key] = styleAttributes[key];\n",
              "  }\n",
              "  return element;\n",
              "}\n",
              "\n",
              "// Max number of bytes which will be uploaded at a time.\n",
              "const MAX_PAYLOAD_SIZE = 100 * 1024;\n",
              "\n",
              "function _uploadFiles(inputId, outputId) {\n",
              "  const steps = uploadFilesStep(inputId, outputId);\n",
              "  const outputElement = document.getElementById(outputId);\n",
              "  // Cache steps on the outputElement to make it available for the next call\n",
              "  // to uploadFilesContinue from Python.\n",
              "  outputElement.steps = steps;\n",
              "\n",
              "  return _uploadFilesContinue(outputId);\n",
              "}\n",
              "\n",
              "// This is roughly an async generator (not supported in the browser yet),\n",
              "// where there are multiple asynchronous steps and the Python side is going\n",
              "// to poll for completion of each step.\n",
              "// This uses a Promise to block the python side on completion of each step,\n",
              "// then passes the result of the previous step as the input to the next step.\n",
              "function _uploadFilesContinue(outputId) {\n",
              "  const outputElement = document.getElementById(outputId);\n",
              "  const steps = outputElement.steps;\n",
              "\n",
              "  const next = steps.next(outputElement.lastPromiseValue);\n",
              "  return Promise.resolve(next.value.promise).then((value) => {\n",
              "    // Cache the last promise value to make it available to the next\n",
              "    // step of the generator.\n",
              "    outputElement.lastPromiseValue = value;\n",
              "    return next.value.response;\n",
              "  });\n",
              "}\n",
              "\n",
              "/**\n",
              " * Generator function which is called between each async step of the upload\n",
              " * process.\n",
              " * @param {string} inputId Element ID of the input file picker element.\n",
              " * @param {string} outputId Element ID of the output display.\n",
              " * @return {!Iterable<!Object>} Iterable of next steps.\n",
              " */\n",
              "function* uploadFilesStep(inputId, outputId) {\n",
              "  const inputElement = document.getElementById(inputId);\n",
              "  inputElement.disabled = false;\n",
              "\n",
              "  const outputElement = document.getElementById(outputId);\n",
              "  outputElement.innerHTML = '';\n",
              "\n",
              "  const pickedPromise = new Promise((resolve) => {\n",
              "    inputElement.addEventListener('change', (e) => {\n",
              "      resolve(e.target.files);\n",
              "    });\n",
              "  });\n",
              "\n",
              "  const cancel = document.createElement('button');\n",
              "  inputElement.parentElement.appendChild(cancel);\n",
              "  cancel.textContent = 'Cancel upload';\n",
              "  const cancelPromise = new Promise((resolve) => {\n",
              "    cancel.onclick = () => {\n",
              "      resolve(null);\n",
              "    };\n",
              "  });\n",
              "\n",
              "  // Wait for the user to pick the files.\n",
              "  const files = yield {\n",
              "    promise: Promise.race([pickedPromise, cancelPromise]),\n",
              "    response: {\n",
              "      action: 'starting',\n",
              "    }\n",
              "  };\n",
              "\n",
              "  cancel.remove();\n",
              "\n",
              "  // Disable the input element since further picks are not allowed.\n",
              "  inputElement.disabled = true;\n",
              "\n",
              "  if (!files) {\n",
              "    return {\n",
              "      response: {\n",
              "        action: 'complete',\n",
              "      }\n",
              "    };\n",
              "  }\n",
              "\n",
              "  for (const file of files) {\n",
              "    const li = document.createElement('li');\n",
              "    li.append(span(file.name, {fontWeight: 'bold'}));\n",
              "    li.append(span(\n",
              "        `(${file.type || 'n/a'}) - ${file.size} bytes, ` +\n",
              "        `last modified: ${\n",
              "            file.lastModifiedDate ? file.lastModifiedDate.toLocaleDateString() :\n",
              "                                    'n/a'} - `));\n",
              "    const percent = span('0% done');\n",
              "    li.appendChild(percent);\n",
              "\n",
              "    outputElement.appendChild(li);\n",
              "\n",
              "    const fileDataPromise = new Promise((resolve) => {\n",
              "      const reader = new FileReader();\n",
              "      reader.onload = (e) => {\n",
              "        resolve(e.target.result);\n",
              "      };\n",
              "      reader.readAsArrayBuffer(file);\n",
              "    });\n",
              "    // Wait for the data to be ready.\n",
              "    let fileData = yield {\n",
              "      promise: fileDataPromise,\n",
              "      response: {\n",
              "        action: 'continue',\n",
              "      }\n",
              "    };\n",
              "\n",
              "    // Use a chunked sending to avoid message size limits. See b/62115660.\n",
              "    let position = 0;\n",
              "    do {\n",
              "      const length = Math.min(fileData.byteLength - position, MAX_PAYLOAD_SIZE);\n",
              "      const chunk = new Uint8Array(fileData, position, length);\n",
              "      position += length;\n",
              "\n",
              "      const base64 = btoa(String.fromCharCode.apply(null, chunk));\n",
              "      yield {\n",
              "        response: {\n",
              "          action: 'append',\n",
              "          file: file.name,\n",
              "          data: base64,\n",
              "        },\n",
              "      };\n",
              "\n",
              "      let percentDone = fileData.byteLength === 0 ?\n",
              "          100 :\n",
              "          Math.round((position / fileData.byteLength) * 100);\n",
              "      percent.textContent = `${percentDone}% done`;\n",
              "\n",
              "    } while (position < fileData.byteLength);\n",
              "  }\n",
              "\n",
              "  // All done.\n",
              "  yield {\n",
              "    response: {\n",
              "      action: 'complete',\n",
              "    }\n",
              "  };\n",
              "}\n",
              "\n",
              "scope.google = scope.google || {};\n",
              "scope.google.colab = scope.google.colab || {};\n",
              "scope.google.colab._files = {\n",
              "  _uploadFiles,\n",
              "  _uploadFilesContinue,\n",
              "};\n",
              "})(self);\n",
              "</script> "
            ]
          },
          "metadata": {}
        },
        {
          "output_type": "stream",
          "name": "stdout",
          "text": [
            "Saving 12_DICIEMBRE_2020.xlsx to 12_DICIEMBRE_2020 (3).xlsx\n"
          ]
        }
      ]
    },
    {
      "cell_type": "code",
      "source": [
        "df_gastos_varios = pd.read_excel(io.BytesIO(uploaded['12_DICIEMBRE_2020.xlsx']), sheet_name='GASTOS VARIOS', skiprows=5)\n",
        "df_gastos_varios['SHEET'] = 'GASTOS VARIOS'\n"
      ],
      "metadata": {
        "id": "Bjr4PTiWwcNh"
      },
      "id": "Bjr4PTiWwcNh",
      "execution_count": 54,
      "outputs": []
    },
    {
      "cell_type": "code",
      "source": [
        "df_contratistas = pd.read_excel(io.BytesIO(uploaded['12_DICIEMBRE_2020.xlsx']), sheet_name='CONTRATISTAS Y FDO FED', skiprows=5)\n",
        "df_contratistas['SHEET'] = 'CONTRATISTAS Y FDO FED'\n"
      ],
      "metadata": {
        "id": "MO5ZjybczMzG"
      },
      "id": "MO5ZjybczMzG",
      "execution_count": 56,
      "outputs": []
    },
    {
      "cell_type": "code",
      "source": [
        "df_servicios = pd.read_excel(io.BytesIO(uploaded['12_DICIEMBRE_2020.xlsx']), sheet_name='SERV PPROF', skiprows=5)\n",
        "df_servicios['SHEET'] = 'SERV PPROF'\n"
      ],
      "metadata": {
        "id": "RllfxlzQzdXY"
      },
      "id": "RllfxlzQzdXY",
      "execution_count": 57,
      "outputs": []
    },
    {
      "cell_type": "code",
      "source": [
        "df_comunicacion = pd.read_excel(io.BytesIO(uploaded['12_DICIEMBRE_2020.xlsx']), sheet_name='COMUNICACION', skiprows=5)\n",
        "df_comunicacion['SHEET'] = 'COMUNICACION'\n"
      ],
      "metadata": {
        "id": "ddGVl40BzvwT"
      },
      "id": "ddGVl40BzvwT",
      "execution_count": 58,
      "outputs": []
    },
    {
      "cell_type": "code",
      "source": [
        "df_personales = pd.read_excel(io.BytesIO(uploaded['12_DICIEMBRE_2020.xlsx']), sheet_name='SERV. PERS.', skiprows=5)\n",
        "df_personales['SHEET'] = 'SERV. PERS.'\n"
      ],
      "metadata": {
        "id": "R1w542yXzwwy"
      },
      "id": "R1w542yXzwwy",
      "execution_count": 59,
      "outputs": []
    },
    {
      "cell_type": "code",
      "execution_count": 60,
      "id": "0c7545e0",
      "metadata": {
        "id": "0c7545e0"
      },
      "outputs": [],
      "source": [
        "df_compras_dic = pd.concat([df_gastos_varios, df_contratistas, df_servicios, df_comunicacion, df_personales])"
      ]
    },
    {
      "cell_type": "code",
      "execution_count": 61,
      "id": "fab10a75",
      "metadata": {
        "id": "fab10a75",
        "outputId": "380a4e5c-d3ef-4deb-af06-c6ba1ddb2f18",
        "colab": {
          "base_uri": "https://localhost:8080/",
          "height": 441
        }
      },
      "outputs": [
        {
          "output_type": "execute_result",
          "data": {
            "text/plain": [
              "  NUM BEN                                    BENEFICIARIO           RFC  \\\n",
              "0  110152  LLANTAS Y SERVICIOS SERNA ANAHUAC,S.A. DE C.V.  LSS841015DV3   \n",
              "1  110152  LLANTAS Y SERVICIOS SERNA ANAHUAC,S.A. DE C.V.  LSS841015DV3   \n",
              "2  110152  LLANTAS Y SERVICIOS SERNA ANAHUAC,S.A. DE C.V.  LSS841015DV3   \n",
              "3  110152  LLANTAS Y SERVICIOS SERNA ANAHUAC,S.A. DE C.V.  LSS841015DV3   \n",
              "4  110152  LLANTAS Y SERVICIOS SERNA ANAHUAC,S.A. DE C.V.  LSS841015DV3   \n",
              "\n",
              "                  FACTURA      CONTRATO  \\\n",
              "0  LLS AF8458-158008-3972  OT. 20204373   \n",
              "1  LLS PF6916-158008-4041  OT. 20204425   \n",
              "2  LLS PF6917-158008-3975  OT. 20204376   \n",
              "3  LLS PF7004-158008-3971  OT. 20204374   \n",
              "4  LLS PF7137-158008-4554  OT. 20205130   \n",
              "\n",
              "                                            CONCEPTO TIPO         # OP  \\\n",
              "0  REEMPLAZO E INSTALACION DE AMORTIGUADORES (DEL...   TR    1019110.0   \n",
              "1  REEMPLAZO E INSTALACION DE OCHO BIRLOS Y NUEVE...   TR    1019110.0   \n",
              "2  REEMPLAZO DE DOS RINES  (17). PATRIMONIO 80383...   TR    1019110.0   \n",
              "3  REEMPLAZO DE  DOS RINES  (14). PATRIMONIO 8007...   TR    1019110.0   \n",
              "4  REEMPLAZO E INSTALACION DE RIN 14. PATRIMONIO ...   TR  299001496.0   \n",
              "\n",
              "       FECHA   IMPORTE          SHEET  \n",
              "0 2020-12-11  14911.80  GASTOS VARIOS  \n",
              "1 2020-12-11   2528.80  GASTOS VARIOS  \n",
              "2 2020-12-11   8500.02  GASTOS VARIOS  \n",
              "3 2020-12-11   2400.01  GASTOS VARIOS  \n",
              "4 2020-12-23   1537.00  GASTOS VARIOS  "
            ],
            "text/html": [
              "\n",
              "  <div id=\"df-5710857f-e04c-4abe-8a4b-d0ebc1524b81\">\n",
              "    <div class=\"colab-df-container\">\n",
              "      <div>\n",
              "<style scoped>\n",
              "    .dataframe tbody tr th:only-of-type {\n",
              "        vertical-align: middle;\n",
              "    }\n",
              "\n",
              "    .dataframe tbody tr th {\n",
              "        vertical-align: top;\n",
              "    }\n",
              "\n",
              "    .dataframe thead th {\n",
              "        text-align: right;\n",
              "    }\n",
              "</style>\n",
              "<table border=\"1\" class=\"dataframe\">\n",
              "  <thead>\n",
              "    <tr style=\"text-align: right;\">\n",
              "      <th></th>\n",
              "      <th>NUM BEN</th>\n",
              "      <th>BENEFICIARIO</th>\n",
              "      <th>RFC</th>\n",
              "      <th>FACTURA</th>\n",
              "      <th>CONTRATO</th>\n",
              "      <th>CONCEPTO</th>\n",
              "      <th>TIPO</th>\n",
              "      <th># OP</th>\n",
              "      <th>FECHA</th>\n",
              "      <th>IMPORTE</th>\n",
              "      <th>SHEET</th>\n",
              "    </tr>\n",
              "  </thead>\n",
              "  <tbody>\n",
              "    <tr>\n",
              "      <th>0</th>\n",
              "      <td>110152</td>\n",
              "      <td>LLANTAS Y SERVICIOS SERNA ANAHUAC,S.A. DE C.V.</td>\n",
              "      <td>LSS841015DV3</td>\n",
              "      <td>LLS AF8458-158008-3972</td>\n",
              "      <td>OT. 20204373</td>\n",
              "      <td>REEMPLAZO E INSTALACION DE AMORTIGUADORES (DEL...</td>\n",
              "      <td>TR</td>\n",
              "      <td>1019110.0</td>\n",
              "      <td>2020-12-11</td>\n",
              "      <td>14911.80</td>\n",
              "      <td>GASTOS VARIOS</td>\n",
              "    </tr>\n",
              "    <tr>\n",
              "      <th>1</th>\n",
              "      <td>110152</td>\n",
              "      <td>LLANTAS Y SERVICIOS SERNA ANAHUAC,S.A. DE C.V.</td>\n",
              "      <td>LSS841015DV3</td>\n",
              "      <td>LLS PF6916-158008-4041</td>\n",
              "      <td>OT. 20204425</td>\n",
              "      <td>REEMPLAZO E INSTALACION DE OCHO BIRLOS Y NUEVE...</td>\n",
              "      <td>TR</td>\n",
              "      <td>1019110.0</td>\n",
              "      <td>2020-12-11</td>\n",
              "      <td>2528.80</td>\n",
              "      <td>GASTOS VARIOS</td>\n",
              "    </tr>\n",
              "    <tr>\n",
              "      <th>2</th>\n",
              "      <td>110152</td>\n",
              "      <td>LLANTAS Y SERVICIOS SERNA ANAHUAC,S.A. DE C.V.</td>\n",
              "      <td>LSS841015DV3</td>\n",
              "      <td>LLS PF6917-158008-3975</td>\n",
              "      <td>OT. 20204376</td>\n",
              "      <td>REEMPLAZO DE DOS RINES  (17). PATRIMONIO 80383...</td>\n",
              "      <td>TR</td>\n",
              "      <td>1019110.0</td>\n",
              "      <td>2020-12-11</td>\n",
              "      <td>8500.02</td>\n",
              "      <td>GASTOS VARIOS</td>\n",
              "    </tr>\n",
              "    <tr>\n",
              "      <th>3</th>\n",
              "      <td>110152</td>\n",
              "      <td>LLANTAS Y SERVICIOS SERNA ANAHUAC,S.A. DE C.V.</td>\n",
              "      <td>LSS841015DV3</td>\n",
              "      <td>LLS PF7004-158008-3971</td>\n",
              "      <td>OT. 20204374</td>\n",
              "      <td>REEMPLAZO DE  DOS RINES  (14). PATRIMONIO 8007...</td>\n",
              "      <td>TR</td>\n",
              "      <td>1019110.0</td>\n",
              "      <td>2020-12-11</td>\n",
              "      <td>2400.01</td>\n",
              "      <td>GASTOS VARIOS</td>\n",
              "    </tr>\n",
              "    <tr>\n",
              "      <th>4</th>\n",
              "      <td>110152</td>\n",
              "      <td>LLANTAS Y SERVICIOS SERNA ANAHUAC,S.A. DE C.V.</td>\n",
              "      <td>LSS841015DV3</td>\n",
              "      <td>LLS PF7137-158008-4554</td>\n",
              "      <td>OT. 20205130</td>\n",
              "      <td>REEMPLAZO E INSTALACION DE RIN 14. PATRIMONIO ...</td>\n",
              "      <td>TR</td>\n",
              "      <td>299001496.0</td>\n",
              "      <td>2020-12-23</td>\n",
              "      <td>1537.00</td>\n",
              "      <td>GASTOS VARIOS</td>\n",
              "    </tr>\n",
              "  </tbody>\n",
              "</table>\n",
              "</div>\n",
              "      <button class=\"colab-df-convert\" onclick=\"convertToInteractive('df-5710857f-e04c-4abe-8a4b-d0ebc1524b81')\"\n",
              "              title=\"Convert this dataframe to an interactive table.\"\n",
              "              style=\"display:none;\">\n",
              "        \n",
              "  <svg xmlns=\"http://www.w3.org/2000/svg\" height=\"24px\"viewBox=\"0 0 24 24\"\n",
              "       width=\"24px\">\n",
              "    <path d=\"M0 0h24v24H0V0z\" fill=\"none\"/>\n",
              "    <path d=\"M18.56 5.44l.94 2.06.94-2.06 2.06-.94-2.06-.94-.94-2.06-.94 2.06-2.06.94zm-11 1L8.5 8.5l.94-2.06 2.06-.94-2.06-.94L8.5 2.5l-.94 2.06-2.06.94zm10 10l.94 2.06.94-2.06 2.06-.94-2.06-.94-.94-2.06-.94 2.06-2.06.94z\"/><path d=\"M17.41 7.96l-1.37-1.37c-.4-.4-.92-.59-1.43-.59-.52 0-1.04.2-1.43.59L10.3 9.45l-7.72 7.72c-.78.78-.78 2.05 0 2.83L4 21.41c.39.39.9.59 1.41.59.51 0 1.02-.2 1.41-.59l7.78-7.78 2.81-2.81c.8-.78.8-2.07 0-2.86zM5.41 20L4 18.59l7.72-7.72 1.47 1.35L5.41 20z\"/>\n",
              "  </svg>\n",
              "      </button>\n",
              "      \n",
              "  <style>\n",
              "    .colab-df-container {\n",
              "      display:flex;\n",
              "      flex-wrap:wrap;\n",
              "      gap: 12px;\n",
              "    }\n",
              "\n",
              "    .colab-df-convert {\n",
              "      background-color: #E8F0FE;\n",
              "      border: none;\n",
              "      border-radius: 50%;\n",
              "      cursor: pointer;\n",
              "      display: none;\n",
              "      fill: #1967D2;\n",
              "      height: 32px;\n",
              "      padding: 0 0 0 0;\n",
              "      width: 32px;\n",
              "    }\n",
              "\n",
              "    .colab-df-convert:hover {\n",
              "      background-color: #E2EBFA;\n",
              "      box-shadow: 0px 1px 2px rgba(60, 64, 67, 0.3), 0px 1px 3px 1px rgba(60, 64, 67, 0.15);\n",
              "      fill: #174EA6;\n",
              "    }\n",
              "\n",
              "    [theme=dark] .colab-df-convert {\n",
              "      background-color: #3B4455;\n",
              "      fill: #D2E3FC;\n",
              "    }\n",
              "\n",
              "    [theme=dark] .colab-df-convert:hover {\n",
              "      background-color: #434B5C;\n",
              "      box-shadow: 0px 1px 3px 1px rgba(0, 0, 0, 0.15);\n",
              "      filter: drop-shadow(0px 1px 2px rgba(0, 0, 0, 0.3));\n",
              "      fill: #FFFFFF;\n",
              "    }\n",
              "  </style>\n",
              "\n",
              "      <script>\n",
              "        const buttonEl =\n",
              "          document.querySelector('#df-5710857f-e04c-4abe-8a4b-d0ebc1524b81 button.colab-df-convert');\n",
              "        buttonEl.style.display =\n",
              "          google.colab.kernel.accessAllowed ? 'block' : 'none';\n",
              "\n",
              "        async function convertToInteractive(key) {\n",
              "          const element = document.querySelector('#df-5710857f-e04c-4abe-8a4b-d0ebc1524b81');\n",
              "          const dataTable =\n",
              "            await google.colab.kernel.invokeFunction('convertToInteractive',\n",
              "                                                     [key], {});\n",
              "          if (!dataTable) return;\n",
              "\n",
              "          const docLinkHtml = 'Like what you see? Visit the ' +\n",
              "            '<a target=\"_blank\" href=https://colab.research.google.com/notebooks/data_table.ipynb>data table notebook</a>'\n",
              "            + ' to learn more about interactive tables.';\n",
              "          element.innerHTML = '';\n",
              "          dataTable['output_type'] = 'display_data';\n",
              "          await google.colab.output.renderOutput(dataTable, element);\n",
              "          const docLink = document.createElement('div');\n",
              "          docLink.innerHTML = docLinkHtml;\n",
              "          element.appendChild(docLink);\n",
              "        }\n",
              "      </script>\n",
              "    </div>\n",
              "  </div>\n",
              "  "
            ]
          },
          "metadata": {},
          "execution_count": 61
        }
      ],
      "source": [
        "df_compras_dic.head(5)"
      ]
    },
    {
      "cell_type": "code",
      "execution_count": 62,
      "id": "d2e275fc",
      "metadata": {
        "id": "d2e275fc",
        "outputId": "9275862f-4d40-4833-eee7-0bab10970425",
        "colab": {
          "base_uri": "https://localhost:8080/"
        }
      },
      "outputs": [
        {
          "output_type": "execute_result",
          "data": {
            "text/plain": [
              "1774"
            ]
          },
          "metadata": {},
          "execution_count": 62
        }
      ],
      "source": [
        "len(df_compras_dic)"
      ]
    },
    {
      "cell_type": "code",
      "execution_count": 63,
      "id": "9c1d9dfd",
      "metadata": {
        "id": "9c1d9dfd"
      },
      "outputs": [],
      "source": [
        "df_compras_dic_com = df_compras_dic.dropna(how='any')"
      ]
    },
    {
      "cell_type": "code",
      "execution_count": 64,
      "id": "f0a28fc7",
      "metadata": {
        "id": "f0a28fc7",
        "outputId": "19b1d3e5-660e-4a0d-a74d-86d2dda15dd2",
        "colab": {
          "base_uri": "https://localhost:8080/"
        }
      },
      "outputs": [
        {
          "output_type": "execute_result",
          "data": {
            "text/plain": [
              "1540"
            ]
          },
          "metadata": {},
          "execution_count": 64
        }
      ],
      "source": [
        "len(df_compras_dic_com)"
      ]
    },
    {
      "cell_type": "code",
      "source": [
        "## list(df_compras_dic_com['NUM BEN'])"
      ],
      "metadata": {
        "id": "_SV-nw4n26pd"
      },
      "id": "_SV-nw4n26pd",
      "execution_count": null,
      "outputs": []
    },
    {
      "cell_type": "code",
      "execution_count": 65,
      "id": "a29e35d4",
      "metadata": {
        "id": "a29e35d4",
        "outputId": "35c44a89-00da-4c11-f9d5-6ebb6d5f5ec5",
        "colab": {
          "base_uri": "https://localhost:8080/"
        }
      },
      "outputs": [
        {
          "output_type": "execute_result",
          "data": {
            "text/plain": [
              "NUM BEN                 object\n",
              "BENEFICIARIO            object\n",
              "RFC                     object\n",
              "FACTURA                 object\n",
              "CONTRATO                object\n",
              "CONCEPTO                object\n",
              "TIPO                    object\n",
              "# OP                   float64\n",
              "FECHA           datetime64[ns]\n",
              "IMPORTE                float64\n",
              "SHEET                   object\n",
              "dtype: object"
            ]
          },
          "metadata": {},
          "execution_count": 65
        }
      ],
      "source": [
        "df_compras_dic_com.dtypes"
      ]
    },
    {
      "cell_type": "code",
      "execution_count": 69,
      "id": "704be376",
      "metadata": {
        "id": "704be376",
        "outputId": "4ac48c84-9f4f-4d32-89fd-325426585532",
        "colab": {
          "base_uri": "https://localhost:8080/"
        }
      },
      "outputs": [
        {
          "output_type": "execute_result",
          "data": {
            "text/plain": [
              "12    1540\n",
              "Name: FECHA, dtype: int64"
            ]
          },
          "metadata": {},
          "execution_count": 69
        }
      ],
      "source": [
        "df_compras_dic_com['FECHA'].apply(lambda x: x.month).value_counts()"
      ]
    },
    {
      "cell_type": "code",
      "execution_count": 70,
      "id": "eec35f0b",
      "metadata": {
        "id": "eec35f0b",
        "outputId": "c88f0d7a-9d08-4ce3-9978-04f955c8e580",
        "colab": {
          "base_uri": "https://localhost:8080/",
          "height": 441
        }
      },
      "outputs": [
        {
          "output_type": "execute_result",
          "data": {
            "text/plain": [
              "  NUM BEN                                    BENEFICIARIO           RFC  \\\n",
              "0  110152  LLANTAS Y SERVICIOS SERNA ANAHUAC,S.A. DE C.V.  LSS841015DV3   \n",
              "1  110152  LLANTAS Y SERVICIOS SERNA ANAHUAC,S.A. DE C.V.  LSS841015DV3   \n",
              "2  110152  LLANTAS Y SERVICIOS SERNA ANAHUAC,S.A. DE C.V.  LSS841015DV3   \n",
              "3  110152  LLANTAS Y SERVICIOS SERNA ANAHUAC,S.A. DE C.V.  LSS841015DV3   \n",
              "4  110152  LLANTAS Y SERVICIOS SERNA ANAHUAC,S.A. DE C.V.  LSS841015DV3   \n",
              "\n",
              "                  FACTURA      CONTRATO  \\\n",
              "0  LLS AF8458-158008-3972  OT. 20204373   \n",
              "1  LLS PF6916-158008-4041  OT. 20204425   \n",
              "2  LLS PF6917-158008-3975  OT. 20204376   \n",
              "3  LLS PF7004-158008-3971  OT. 20204374   \n",
              "4  LLS PF7137-158008-4554  OT. 20205130   \n",
              "\n",
              "                                            CONCEPTO TIPO         # OP  \\\n",
              "0  REEMPLAZO E INSTALACION DE AMORTIGUADORES (DEL...   TR    1019110.0   \n",
              "1  REEMPLAZO E INSTALACION DE OCHO BIRLOS Y NUEVE...   TR    1019110.0   \n",
              "2  REEMPLAZO DE DOS RINES  (17). PATRIMONIO 80383...   TR    1019110.0   \n",
              "3  REEMPLAZO DE  DOS RINES  (14). PATRIMONIO 8007...   TR    1019110.0   \n",
              "4  REEMPLAZO E INSTALACION DE RIN 14. PATRIMONIO ...   TR  299001496.0   \n",
              "\n",
              "       FECHA   IMPORTE          SHEET  \n",
              "0 2020-12-11  14911.80  GASTOS VARIOS  \n",
              "1 2020-12-11   2528.80  GASTOS VARIOS  \n",
              "2 2020-12-11   8500.02  GASTOS VARIOS  \n",
              "3 2020-12-11   2400.01  GASTOS VARIOS  \n",
              "4 2020-12-23   1537.00  GASTOS VARIOS  "
            ],
            "text/html": [
              "\n",
              "  <div id=\"df-92884f00-acd0-486c-9d49-7753cd510229\">\n",
              "    <div class=\"colab-df-container\">\n",
              "      <div>\n",
              "<style scoped>\n",
              "    .dataframe tbody tr th:only-of-type {\n",
              "        vertical-align: middle;\n",
              "    }\n",
              "\n",
              "    .dataframe tbody tr th {\n",
              "        vertical-align: top;\n",
              "    }\n",
              "\n",
              "    .dataframe thead th {\n",
              "        text-align: right;\n",
              "    }\n",
              "</style>\n",
              "<table border=\"1\" class=\"dataframe\">\n",
              "  <thead>\n",
              "    <tr style=\"text-align: right;\">\n",
              "      <th></th>\n",
              "      <th>NUM BEN</th>\n",
              "      <th>BENEFICIARIO</th>\n",
              "      <th>RFC</th>\n",
              "      <th>FACTURA</th>\n",
              "      <th>CONTRATO</th>\n",
              "      <th>CONCEPTO</th>\n",
              "      <th>TIPO</th>\n",
              "      <th># OP</th>\n",
              "      <th>FECHA</th>\n",
              "      <th>IMPORTE</th>\n",
              "      <th>SHEET</th>\n",
              "    </tr>\n",
              "  </thead>\n",
              "  <tbody>\n",
              "    <tr>\n",
              "      <th>0</th>\n",
              "      <td>110152</td>\n",
              "      <td>LLANTAS Y SERVICIOS SERNA ANAHUAC,S.A. DE C.V.</td>\n",
              "      <td>LSS841015DV3</td>\n",
              "      <td>LLS AF8458-158008-3972</td>\n",
              "      <td>OT. 20204373</td>\n",
              "      <td>REEMPLAZO E INSTALACION DE AMORTIGUADORES (DEL...</td>\n",
              "      <td>TR</td>\n",
              "      <td>1019110.0</td>\n",
              "      <td>2020-12-11</td>\n",
              "      <td>14911.80</td>\n",
              "      <td>GASTOS VARIOS</td>\n",
              "    </tr>\n",
              "    <tr>\n",
              "      <th>1</th>\n",
              "      <td>110152</td>\n",
              "      <td>LLANTAS Y SERVICIOS SERNA ANAHUAC,S.A. DE C.V.</td>\n",
              "      <td>LSS841015DV3</td>\n",
              "      <td>LLS PF6916-158008-4041</td>\n",
              "      <td>OT. 20204425</td>\n",
              "      <td>REEMPLAZO E INSTALACION DE OCHO BIRLOS Y NUEVE...</td>\n",
              "      <td>TR</td>\n",
              "      <td>1019110.0</td>\n",
              "      <td>2020-12-11</td>\n",
              "      <td>2528.80</td>\n",
              "      <td>GASTOS VARIOS</td>\n",
              "    </tr>\n",
              "    <tr>\n",
              "      <th>2</th>\n",
              "      <td>110152</td>\n",
              "      <td>LLANTAS Y SERVICIOS SERNA ANAHUAC,S.A. DE C.V.</td>\n",
              "      <td>LSS841015DV3</td>\n",
              "      <td>LLS PF6917-158008-3975</td>\n",
              "      <td>OT. 20204376</td>\n",
              "      <td>REEMPLAZO DE DOS RINES  (17). PATRIMONIO 80383...</td>\n",
              "      <td>TR</td>\n",
              "      <td>1019110.0</td>\n",
              "      <td>2020-12-11</td>\n",
              "      <td>8500.02</td>\n",
              "      <td>GASTOS VARIOS</td>\n",
              "    </tr>\n",
              "    <tr>\n",
              "      <th>3</th>\n",
              "      <td>110152</td>\n",
              "      <td>LLANTAS Y SERVICIOS SERNA ANAHUAC,S.A. DE C.V.</td>\n",
              "      <td>LSS841015DV3</td>\n",
              "      <td>LLS PF7004-158008-3971</td>\n",
              "      <td>OT. 20204374</td>\n",
              "      <td>REEMPLAZO DE  DOS RINES  (14). PATRIMONIO 8007...</td>\n",
              "      <td>TR</td>\n",
              "      <td>1019110.0</td>\n",
              "      <td>2020-12-11</td>\n",
              "      <td>2400.01</td>\n",
              "      <td>GASTOS VARIOS</td>\n",
              "    </tr>\n",
              "    <tr>\n",
              "      <th>4</th>\n",
              "      <td>110152</td>\n",
              "      <td>LLANTAS Y SERVICIOS SERNA ANAHUAC,S.A. DE C.V.</td>\n",
              "      <td>LSS841015DV3</td>\n",
              "      <td>LLS PF7137-158008-4554</td>\n",
              "      <td>OT. 20205130</td>\n",
              "      <td>REEMPLAZO E INSTALACION DE RIN 14. PATRIMONIO ...</td>\n",
              "      <td>TR</td>\n",
              "      <td>299001496.0</td>\n",
              "      <td>2020-12-23</td>\n",
              "      <td>1537.00</td>\n",
              "      <td>GASTOS VARIOS</td>\n",
              "    </tr>\n",
              "  </tbody>\n",
              "</table>\n",
              "</div>\n",
              "      <button class=\"colab-df-convert\" onclick=\"convertToInteractive('df-92884f00-acd0-486c-9d49-7753cd510229')\"\n",
              "              title=\"Convert this dataframe to an interactive table.\"\n",
              "              style=\"display:none;\">\n",
              "        \n",
              "  <svg xmlns=\"http://www.w3.org/2000/svg\" height=\"24px\"viewBox=\"0 0 24 24\"\n",
              "       width=\"24px\">\n",
              "    <path d=\"M0 0h24v24H0V0z\" fill=\"none\"/>\n",
              "    <path d=\"M18.56 5.44l.94 2.06.94-2.06 2.06-.94-2.06-.94-.94-2.06-.94 2.06-2.06.94zm-11 1L8.5 8.5l.94-2.06 2.06-.94-2.06-.94L8.5 2.5l-.94 2.06-2.06.94zm10 10l.94 2.06.94-2.06 2.06-.94-2.06-.94-.94-2.06-.94 2.06-2.06.94z\"/><path d=\"M17.41 7.96l-1.37-1.37c-.4-.4-.92-.59-1.43-.59-.52 0-1.04.2-1.43.59L10.3 9.45l-7.72 7.72c-.78.78-.78 2.05 0 2.83L4 21.41c.39.39.9.59 1.41.59.51 0 1.02-.2 1.41-.59l7.78-7.78 2.81-2.81c.8-.78.8-2.07 0-2.86zM5.41 20L4 18.59l7.72-7.72 1.47 1.35L5.41 20z\"/>\n",
              "  </svg>\n",
              "      </button>\n",
              "      \n",
              "  <style>\n",
              "    .colab-df-container {\n",
              "      display:flex;\n",
              "      flex-wrap:wrap;\n",
              "      gap: 12px;\n",
              "    }\n",
              "\n",
              "    .colab-df-convert {\n",
              "      background-color: #E8F0FE;\n",
              "      border: none;\n",
              "      border-radius: 50%;\n",
              "      cursor: pointer;\n",
              "      display: none;\n",
              "      fill: #1967D2;\n",
              "      height: 32px;\n",
              "      padding: 0 0 0 0;\n",
              "      width: 32px;\n",
              "    }\n",
              "\n",
              "    .colab-df-convert:hover {\n",
              "      background-color: #E2EBFA;\n",
              "      box-shadow: 0px 1px 2px rgba(60, 64, 67, 0.3), 0px 1px 3px 1px rgba(60, 64, 67, 0.15);\n",
              "      fill: #174EA6;\n",
              "    }\n",
              "\n",
              "    [theme=dark] .colab-df-convert {\n",
              "      background-color: #3B4455;\n",
              "      fill: #D2E3FC;\n",
              "    }\n",
              "\n",
              "    [theme=dark] .colab-df-convert:hover {\n",
              "      background-color: #434B5C;\n",
              "      box-shadow: 0px 1px 3px 1px rgba(0, 0, 0, 0.15);\n",
              "      filter: drop-shadow(0px 1px 2px rgba(0, 0, 0, 0.3));\n",
              "      fill: #FFFFFF;\n",
              "    }\n",
              "  </style>\n",
              "\n",
              "      <script>\n",
              "        const buttonEl =\n",
              "          document.querySelector('#df-92884f00-acd0-486c-9d49-7753cd510229 button.colab-df-convert');\n",
              "        buttonEl.style.display =\n",
              "          google.colab.kernel.accessAllowed ? 'block' : 'none';\n",
              "\n",
              "        async function convertToInteractive(key) {\n",
              "          const element = document.querySelector('#df-92884f00-acd0-486c-9d49-7753cd510229');\n",
              "          const dataTable =\n",
              "            await google.colab.kernel.invokeFunction('convertToInteractive',\n",
              "                                                     [key], {});\n",
              "          if (!dataTable) return;\n",
              "\n",
              "          const docLinkHtml = 'Like what you see? Visit the ' +\n",
              "            '<a target=\"_blank\" href=https://colab.research.google.com/notebooks/data_table.ipynb>data table notebook</a>'\n",
              "            + ' to learn more about interactive tables.';\n",
              "          element.innerHTML = '';\n",
              "          dataTable['output_type'] = 'display_data';\n",
              "          await google.colab.output.renderOutput(dataTable, element);\n",
              "          const docLink = document.createElement('div');\n",
              "          docLink.innerHTML = docLinkHtml;\n",
              "          element.appendChild(docLink);\n",
              "        }\n",
              "      </script>\n",
              "    </div>\n",
              "  </div>\n",
              "  "
            ]
          },
          "metadata": {},
          "execution_count": 70
        }
      ],
      "source": [
        "df_compras_dic_com.head(5)"
      ]
    },
    {
      "cell_type": "code",
      "execution_count": null,
      "id": "475cd3e8",
      "metadata": {
        "id": "475cd3e8"
      },
      "outputs": [],
      "source": [
        "df_compras_dic_com.to_csv('notebooks/data/clean_compras.csv', index=None)"
      ]
    }
  ],
  "metadata": {
    "kernelspec": {
      "display_name": "Python 3",
      "language": "python",
      "name": "python3"
    },
    "language_info": {
      "codemirror_mode": {
        "name": "ipython",
        "version": 3
      },
      "file_extension": ".py",
      "mimetype": "text/x-python",
      "name": "python",
      "nbconvert_exporter": "python",
      "pygments_lexer": "ipython3",
      "version": "3.7.3"
    },
    "colab": {
      "provenance": [],
      "include_colab_link": true
    }
  },
  "nbformat": 4,
  "nbformat_minor": 5
}
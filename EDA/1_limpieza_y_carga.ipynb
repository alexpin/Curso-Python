{
  "cells": [
    {
      "cell_type": "markdown",
      "metadata": {
        "id": "view-in-github",
        "colab_type": "text"
      },
      "source": [
        "<a href=\"https://colab.research.google.com/github/alexpin/Curso-Python/blob/master/EDA/1_limpieza_y_carga.ipynb\" target=\"_parent\"><img src=\"https://colab.research.google.com/assets/colab-badge.svg\" alt=\"Open In Colab\"/></a>"
      ]
    },
    {
      "cell_type": "code",
      "execution_count": null,
      "id": "79ea69cc",
      "metadata": {
        "id": "79ea69cc"
      },
      "outputs": [],
      "source": [
        "import pandas as pd"
      ]
    },
    {
      "cell_type": "code",
      "execution_count": null,
      "id": "914e82d1",
      "metadata": {
        "id": "914e82d1"
      },
      "outputs": [],
      "source": [
        "import os"
      ]
    },
    {
      "cell_type": "code",
      "execution_count": null,
      "id": "e51b1645",
      "metadata": {
        "id": "e51b1645"
      },
      "outputs": [],
      "source": [
        "os.chdir('..')"
      ]
    },
    {
      "cell_type": "code",
      "execution_count": null,
      "id": "f2dffdf3",
      "metadata": {
        "id": "f2dffdf3",
        "outputId": "a7f387fb-6847-4a3f-a64b-417b2bb32858"
      },
      "outputs": [
        {
          "name": "stdout",
          "output_type": "stream",
          "text": [
            "12_DICIEMBRE_2020.xlsx \u001b[1m\u001b[36mnotebooks\u001b[m\u001b[m              requirements.txt\n"
          ]
        }
      ],
      "source": [
        "!ls"
      ]
    },
    {
      "cell_type": "code",
      "execution_count": null,
      "id": "ef267973",
      "metadata": {
        "id": "ef267973"
      },
      "outputs": [],
      "source": [
        "df_gastos_varios = pd.read_excel('12_DICIEMBRE_2020.xlsx', sheet_name='GASTOS VARIOS', skiprows=5)\n",
        "df_gastos_varios['SHEET'] = 'GASTOS VARIOS'"
      ]
    },
    {
      "cell_type": "code",
      "execution_count": null,
      "id": "7d8ff427",
      "metadata": {
        "id": "7d8ff427"
      },
      "outputs": [],
      "source": [
        "df_contratistas = pd.read_excel('12_DICIEMBRE_2020.xlsx', sheet_name='CONTRATISTAS Y FDO FED', skiprows=5)\n",
        "df_contratistas['SHEET'] = 'CONTRATISTAS Y FDO FED'"
      ]
    },
    {
      "cell_type": "code",
      "execution_count": null,
      "id": "15a6714c",
      "metadata": {
        "id": "15a6714c"
      },
      "outputs": [],
      "source": [
        "df_servicios = pd.read_excel('12_DICIEMBRE_2020.xlsx', sheet_name='SERV PPROF', skiprows=5)\n",
        "df_servicios['SHEET'] = 'SERV PPROF'"
      ]
    },
    {
      "cell_type": "code",
      "execution_count": null,
      "id": "f93127e4",
      "metadata": {
        "id": "f93127e4"
      },
      "outputs": [],
      "source": [
        "df_comunicacion = pd.read_excel('12_DICIEMBRE_2020.xlsx', sheet_name='COMUNICACION', skiprows=5)\n",
        "df_comunicacion['SHEET'] = 'COMUNICACION'"
      ]
    },
    {
      "cell_type": "code",
      "execution_count": null,
      "id": "61b86877",
      "metadata": {
        "id": "61b86877"
      },
      "outputs": [],
      "source": [
        "df_personales = pd.read_excel('12_DICIEMBRE_2020.xlsx', sheet_name='SERV. PERS.', skiprows=5)\n",
        "df_personales['SHEET'] = 'SERV. PERS.'"
      ]
    },
    {
      "cell_type": "code",
      "execution_count": null,
      "id": "0c7545e0",
      "metadata": {
        "id": "0c7545e0"
      },
      "outputs": [],
      "source": [
        "df_compras_dic = pd.concat([df_gastos_varios, df_contratistas, df_servicios, df_comunicacion, df_personales])"
      ]
    },
    {
      "cell_type": "code",
      "execution_count": null,
      "id": "fab10a75",
      "metadata": {
        "id": "fab10a75",
        "outputId": "80d8115c-3b35-401e-c014-1cf1ebf8555f"
      },
      "outputs": [
        {
          "data": {
            "text/html": [
              "<div>\n",
              "<style scoped>\n",
              "    .dataframe tbody tr th:only-of-type {\n",
              "        vertical-align: middle;\n",
              "    }\n",
              "\n",
              "    .dataframe tbody tr th {\n",
              "        vertical-align: top;\n",
              "    }\n",
              "\n",
              "    .dataframe thead th {\n",
              "        text-align: right;\n",
              "    }\n",
              "</style>\n",
              "<table border=\"1\" class=\"dataframe\">\n",
              "  <thead>\n",
              "    <tr style=\"text-align: right;\">\n",
              "      <th></th>\n",
              "      <th>NUM BEN</th>\n",
              "      <th>BENEFICIARIO</th>\n",
              "      <th>RFC</th>\n",
              "      <th>FACTURA</th>\n",
              "      <th>CONTRATO</th>\n",
              "      <th>CONCEPTO</th>\n",
              "      <th>TIPO</th>\n",
              "      <th># OP</th>\n",
              "      <th>FECHA</th>\n",
              "      <th>IMPORTE</th>\n",
              "      <th>SHEET</th>\n",
              "    </tr>\n",
              "  </thead>\n",
              "  <tbody>\n",
              "    <tr>\n",
              "      <th>0</th>\n",
              "      <td>110152</td>\n",
              "      <td>LLANTAS Y SERVICIOS SERNA ANAHUAC,S.A. DE C.V.</td>\n",
              "      <td>LSS841015DV3</td>\n",
              "      <td>LLS AF8458-158008-3972</td>\n",
              "      <td>OT. 20204373</td>\n",
              "      <td>REEMPLAZO E INSTALACION DE AMORTIGUADORES (DEL...</td>\n",
              "      <td>TR</td>\n",
              "      <td>1019110.0</td>\n",
              "      <td>2020-12-11</td>\n",
              "      <td>14911.80</td>\n",
              "      <td>GASTOS VARIOS</td>\n",
              "    </tr>\n",
              "    <tr>\n",
              "      <th>1</th>\n",
              "      <td>110152</td>\n",
              "      <td>LLANTAS Y SERVICIOS SERNA ANAHUAC,S.A. DE C.V.</td>\n",
              "      <td>LSS841015DV3</td>\n",
              "      <td>LLS PF6916-158008-4041</td>\n",
              "      <td>OT. 20204425</td>\n",
              "      <td>REEMPLAZO E INSTALACION DE OCHO BIRLOS Y NUEVE...</td>\n",
              "      <td>TR</td>\n",
              "      <td>1019110.0</td>\n",
              "      <td>2020-12-11</td>\n",
              "      <td>2528.80</td>\n",
              "      <td>GASTOS VARIOS</td>\n",
              "    </tr>\n",
              "    <tr>\n",
              "      <th>2</th>\n",
              "      <td>110152</td>\n",
              "      <td>LLANTAS Y SERVICIOS SERNA ANAHUAC,S.A. DE C.V.</td>\n",
              "      <td>LSS841015DV3</td>\n",
              "      <td>LLS PF6917-158008-3975</td>\n",
              "      <td>OT. 20204376</td>\n",
              "      <td>REEMPLAZO DE DOS RINES  (17). PATRIMONIO 80383...</td>\n",
              "      <td>TR</td>\n",
              "      <td>1019110.0</td>\n",
              "      <td>2020-12-11</td>\n",
              "      <td>8500.02</td>\n",
              "      <td>GASTOS VARIOS</td>\n",
              "    </tr>\n",
              "    <tr>\n",
              "      <th>3</th>\n",
              "      <td>110152</td>\n",
              "      <td>LLANTAS Y SERVICIOS SERNA ANAHUAC,S.A. DE C.V.</td>\n",
              "      <td>LSS841015DV3</td>\n",
              "      <td>LLS PF7004-158008-3971</td>\n",
              "      <td>OT. 20204374</td>\n",
              "      <td>REEMPLAZO DE  DOS RINES  (14). PATRIMONIO 8007...</td>\n",
              "      <td>TR</td>\n",
              "      <td>1019110.0</td>\n",
              "      <td>2020-12-11</td>\n",
              "      <td>2400.01</td>\n",
              "      <td>GASTOS VARIOS</td>\n",
              "    </tr>\n",
              "    <tr>\n",
              "      <th>4</th>\n",
              "      <td>110152</td>\n",
              "      <td>LLANTAS Y SERVICIOS SERNA ANAHUAC,S.A. DE C.V.</td>\n",
              "      <td>LSS841015DV3</td>\n",
              "      <td>LLS PF7137-158008-4554</td>\n",
              "      <td>OT. 20205130</td>\n",
              "      <td>REEMPLAZO E INSTALACION DE RIN 14. PATRIMONIO ...</td>\n",
              "      <td>TR</td>\n",
              "      <td>299001496.0</td>\n",
              "      <td>2020-12-23</td>\n",
              "      <td>1537.00</td>\n",
              "      <td>GASTOS VARIOS</td>\n",
              "    </tr>\n",
              "  </tbody>\n",
              "</table>\n",
              "</div>"
            ],
            "text/plain": [
              "  NUM BEN                                    BENEFICIARIO           RFC  \\\n",
              "0  110152  LLANTAS Y SERVICIOS SERNA ANAHUAC,S.A. DE C.V.  LSS841015DV3   \n",
              "1  110152  LLANTAS Y SERVICIOS SERNA ANAHUAC,S.A. DE C.V.  LSS841015DV3   \n",
              "2  110152  LLANTAS Y SERVICIOS SERNA ANAHUAC,S.A. DE C.V.  LSS841015DV3   \n",
              "3  110152  LLANTAS Y SERVICIOS SERNA ANAHUAC,S.A. DE C.V.  LSS841015DV3   \n",
              "4  110152  LLANTAS Y SERVICIOS SERNA ANAHUAC,S.A. DE C.V.  LSS841015DV3   \n",
              "\n",
              "                  FACTURA      CONTRATO  \\\n",
              "0  LLS AF8458-158008-3972  OT. 20204373   \n",
              "1  LLS PF6916-158008-4041  OT. 20204425   \n",
              "2  LLS PF6917-158008-3975  OT. 20204376   \n",
              "3  LLS PF7004-158008-3971  OT. 20204374   \n",
              "4  LLS PF7137-158008-4554  OT. 20205130   \n",
              "\n",
              "                                            CONCEPTO TIPO         # OP  \\\n",
              "0  REEMPLAZO E INSTALACION DE AMORTIGUADORES (DEL...   TR    1019110.0   \n",
              "1  REEMPLAZO E INSTALACION DE OCHO BIRLOS Y NUEVE...   TR    1019110.0   \n",
              "2  REEMPLAZO DE DOS RINES  (17). PATRIMONIO 80383...   TR    1019110.0   \n",
              "3  REEMPLAZO DE  DOS RINES  (14). PATRIMONIO 8007...   TR    1019110.0   \n",
              "4  REEMPLAZO E INSTALACION DE RIN 14. PATRIMONIO ...   TR  299001496.0   \n",
              "\n",
              "       FECHA   IMPORTE          SHEET  \n",
              "0 2020-12-11  14911.80  GASTOS VARIOS  \n",
              "1 2020-12-11   2528.80  GASTOS VARIOS  \n",
              "2 2020-12-11   8500.02  GASTOS VARIOS  \n",
              "3 2020-12-11   2400.01  GASTOS VARIOS  \n",
              "4 2020-12-23   1537.00  GASTOS VARIOS  "
            ]
          },
          "execution_count": 17,
          "metadata": {},
          "output_type": "execute_result"
        }
      ],
      "source": [
        "df_compras_dic.head(5)"
      ]
    },
    {
      "cell_type": "code",
      "execution_count": null,
      "id": "d2e275fc",
      "metadata": {
        "id": "d2e275fc",
        "outputId": "542d93af-9201-457e-a739-62331b188b1f"
      },
      "outputs": [
        {
          "data": {
            "text/plain": [
              "1774"
            ]
          },
          "execution_count": 18,
          "metadata": {},
          "output_type": "execute_result"
        }
      ],
      "source": [
        "len(df_compras_dic)"
      ]
    },
    {
      "cell_type": "code",
      "execution_count": null,
      "id": "9c1d9dfd",
      "metadata": {
        "id": "9c1d9dfd"
      },
      "outputs": [],
      "source": [
        "df_compras_dic_com = df_compras_dic.dropna(how='any')"
      ]
    },
    {
      "cell_type": "code",
      "execution_count": null,
      "id": "f0a28fc7",
      "metadata": {
        "id": "f0a28fc7",
        "outputId": "42666585-4569-4376-b720-c24804069032"
      },
      "outputs": [
        {
          "data": {
            "text/plain": [
              "1540"
            ]
          },
          "execution_count": 28,
          "metadata": {},
          "output_type": "execute_result"
        }
      ],
      "source": [
        "len(df_compras_dic_com)"
      ]
    },
    {
      "cell_type": "code",
      "execution_count": null,
      "id": "a29e35d4",
      "metadata": {
        "id": "a29e35d4",
        "outputId": "1e57c95f-5136-4503-d79b-92069b408092"
      },
      "outputs": [
        {
          "data": {
            "text/plain": [
              "NUM BEN                 object\n",
              "BENEFICIARIO            object\n",
              "RFC                     object\n",
              "FACTURA                 object\n",
              "CONTRATO                object\n",
              "CONCEPTO                object\n",
              "TIPO                    object\n",
              "# OP                   float64\n",
              "FECHA           datetime64[ns]\n",
              "IMPORTE                float64\n",
              "SHEET                   object\n",
              "dtype: object"
            ]
          },
          "execution_count": 30,
          "metadata": {},
          "output_type": "execute_result"
        }
      ],
      "source": [
        "df_compras_dic_com.dtypes"
      ]
    },
    {
      "cell_type": "code",
      "execution_count": null,
      "id": "704be376",
      "metadata": {
        "id": "704be376",
        "outputId": "e443781e-55a4-4362-8b31-2cf7487b107d"
      },
      "outputs": [
        {
          "data": {
            "text/plain": [
              "12    1540\n",
              "Name: FECHA, dtype: int64"
            ]
          },
          "execution_count": 31,
          "metadata": {},
          "output_type": "execute_result"
        }
      ],
      "source": [
        "df_compras_dic_com['FECHA'].apply(lambda x: x.month).value_counts()"
      ]
    },
    {
      "cell_type": "code",
      "execution_count": null,
      "id": "eec35f0b",
      "metadata": {
        "id": "eec35f0b",
        "outputId": "75b6e1d1-f209-47f2-a8b9-b8ad1febd926"
      },
      "outputs": [
        {
          "data": {
            "text/html": [
              "<div>\n",
              "<style scoped>\n",
              "    .dataframe tbody tr th:only-of-type {\n",
              "        vertical-align: middle;\n",
              "    }\n",
              "\n",
              "    .dataframe tbody tr th {\n",
              "        vertical-align: top;\n",
              "    }\n",
              "\n",
              "    .dataframe thead th {\n",
              "        text-align: right;\n",
              "    }\n",
              "</style>\n",
              "<table border=\"1\" class=\"dataframe\">\n",
              "  <thead>\n",
              "    <tr style=\"text-align: right;\">\n",
              "      <th></th>\n",
              "      <th>NUM BEN</th>\n",
              "      <th>BENEFICIARIO</th>\n",
              "      <th>RFC</th>\n",
              "      <th>FACTURA</th>\n",
              "      <th>CONTRATO</th>\n",
              "      <th>CONCEPTO</th>\n",
              "      <th>TIPO</th>\n",
              "      <th># OP</th>\n",
              "      <th>FECHA</th>\n",
              "      <th>IMPORTE</th>\n",
              "      <th>SHEET</th>\n",
              "    </tr>\n",
              "  </thead>\n",
              "  <tbody>\n",
              "    <tr>\n",
              "      <th>0</th>\n",
              "      <td>110152</td>\n",
              "      <td>LLANTAS Y SERVICIOS SERNA ANAHUAC,S.A. DE C.V.</td>\n",
              "      <td>LSS841015DV3</td>\n",
              "      <td>LLS AF8458-158008-3972</td>\n",
              "      <td>OT. 20204373</td>\n",
              "      <td>REEMPLAZO E INSTALACION DE AMORTIGUADORES (DEL...</td>\n",
              "      <td>TR</td>\n",
              "      <td>1019110.0</td>\n",
              "      <td>2020-12-11</td>\n",
              "      <td>14911.80</td>\n",
              "      <td>GASTOS VARIOS</td>\n",
              "    </tr>\n",
              "    <tr>\n",
              "      <th>1</th>\n",
              "      <td>110152</td>\n",
              "      <td>LLANTAS Y SERVICIOS SERNA ANAHUAC,S.A. DE C.V.</td>\n",
              "      <td>LSS841015DV3</td>\n",
              "      <td>LLS PF6916-158008-4041</td>\n",
              "      <td>OT. 20204425</td>\n",
              "      <td>REEMPLAZO E INSTALACION DE OCHO BIRLOS Y NUEVE...</td>\n",
              "      <td>TR</td>\n",
              "      <td>1019110.0</td>\n",
              "      <td>2020-12-11</td>\n",
              "      <td>2528.80</td>\n",
              "      <td>GASTOS VARIOS</td>\n",
              "    </tr>\n",
              "    <tr>\n",
              "      <th>2</th>\n",
              "      <td>110152</td>\n",
              "      <td>LLANTAS Y SERVICIOS SERNA ANAHUAC,S.A. DE C.V.</td>\n",
              "      <td>LSS841015DV3</td>\n",
              "      <td>LLS PF6917-158008-3975</td>\n",
              "      <td>OT. 20204376</td>\n",
              "      <td>REEMPLAZO DE DOS RINES  (17). PATRIMONIO 80383...</td>\n",
              "      <td>TR</td>\n",
              "      <td>1019110.0</td>\n",
              "      <td>2020-12-11</td>\n",
              "      <td>8500.02</td>\n",
              "      <td>GASTOS VARIOS</td>\n",
              "    </tr>\n",
              "    <tr>\n",
              "      <th>3</th>\n",
              "      <td>110152</td>\n",
              "      <td>LLANTAS Y SERVICIOS SERNA ANAHUAC,S.A. DE C.V.</td>\n",
              "      <td>LSS841015DV3</td>\n",
              "      <td>LLS PF7004-158008-3971</td>\n",
              "      <td>OT. 20204374</td>\n",
              "      <td>REEMPLAZO DE  DOS RINES  (14). PATRIMONIO 8007...</td>\n",
              "      <td>TR</td>\n",
              "      <td>1019110.0</td>\n",
              "      <td>2020-12-11</td>\n",
              "      <td>2400.01</td>\n",
              "      <td>GASTOS VARIOS</td>\n",
              "    </tr>\n",
              "    <tr>\n",
              "      <th>4</th>\n",
              "      <td>110152</td>\n",
              "      <td>LLANTAS Y SERVICIOS SERNA ANAHUAC,S.A. DE C.V.</td>\n",
              "      <td>LSS841015DV3</td>\n",
              "      <td>LLS PF7137-158008-4554</td>\n",
              "      <td>OT. 20205130</td>\n",
              "      <td>REEMPLAZO E INSTALACION DE RIN 14. PATRIMONIO ...</td>\n",
              "      <td>TR</td>\n",
              "      <td>299001496.0</td>\n",
              "      <td>2020-12-23</td>\n",
              "      <td>1537.00</td>\n",
              "      <td>GASTOS VARIOS</td>\n",
              "    </tr>\n",
              "  </tbody>\n",
              "</table>\n",
              "</div>"
            ],
            "text/plain": [
              "  NUM BEN                                    BENEFICIARIO           RFC  \\\n",
              "0  110152  LLANTAS Y SERVICIOS SERNA ANAHUAC,S.A. DE C.V.  LSS841015DV3   \n",
              "1  110152  LLANTAS Y SERVICIOS SERNA ANAHUAC,S.A. DE C.V.  LSS841015DV3   \n",
              "2  110152  LLANTAS Y SERVICIOS SERNA ANAHUAC,S.A. DE C.V.  LSS841015DV3   \n",
              "3  110152  LLANTAS Y SERVICIOS SERNA ANAHUAC,S.A. DE C.V.  LSS841015DV3   \n",
              "4  110152  LLANTAS Y SERVICIOS SERNA ANAHUAC,S.A. DE C.V.  LSS841015DV3   \n",
              "\n",
              "                  FACTURA      CONTRATO  \\\n",
              "0  LLS AF8458-158008-3972  OT. 20204373   \n",
              "1  LLS PF6916-158008-4041  OT. 20204425   \n",
              "2  LLS PF6917-158008-3975  OT. 20204376   \n",
              "3  LLS PF7004-158008-3971  OT. 20204374   \n",
              "4  LLS PF7137-158008-4554  OT. 20205130   \n",
              "\n",
              "                                            CONCEPTO TIPO         # OP  \\\n",
              "0  REEMPLAZO E INSTALACION DE AMORTIGUADORES (DEL...   TR    1019110.0   \n",
              "1  REEMPLAZO E INSTALACION DE OCHO BIRLOS Y NUEVE...   TR    1019110.0   \n",
              "2  REEMPLAZO DE DOS RINES  (17). PATRIMONIO 80383...   TR    1019110.0   \n",
              "3  REEMPLAZO DE  DOS RINES  (14). PATRIMONIO 8007...   TR    1019110.0   \n",
              "4  REEMPLAZO E INSTALACION DE RIN 14. PATRIMONIO ...   TR  299001496.0   \n",
              "\n",
              "       FECHA   IMPORTE          SHEET  \n",
              "0 2020-12-11  14911.80  GASTOS VARIOS  \n",
              "1 2020-12-11   2528.80  GASTOS VARIOS  \n",
              "2 2020-12-11   8500.02  GASTOS VARIOS  \n",
              "3 2020-12-11   2400.01  GASTOS VARIOS  \n",
              "4 2020-12-23   1537.00  GASTOS VARIOS  "
            ]
          },
          "execution_count": 32,
          "metadata": {},
          "output_type": "execute_result"
        }
      ],
      "source": [
        "df_compras_dic_com.head(5)"
      ]
    },
    {
      "cell_type": "code",
      "execution_count": null,
      "id": "475cd3e8",
      "metadata": {
        "id": "475cd3e8"
      },
      "outputs": [],
      "source": [
        "df_compras_dic_com.to_csv('notebooks/data/clean_compras.csv', index=None)"
      ]
    }
  ],
  "metadata": {
    "kernelspec": {
      "display_name": "Python 3",
      "language": "python",
      "name": "python3"
    },
    "language_info": {
      "codemirror_mode": {
        "name": "ipython",
        "version": 3
      },
      "file_extension": ".py",
      "mimetype": "text/x-python",
      "name": "python",
      "nbconvert_exporter": "python",
      "pygments_lexer": "ipython3",
      "version": "3.7.3"
    },
    "colab": {
      "provenance": [],
      "include_colab_link": true
    }
  },
  "nbformat": 4,
  "nbformat_minor": 5
}
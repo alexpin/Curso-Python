{
  "cells": [
    {
      "cell_type": "markdown",
      "metadata": {
        "id": "view-in-github",
        "colab_type": "text"
      },
      "source": [
        "<a href=\"https://colab.research.google.com/github/alexpin/Curso-Python/blob/master/EDA/3_enriquecimiento.ipynb\" target=\"_parent\"><img src=\"https://colab.research.google.com/assets/colab-badge.svg\" alt=\"Open In Colab\"/></a>"
      ]
    },
    {
      "cell_type": "code",
      "execution_count": null,
      "id": "57170954",
      "metadata": {
        "id": "57170954"
      },
      "outputs": [],
      "source": [
        "%matplotlib inline\n",
        "import pandas as pd"
      ]
    },
    {
      "cell_type": "code",
      "source": [
        "from google.colab import drive\n",
        "drive.mount('/content/drive') "
      ],
      "metadata": {
        "colab": {
          "base_uri": "https://localhost:8080/"
        },
        "id": "osBMfosMgY0N",
        "outputId": "fbd843dd-8ce6-4f8b-c360-431e150768ac"
      },
      "id": "osBMfosMgY0N",
      "execution_count": null,
      "outputs": [
        {
          "output_type": "stream",
          "name": "stdout",
          "text": [
            "Mounted at /content/drive\n"
          ]
        }
      ]
    },
    {
      "cell_type": "code",
      "execution_count": null,
      "id": "6d0b5e0e",
      "metadata": {
        "id": "6d0b5e0e"
      },
      "outputs": [],
      "source": [
        "compras_df = pd.read_csv('/content/drive/My Drive/Proyectos de datos/notebooks/data/clean_compras.csv')"
      ]
    },
    {
      "cell_type": "code",
      "execution_count": null,
      "id": "f3c03c33",
      "metadata": {
        "id": "f3c03c33",
        "outputId": "e21ce806-4d7a-4cc0-fb2b-2ae59cbaef98"
      },
      "outputs": [
        {
          "data": {
            "text/plain": [
              "NUM BEN           int64\n",
              "BENEFICIARIO     object\n",
              "RFC              object\n",
              "FACTURA          object\n",
              "CONTRATO         object\n",
              "CONCEPTO         object\n",
              "TIPO             object\n",
              "# OP            float64\n",
              "FECHA            object\n",
              "IMPORTE         float64\n",
              "SHEET            object\n",
              "dtype: object"
            ]
          },
          "execution_count": 4,
          "metadata": {},
          "output_type": "execute_result"
        }
      ],
      "source": [
        "compras_df.dtypes"
      ]
    },
    {
      "cell_type": "markdown",
      "id": "64b22fb8",
      "metadata": {
        "id": "64b22fb8"
      },
      "source": [
        "## Empezamos con una expansion de datos que tenemos, fecha por ejemplo"
      ]
    },
    {
      "cell_type": "code",
      "execution_count": null,
      "id": "53ae446e",
      "metadata": {
        "id": "53ae446e"
      },
      "outputs": [],
      "source": [
        "compras_df['FECHA'] = pd.to_datetime(compras_df['FECHA'])"
      ]
    },
    {
      "cell_type": "code",
      "execution_count": null,
      "id": "e3795b33",
      "metadata": {
        "id": "e3795b33"
      },
      "outputs": [],
      "source": [
        "compras_df['DIA'] = compras_df['FECHA'].apply(lambda x: x.day)"
      ]
    },
    {
      "cell_type": "code",
      "execution_count": null,
      "id": "81986fd0",
      "metadata": {
        "id": "81986fd0"
      },
      "outputs": [],
      "source": [
        "compras_df['MES'] = compras_df['FECHA'].apply(lambda x: x.month)"
      ]
    },
    {
      "cell_type": "code",
      "execution_count": null,
      "id": "12501112",
      "metadata": {
        "id": "12501112"
      },
      "outputs": [],
      "source": [
        "compras_df['ANO'] = compras_df['FECHA'].apply(lambda x: x.year)"
      ]
    },
    {
      "cell_type": "markdown",
      "id": "49d0bd68",
      "metadata": {
        "id": "49d0bd68"
      },
      "source": [
        "## Proyectemos unas variables contra otras"
      ]
    },
    {
      "cell_type": "code",
      "execution_count": null,
      "id": "df66fb7e",
      "metadata": {
        "id": "df66fb7e"
      },
      "outputs": [],
      "source": [
        "beneficiario_sales = compras_df['BENEFICIARIO'].value_counts().to_dict()"
      ]
    },
    {
      "cell_type": "code",
      "execution_count": null,
      "id": "3c8ae679",
      "metadata": {
        "colab": {
          "base_uri": "https://localhost:8080/"
        },
        "id": "3c8ae679",
        "outputId": "f627deea-672f-4ce1-de0b-d2c29dcc2148"
      },
      "outputs": [
        {
          "output_type": "execute_result",
          "data": {
            "text/plain": [
              "['CAMARA MEXICANA DE LA INDUSTRIA DE LA CONSTRUCCION',\n",
              " 'AUTOKAM REGIOMONTANA,S.A.DE C.V.',\n",
              " 'CAR ONE MONTERREY, S.A. DE C.V.',\n",
              " 'PEREZ RIOS RAMIRO',\n",
              " 'S.I.M.E.P.R.O.D.E.']"
            ]
          },
          "metadata": {},
          "execution_count": 11
        }
      ],
      "source": [
        "list(beneficiario_sales.keys())[0:5]"
      ]
    },
    {
      "cell_type": "code",
      "execution_count": null,
      "id": "7c6ef6db",
      "metadata": {
        "id": "7c6ef6db"
      },
      "outputs": [],
      "source": [
        "compras_df['BENEFICIARIO_SALES'] = compras_df['BENEFICIARIO'].apply(lambda x: beneficiario_sales[x]) "
      ]
    },
    {
      "cell_type": "code",
      "execution_count": null,
      "id": "bd5cfe7b",
      "metadata": {
        "id": "bd5cfe7b"
      },
      "outputs": [],
      "source": [
        "sheet_mean_compras = compras_df.groupby('SHEET')['IMPORTE'].mean()"
      ]
    },
    {
      "cell_type": "code",
      "execution_count": null,
      "id": "ba68c471",
      "metadata": {
        "colab": {
          "base_uri": "https://localhost:8080/"
        },
        "id": "ba68c471",
        "outputId": "4ef6853b-1653-4881-b4c6-44dc943b6bf1"
      },
      "outputs": [
        {
          "output_type": "execute_result",
          "data": {
            "text/plain": [
              "SHEET\n",
              "COMUNICACION              109705.343662\n",
              "CONTRATISTAS Y FDO FED    474566.765787\n",
              "GASTOS VARIOS             881659.731797\n",
              "SERV PPROF                229592.166667\n",
              "SERV. PERS.                59623.405217\n",
              "Name: IMPORTE, dtype: float64"
            ]
          },
          "metadata": {},
          "execution_count": 14
        }
      ],
      "source": [
        "sheet_mean_compras"
      ]
    },
    {
      "cell_type": "code",
      "execution_count": null,
      "id": "4b8810d8",
      "metadata": {
        "colab": {
          "base_uri": "https://localhost:8080/"
        },
        "id": "4b8810d8",
        "outputId": "cd3bbeee-6b9e-4359-a9ce-452626c5785f"
      },
      "outputs": [
        {
          "output_type": "execute_result",
          "data": {
            "text/plain": [
              "{'COMUNICACION': 109705.34366197183,\n",
              " 'CONTRATISTAS Y FDO FED': 474566.76578729285,\n",
              " 'GASTOS VARIOS': 881659.7317971016,\n",
              " 'SERV PPROF': 229592.16666666666,\n",
              " 'SERV. PERS.': 59623.40521739131}"
            ]
          },
          "metadata": {},
          "execution_count": 15
        }
      ],
      "source": [
        "sheet_mean_compras.to_dict()"
      ]
    },
    {
      "cell_type": "code",
      "execution_count": null,
      "id": "11d6386c",
      "metadata": {
        "id": "11d6386c"
      },
      "outputs": [],
      "source": [
        "compras_df['IMPORTE_GASTO_PROMEDIO'] = compras_df['SHEET'].apply(lambda x: sheet_mean_compras[x]) "
      ]
    },
    {
      "cell_type": "markdown",
      "id": "9d22918a",
      "metadata": {
        "id": "9d22918a"
      },
      "source": [
        "## Traernos informacion externa, enriquecer los datos usando una tool de paginas de linkedin"
      ]
    },
    {
      "cell_type": "code",
      "execution_count": null,
      "id": "b39ff930",
      "metadata": {
        "id": "b39ff930"
      },
      "outputs": [],
      "source": [
        "pd.DataFrame(compras_df['BENEFICIARIO'].unique()).to_csv('/content/drive/My Drive/Proyectos de datos/notebooks/data/unique_beneficiarios.csv', index=None)"
      ]
    },
    {
      "cell_type": "code",
      "execution_count": null,
      "id": "1be222e5",
      "metadata": {
        "id": "1be222e5"
      },
      "outputs": [],
      "source": [
        "#Cargar\n",
        "linkedin_mty = pd.read_csv('/content/drive/My Drive/Proyectos de datos/notebooks/data/linkedin_mty.csv')"
      ]
    },
    {
      "cell_type": "code",
      "execution_count": null,
      "id": "16b03f36",
      "metadata": {
        "id": "16b03f36"
      },
      "outputs": [],
      "source": [
        "has_site = {}\n",
        "for i, ele in linkedin_mty.fillna(True).iterrows():\n",
        "    has_site[ele['query']] = True if ele['error'] == True else False"
      ]
    },
    {
      "cell_type": "code",
      "execution_count": null,
      "id": "722217e6",
      "metadata": {
        "id": "722217e6"
      },
      "outputs": [],
      "source": [
        "compras_df['HAS_LINKEDIN_SITE'] = compras_df['BENEFICIARIO'].apply(lambda x: has_site[x.replace('  ', ' ')])"
      ]
    },
    {
      "cell_type": "code",
      "execution_count": null,
      "id": "87a3b4d9",
      "metadata": {
        "colab": {
          "base_uri": "https://localhost:8080/"
        },
        "id": "87a3b4d9",
        "outputId": "5c3eea67-e2d8-4da8-b54c-ad4c7495e19f"
      },
      "outputs": [
        {
          "output_type": "execute_result",
          "data": {
            "text/plain": [
              "0       True\n",
              "1       True\n",
              "2       True\n",
              "3       True\n",
              "4       True\n",
              "        ... \n",
              "1535    True\n",
              "1536    True\n",
              "1537    True\n",
              "1538    True\n",
              "1539    True\n",
              "Name: HAS_LINKEDIN_SITE, Length: 1540, dtype: bool"
            ]
          },
          "metadata": {},
          "execution_count": 30
        }
      ],
      "source": [
        "compras_df['HAS_LINKEDIN_SITE'] "
      ]
    },
    {
      "cell_type": "code",
      "execution_count": null,
      "id": "09f007c2",
      "metadata": {
        "colab": {
          "base_uri": "https://localhost:8080/"
        },
        "id": "09f007c2",
        "outputId": "65e93f73-b5de-46f5-d46f-45d9d0c1707f"
      },
      "outputs": [
        {
          "output_type": "execute_result",
          "data": {
            "text/plain": [
              "True     1392\n",
              "False     148\n",
              "Name: HAS_LINKEDIN_SITE, dtype: int64"
            ]
          },
          "metadata": {},
          "execution_count": 31
        }
      ],
      "source": [
        "compras_df['HAS_LINKEDIN_SITE'].value_counts()"
      ]
    },
    {
      "cell_type": "code",
      "source": [],
      "metadata": {
        "id": "Cq5Yw_tKo_og"
      },
      "id": "Cq5Yw_tKo_og",
      "execution_count": null,
      "outputs": []
    },
    {
      "cell_type": "code",
      "execution_count": null,
      "id": "20e7e2e1",
      "metadata": {
        "id": "20e7e2e1"
      },
      "outputs": [],
      "source": [
        "compras_df.to_csv('/content/drive/My Drive/Proyectos de datos/notebooks/data/compras_df_enriched.csv', index=None)"
      ]
    }
  ],
  "metadata": {
    "kernelspec": {
      "display_name": "Python 3",
      "language": "python",
      "name": "python3"
    },
    "language_info": {
      "codemirror_mode": {
        "name": "ipython",
        "version": 3
      },
      "file_extension": ".py",
      "mimetype": "text/x-python",
      "name": "python",
      "nbconvert_exporter": "python",
      "pygments_lexer": "ipython3",
      "version": "3.7.3"
    },
    "colab": {
      "provenance": [],
      "include_colab_link": true
    }
  },
  "nbformat": 4,
  "nbformat_minor": 5
}
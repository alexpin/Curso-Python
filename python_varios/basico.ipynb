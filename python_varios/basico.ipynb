{
 "cells": [
  {
   "cell_type": "code",
   "execution_count": null,
   "metadata": {},
   "outputs": [],
   "source": []
  },
  {
   "cell_type": "code",
   "execution_count": 2,
   "metadata": {},
   "outputs": [],
   "source": [
    "nombre = 'Alexander'\n",
    "apellido = 'Pino'\n",
    "edad = 53"
   ]
  },
  {
   "cell_type": "code",
   "execution_count": 4,
   "metadata": {},
   "outputs": [],
   "source": [
    "datos_completos = f'Mi nombre es {nombre} mi apellido es {apellido} y tengo {edad} de edad'"
   ]
  },
  {
   "cell_type": "code",
   "execution_count": 5,
   "metadata": {},
   "outputs": [
    {
     "name": "stdout",
     "output_type": "stream",
     "text": [
      "Los datos completos son:  Mi nombre es Alexander mi apellido es Pino y tengo 53 de edad\n"
     ]
    }
   ],
   "source": [
    "print('Los datos completos son: ', datos_completos)"
   ]
  },
  {
   "cell_type": "code",
   "execution_count": 2,
   "metadata": {},
   "outputs": [],
   "source": [
    "lives = 3"
   ]
  },
  {
   "cell_type": "code",
   "execution_count": 3,
   "metadata": {},
   "outputs": [
    {
     "name": "stdout",
     "output_type": "stream",
     "text": [
      "<class 'int'> 3\n"
     ]
    }
   ],
   "source": [
    "print(type(lives), lives)"
   ]
  },
  {
   "cell_type": "code",
   "execution_count": 6,
   "metadata": {},
   "outputs": [
    {
     "name": "stdout",
     "output_type": "stream",
     "text": [
      "4.5e+39\n"
     ]
    }
   ],
   "source": [
    "numer = 4500000000000000000000000000000000000000.1\n",
    "print(numer)"
   ]
  },
  {
   "cell_type": "code",
   "execution_count": 7,
   "metadata": {},
   "outputs": [
    {
     "name": "stdout",
     "output_type": "stream",
     "text": [
      "3366.6666666666665\n"
     ]
    }
   ],
   "source": [
    "p_enero = 3000\n",
    "p_febrero = 2800\n",
    "p_marzo = 4300\n",
    "\n",
    "promedio = (p_enero + p_febrero + p_marzo)/3\n",
    "\n",
    "print(promedio)"
   ]
  },
  {
   "cell_type": "code",
   "execution_count": 10,
   "metadata": {},
   "outputs": [
    {
     "name": "stdout",
     "output_type": "stream",
     "text": [
      "True False True\n"
     ]
    }
   ],
   "source": [
    "print(bool(True), bool(0), bool(-1))"
   ]
  },
  {
   "cell_type": "code",
   "execution_count": null,
   "metadata": {},
   "outputs": [],
   "source": [
    "\n",
    "print('Hola' * 3)\n"
   ]
  },
  {
   "cell_type": "code",
   "execution_count": 1,
   "metadata": {},
   "outputs": [
    {
     "name": "stdout",
     "output_type": "stream",
     "text": [
      "1\n",
      "3\n",
      "8\n"
     ]
    }
   ],
   "source": [
    "print(10 % 3)\n",
    "print(10 // 3)\n",
    "print(2 ** 3)"
   ]
  },
  {
   "cell_type": "markdown",
   "metadata": {},
   "source": [
    "Orden de resolución matematica \n",
    "\n",
    "Parentesis, exponentes, multiplicación, división, adición, sustracción"
   ]
  },
  {
   "cell_type": "code",
   "execution_count": 1,
   "metadata": {},
   "outputs": [
    {
     "name": "stdout",
     "output_type": "stream",
     "text": [
      "10\n",
      "Es par\n"
     ]
    }
   ],
   "source": [
    "number = '10'\n",
    "print(number)\n",
    "\n",
    "divisor = int(number)\n",
    "\n",
    "if divisor % 2 == 0:\n",
    "    print('Es par')\n",
    "else:\n",
    "    print('Es impar')\n",
    "\n",
    "    "
   ]
  },
  {
   "cell_type": "code",
   "execution_count": 10,
   "metadata": {},
   "outputs": [
    {
     "name": "stdout",
     "output_type": "stream",
     "text": [
      "True\n",
      "29\n",
      "Ella sabe programar en Python\n",
      "ELLA SABE PROGRAMAR EN PYTHON\n",
      "ella sabe programar en python\n",
      "4\n",
      "eLLA SABE PROGRAMAR EN pYTHON\n",
      "True\n",
      "False\n",
      "Ella sabe programar en Go\n"
     ]
    }
   ],
   "source": [
    "text = 'Ella sabe programar en Python'\n",
    "\n",
    "print('Python' in text)\n",
    "\n",
    "size = len(text)\n",
    "print(size)\n",
    "\n",
    "print(text)\n",
    "print(text.upper())\n",
    "print(text.lower())\n",
    "print(text.count('a'))\n",
    "print(text.swapcase())\n",
    "print(text.startswith('Ella'))\n",
    "print(text.endswith('Rust'))\n",
    "print(text.replace('Python', 'Go'))"
   ]
  },
  {
   "cell_type": "code",
   "execution_count": 14,
   "metadata": {},
   "outputs": [
    {
     "name": "stdout",
     "output_type": "stream",
     "text": [
      "este es un titulo\n",
      "Este es un titulo\n",
      "Este Es Un Titulo\n",
      "False\n"
     ]
    }
   ],
   "source": [
    "text_2 = 'este es un titulo'\n",
    "print(text_2)\n",
    "print(text_2.capitalize())\n",
    "print(text_2.title())\n",
    "print(text_2.isdigit())\n"
   ]
  }
 ],
 "metadata": {
  "kernelspec": {
   "display_name": "Python 3",
   "language": "python",
   "name": "python3"
  },
  "language_info": {
   "codemirror_mode": {
    "name": "ipython",
    "version": 3
   },
   "file_extension": ".py",
   "mimetype": "text/x-python",
   "name": "python",
   "nbconvert_exporter": "python",
   "pygments_lexer": "ipython3",
   "version": "3.11.4"
  }
 },
 "nbformat": 4,
 "nbformat_minor": 2
}

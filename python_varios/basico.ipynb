{
 "cells": [
  {
   "cell_type": "code",
   "execution_count": null,
   "metadata": {},
   "outputs": [],
   "source": []
  },
  {
   "cell_type": "code",
   "execution_count": 2,
   "metadata": {},
   "outputs": [],
   "source": [
    "nombre = 'Alexander'\n",
    "apellido = 'Pino'\n",
    "edad = 53"
   ]
  },
  {
   "cell_type": "code",
   "execution_count": 4,
   "metadata": {},
   "outputs": [],
   "source": [
    "datos_completos = f'Mi nombre es {nombre} mi apellido es {apellido} y tengo {edad} de edad'"
   ]
  },
  {
   "cell_type": "code",
   "execution_count": 5,
   "metadata": {},
   "outputs": [
    {
     "name": "stdout",
     "output_type": "stream",
     "text": [
      "Los datos completos son:  Mi nombre es Alexander mi apellido es Pino y tengo 53 de edad\n"
     ]
    }
   ],
   "source": [
    "print('Los datos completos son: ', datos_completos)"
   ]
  },
  {
   "cell_type": "code",
   "execution_count": 2,
   "metadata": {},
   "outputs": [],
   "source": [
    "lives = 3"
   ]
  },
  {
   "cell_type": "code",
   "execution_count": 3,
   "metadata": {},
   "outputs": [
    {
     "name": "stdout",
     "output_type": "stream",
     "text": [
      "<class 'int'> 3\n"
     ]
    }
   ],
   "source": [
    "print(type(lives), lives)"
   ]
  },
  {
   "cell_type": "code",
   "execution_count": 6,
   "metadata": {},
   "outputs": [
    {
     "name": "stdout",
     "output_type": "stream",
     "text": [
      "4.5e+39\n"
     ]
    }
   ],
   "source": [
    "numer = 4500000000000000000000000000000000000000.1\n",
    "print(numer)"
   ]
  },
  {
   "cell_type": "code",
   "execution_count": 7,
   "metadata": {},
   "outputs": [
    {
     "name": "stdout",
     "output_type": "stream",
     "text": [
      "3366.6666666666665\n"
     ]
    }
   ],
   "source": [
    "p_enero = 3000\n",
    "p_febrero = 2800\n",
    "p_marzo = 4300\n",
    "\n",
    "promedio = (p_enero + p_febrero + p_marzo)/3\n",
    "\n",
    "print(promedio)"
   ]
  },
  {
   "cell_type": "code",
   "execution_count": 10,
   "metadata": {},
   "outputs": [
    {
     "name": "stdout",
     "output_type": "stream",
     "text": [
      "True False True\n"
     ]
    }
   ],
   "source": [
    "print(bool(True), bool(0), bool(-1))"
   ]
  },
  {
   "cell_type": "code",
   "execution_count": null,
   "metadata": {},
   "outputs": [],
   "source": [
    "\n",
    "print('Hola' * 3)\n"
   ]
  },
  {
   "cell_type": "code",
   "execution_count": 1,
   "metadata": {},
   "outputs": [
    {
     "name": "stdout",
     "output_type": "stream",
     "text": [
      "1\n",
      "3\n",
      "8\n"
     ]
    }
   ],
   "source": [
    "print(10 % 3)\n",
    "print(10 // 3)\n",
    "print(2 ** 3)"
   ]
  },
  {
   "cell_type": "markdown",
   "metadata": {},
   "source": [
    "Orden de resolución matematica \n",
    "\n",
    "Parentesis, exponentes, multiplicación, división, adición, sustracción"
   ]
  },
  {
   "cell_type": "code",
   "execution_count": 1,
   "metadata": {},
   "outputs": [
    {
     "name": "stdout",
     "output_type": "stream",
     "text": [
      "10\n",
      "Es par\n"
     ]
    }
   ],
   "source": [
    "number = '10'\n",
    "print(number)\n",
    "\n",
    "divisor = int(number)\n",
    "\n",
    "if divisor % 2 == 0:\n",
    "    print('Es par')\n",
    "else:\n",
    "    print('Es impar')\n",
    "\n",
    "    "
   ]
  },
  {
   "cell_type": "code",
   "execution_count": 10,
   "metadata": {},
   "outputs": [
    {
     "name": "stdout",
     "output_type": "stream",
     "text": [
      "True\n",
      "29\n",
      "Ella sabe programar en Python\n",
      "ELLA SABE PROGRAMAR EN PYTHON\n",
      "ella sabe programar en python\n",
      "4\n",
      "eLLA SABE PROGRAMAR EN pYTHON\n",
      "True\n",
      "False\n",
      "Ella sabe programar en Go\n"
     ]
    }
   ],
   "source": [
    "text = 'Ella sabe programar en Python'\n",
    "\n",
    "print('Python' in text)\n",
    "\n",
    "size = len(text)\n",
    "print(size)\n",
    "\n",
    "print(text)\n",
    "print(text.upper())\n",
    "print(text.lower())\n",
    "print(text.count('a'))\n",
    "print(text.swapcase())\n",
    "print(text.startswith('Ella'))\n",
    "print(text.endswith('Rust'))\n",
    "print(text.replace('Python', 'Go'))"
   ]
  },
  {
   "cell_type": "code",
   "execution_count": 14,
   "metadata": {},
   "outputs": [
    {
     "name": "stdout",
     "output_type": "stream",
     "text": [
      "este es un titulo\n",
      "Este es un titulo\n",
      "Este Es Un Titulo\n",
      "False\n"
     ]
    }
   ],
   "source": [
    "text_2 = 'este es un titulo'\n",
    "print(text_2)\n",
    "print(text_2.capitalize())\n",
    "print(text_2.title())\n",
    "print(text_2.isdigit())\n"
   ]
  },
  {
   "cell_type": "code",
   "execution_count": 4,
   "metadata": {},
   "outputs": [
    {
     "name": "stdout",
     "output_type": "stream",
     "text": [
      "E\n",
      "n\n",
      "Ella \n",
      "Ella sabe \n",
      "sabe programar en Python\n",
      "Ella sabe programar en Python\n",
      "por\n",
      "El aepormre yhn\n"
     ]
    }
   ],
   "source": [
    "text = 'Ella sabe programar en Python'\n",
    "print(text[0])\n",
    "print(text[-1]) # Ultimo caracter  \n",
    "print(text[0:5])\n",
    "print(text[:10])\n",
    "print(text[5:])\n",
    "print(text[:])\n",
    "print(text[10:16:2]) # El tercer parametro es el número de saltos\n",
    "print(text[::2]) # Del inicio al final saltando de dos en dos\n",
    "\n"
   ]
  },
  {
   "cell_type": "code",
   "execution_count": 3,
   "metadata": {},
   "outputs": [
    {
     "name": "stdout",
     "output_type": "stream",
     "text": [
      "[1, 2, 3, 4, 5]\n",
      "2\n"
     ]
    }
   ],
   "source": [
    "numbers = [1, 2, 3, 4, 5]  # Listas\n",
    "print(numbers)\n",
    "print(numbers[1])\n"
   ]
  },
  {
   "cell_type": "code",
   "execution_count": 4,
   "metadata": {},
   "outputs": [
    {
     "name": "stdout",
     "output_type": "stream",
     "text": [
      "[1, 2, 3, 4, 10]\n"
     ]
    }
   ],
   "source": [
    "numbers[-1] = 10\n",
    "print(numbers)"
   ]
  },
  {
   "cell_type": "code",
   "execution_count": 11,
   "metadata": {},
   "outputs": [
    {
     "name": "stdout",
     "output_type": "stream",
     "text": [
      "['hola', 'hola', 'hola', 'change', 1, 'change', 2, 3, 4, 10, 700, 700]\n"
     ]
    }
   ],
   "source": [
    "numbers.append(700)\n",
    "print(numbers)"
   ]
  },
  {
   "cell_type": "code",
   "execution_count": 10,
   "metadata": {},
   "outputs": [
    {
     "name": "stdout",
     "output_type": "stream",
     "text": [
      "['hola', 'hola', 'hola', 1, 'change', 2, 3, 4, 10, 700]\n",
      "['hola', 'hola', 'hola', 'change', 1, 'change', 2, 3, 4, 10, 700]\n"
     ]
    }
   ],
   "source": [
    "numbers.insert(0,'hola') # index de elemento a agregar, elemento\n",
    "print(numbers)\n",
    "numbers.insert(3, 'change')\n",
    "print(numbers)"
   ]
  },
  {
   "cell_type": "code",
   "execution_count": 8,
   "metadata": {},
   "outputs": [
    {
     "name": "stdout",
     "output_type": "stream",
     "text": [
      "['hola', 'hola', 1, 'change', 2, 3, 4, 10, 700, 'todo 1', 'todo 2', 'todo 3']\n"
     ]
    }
   ],
   "source": [
    "task = ['todo 1', 'todo 2', 'todo 3']\n",
    "new_list = numbers + task\n",
    "print(new_list)"
   ]
  },
  {
   "cell_type": "code",
   "execution_count": 15,
   "metadata": {},
   "outputs": [
    {
     "name": "stdout",
     "output_type": "stream",
     "text": [
      "['hola', 'hola', 1, 'change', 2, 3, 4, 10, 700, 'todo 1', 'todo changed', 'todo 3']\n"
     ]
    }
   ],
   "source": [
    "index = new_list.index('todo 2') # saber la posición de un elemto\n",
    "new_list[index] = 'todo changed'\n",
    "print(new_list)"
   ]
  },
  {
   "cell_type": "code",
   "execution_count": 16,
   "metadata": {},
   "outputs": [
    {
     "name": "stdout",
     "output_type": "stream",
     "text": [
      "['hola', 'hola', 1, 'change', 2, 3, 4, 10, 700, 'todo changed', 'todo 3']\n"
     ]
    }
   ],
   "source": [
    "new_list.remove('todo 1')\n",
    "print(new_list)"
   ]
  },
  {
   "cell_type": "code",
   "execution_count": 18,
   "metadata": {},
   "outputs": [
    {
     "name": "stdout",
     "output_type": "stream",
     "text": [
      "['hola', 'hola', 1, 'change', 2, 3, 4, 10, 700]\n"
     ]
    }
   ],
   "source": [
    "new_list.pop() # Elimina el último elemento de la lista\n",
    "print(new_list)"
   ]
  },
  {
   "cell_type": "code",
   "execution_count": 19,
   "metadata": {},
   "outputs": [
    {
     "name": "stdout",
     "output_type": "stream",
     "text": [
      "['hola', 1, 'change', 2, 3, 4, 10, 700]\n"
     ]
    }
   ],
   "source": [
    "new_list.pop(0) # Elimina el elemento de la posición indicada\n",
    "print(new_list)"
   ]
  },
  {
   "cell_type": "code",
   "execution_count": 20,
   "metadata": {},
   "outputs": [
    {
     "name": "stdout",
     "output_type": "stream",
     "text": [
      "[700, 10, 4, 3, 2, 'change', 1, 'hola']\n"
     ]
    }
   ],
   "source": [
    "new_list.reverse() # Cambia toda la posición del array\n",
    "print(new_list)"
   ]
  },
  {
   "cell_type": "code",
   "execution_count": 21,
   "metadata": {},
   "outputs": [
    {
     "name": "stdout",
     "output_type": "stream",
     "text": [
      "[1, 3, 4, 6]\n"
     ]
    }
   ],
   "source": [
    "numbers_a = [1, 4, 6, 3]\n",
    "numbers_a.sort() # Ordena la lista en orden ascendente\n",
    "print(numbers_a)"
   ]
  },
  {
   "cell_type": "code",
   "execution_count": 1,
   "metadata": {},
   "outputs": [],
   "source": [
    "# Diccionarios\n",
    "\n",
    "my_dict = {\n",
    "    'avion': 'bla bla bla',\n",
    "    'name': 'Nicolas',\n",
    "    'last_name': 'Molina Monroy',\n",
    "    'age': '87'\n",
    "}"
   ]
  },
  {
   "cell_type": "code",
   "execution_count": 8,
   "metadata": {},
   "outputs": [
    {
     "name": "stdout",
     "output_type": "stream",
     "text": [
      "{'avion': 'bla bla bla', 'name': 'Nicolas', 'last_name': 'Molina Monroy', 'age': '87'}\n",
      "4\n",
      "87\n",
      "Molina Monroy\n",
      "87\n",
      "None\n",
      "True\n",
      "False\n"
     ]
    }
   ],
   "source": [
    "print(my_dict)\n",
    "print(len(my_dict))\n",
    "print(my_dict['age'])\n",
    "print(my_dict['last_name'])\n",
    "print(my_dict.get('age'))\n",
    "print(my_dict.get('un valor'))\n",
    "\n",
    "print('avion' in my_dict)\n",
    "print('otro que no' in my_dict)"
   ]
  },
  {
   "cell_type": "code",
   "execution_count": 6,
   "metadata": {},
   "outputs": [],
   "source": [
    "person = {\n",
    "    'name': 'Nico',\n",
    "    'last_name': 'molina',\n",
    "    'langs': ['python', 'javascript'],\n",
    "    'age': 99\n",
    "}"
   ]
  },
  {
   "cell_type": "code",
   "execution_count": 7,
   "metadata": {},
   "outputs": [
    {
     "name": "stdout",
     "output_type": "stream",
     "text": [
      "{'name': 'Nico', 'last_name': 'molina', 'langs': ['python', 'javascript'], 'age': 99}\n"
     ]
    }
   ],
   "source": [
    "print(person)"
   ]
  },
  {
   "cell_type": "code",
   "execution_count": 8,
   "metadata": {},
   "outputs": [
    {
     "name": "stdout",
     "output_type": "stream",
     "text": [
      "{'name': 'Santi', 'last_name': 'molina', 'langs': ['python', 'javascript', 'rust'], 'age': 49}\n"
     ]
    }
   ],
   "source": [
    "person['name'] = 'Santi'\n",
    "person['age'] -=50\n",
    "person['langs'].append('rust')\n",
    "print(person)"
   ]
  },
  {
   "cell_type": "code",
   "execution_count": 9,
   "metadata": {},
   "outputs": [
    {
     "name": "stdout",
     "output_type": "stream",
     "text": [
      "{'name': 'Santi', 'langs': ['python', 'javascript', 'rust'], 'age': 49}\n"
     ]
    }
   ],
   "source": [
    "del person['last_name']\n",
    "print(person)"
   ]
  },
  {
   "cell_type": "code",
   "execution_count": 11,
   "metadata": {},
   "outputs": [
    {
     "name": "stdout",
     "output_type": "stream",
     "text": [
      "{'name': 'Santi', 'langs': ['python', 'javascript', 'rust']}\n"
     ]
    }
   ],
   "source": [
    "person.pop('age')\n",
    "print(person)"
   ]
  },
  {
   "cell_type": "code",
   "execution_count": 12,
   "metadata": {},
   "outputs": [
    {
     "name": "stdout",
     "output_type": "stream",
     "text": [
      "items\n",
      "dict_items([('name', 'Santi'), ('langs', ['python', 'javascript', 'rust'])])\n"
     ]
    }
   ],
   "source": [
    "print('items')\n",
    "print(person.items())"
   ]
  },
  {
   "cell_type": "code",
   "execution_count": 13,
   "metadata": {},
   "outputs": [
    {
     "name": "stdout",
     "output_type": "stream",
     "text": [
      "keys\n",
      "dict_keys(['name', 'langs'])\n"
     ]
    }
   ],
   "source": [
    "print('keys')\n",
    "print(person.keys())"
   ]
  },
  {
   "cell_type": "code",
   "execution_count": 14,
   "metadata": {},
   "outputs": [
    {
     "name": "stdout",
     "output_type": "stream",
     "text": [
      "values\n",
      "dict_values(['Santi', ['python', 'javascript', 'rust']])\n"
     ]
    }
   ],
   "source": [
    "print('values')\n",
    "print(person.values())"
   ]
  },
  {
   "cell_type": "code",
   "execution_count": 16,
   "metadata": {},
   "outputs": [
    {
     "name": "stdout",
     "output_type": "stream",
     "text": [
      "{'name': 'Santi', 'langs': ['python', 'javascript', 'rust'], 'twitter': '@nicobytes'}\n"
     ]
    }
   ],
   "source": [
    "person['twitter'] ='@nicobytes'\n",
    "print(person)"
   ]
  },
  {
   "cell_type": "code",
   "execution_count": 2,
   "metadata": {},
   "outputs": [
    {
     "name": "stdout",
     "output_type": "stream",
     "text": [
      "1\n",
      "2\n",
      "3\n",
      "4\n",
      "5\n",
      "6\n",
      "7\n",
      "8\n",
      "9\n",
      "10\n",
      "11\n",
      "12\n",
      "13\n",
      "14\n"
     ]
    }
   ],
   "source": [
    "counter = 0\n",
    "\n",
    "while counter < 20:\n",
    "    counter += 1\n",
    "    if counter == 15:\n",
    "        break\n",
    "    print(counter)"
   ]
  },
  {
   "cell_type": "code",
   "execution_count": 4,
   "metadata": {},
   "outputs": [
    {
     "name": "stdout",
     "output_type": "stream",
     "text": [
      "15\n",
      "16\n",
      "17\n",
      "18\n",
      "19\n",
      "20\n"
     ]
    }
   ],
   "source": [
    "counter = 0\n",
    "\n",
    "while counter < 20:\n",
    "    counter += 1\n",
    "    if counter < 15:\n",
    "        continue\n",
    "    print(counter)"
   ]
  }
 ],
 "metadata": {
  "kernelspec": {
   "display_name": "Python 3",
   "language": "python",
   "name": "python3"
  },
  "language_info": {
   "codemirror_mode": {
    "name": "ipython",
    "version": 3
   },
   "file_extension": ".py",
   "mimetype": "text/x-python",
   "name": "python",
   "nbconvert_exporter": "python",
   "pygments_lexer": "ipython3",
   "version": "3.11.4"
  }
 },
 "nbformat": 4,
 "nbformat_minor": 2
}

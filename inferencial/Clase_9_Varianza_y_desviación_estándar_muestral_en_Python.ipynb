{
  "nbformat": 4,
  "nbformat_minor": 0,
  "metadata": {
    "colab": {
      "provenance": [],
      "collapsed_sections": [],
      "include_colab_link": true
    },
    "kernelspec": {
      "name": "python3",
      "display_name": "Python 3"
    },
    "language_info": {
      "name": "python"
    }
  },
  "cells": [
    {
      "cell_type": "markdown",
      "metadata": {
        "id": "view-in-github",
        "colab_type": "text"
      },
      "source": [
        "<a href=\"https://colab.research.google.com/github/alexpin/Curso-Python/blob/master/inferencial/Clase_9_Varianza_y_desviaci%C3%B3n_est%C3%A1ndar_muestral_en_Python.ipynb\" target=\"_parent\"><img src=\"https://colab.research.google.com/assets/colab-badge.svg\" alt=\"Open In Colab\"/></a>"
      ]
    },
    {
      "cell_type": "markdown",
      "source": [
        "#### Importamos las librerías necesarias para el análisis"
      ],
      "metadata": {
        "id": "mkDjlQlgi1EJ"
      }
    },
    {
      "cell_type": "code",
      "source": [
        "import pandas as pd\n",
        "import numpy as np\n",
        "import matplotlib.pyplot as plt\n",
        "import seaborn as sns"
      ],
      "metadata": {
        "id": "oSK5fRU8i7w3"
      },
      "execution_count": 1,
      "outputs": []
    },
    {
      "cell_type": "markdown",
      "source": [
        "#### Leemos la base de datos a trabajar en nuestra ruta de origen"
      ],
      "metadata": {
        "id": "Vnfg2Rb2kB_3"
      }
    },
    {
      "cell_type": "code",
      "source": [
        "url = \"https://archive.ics.uci.edu/ml/machine-learning-databases/iris/iris.data\"\n",
        "names = ['sepal-length', 'sepal-width', 'petal-length', 'petal-width', 'class']\n",
        "iris = pd.read_csv(url, names=names)"
      ],
      "metadata": {
        "id": "C5ie4qeVjAMN"
      },
      "execution_count": 2,
      "outputs": []
    },
    {
      "cell_type": "code",
      "source": [
        "# Exploración de la tabla\n",
        "iris.head()\n",
        "# Largo y ancho del sépalo y de los pétalos"
      ],
      "metadata": {
        "colab": {
          "base_uri": "https://localhost:8080/",
          "height": 206
        },
        "id": "uOq6eIlER-2X",
        "outputId": "600ad56d-8fa8-402c-b708-c0fd672889fe"
      },
      "execution_count": 3,
      "outputs": [
        {
          "output_type": "execute_result",
          "data": {
            "text/plain": [
              "   sepal-length  sepal-width  petal-length  petal-width        class\n",
              "0           5.1          3.5           1.4          0.2  Iris-setosa\n",
              "1           4.9          3.0           1.4          0.2  Iris-setosa\n",
              "2           4.7          3.2           1.3          0.2  Iris-setosa\n",
              "3           4.6          3.1           1.5          0.2  Iris-setosa\n",
              "4           5.0          3.6           1.4          0.2  Iris-setosa"
            ],
            "text/html": [
              "\n",
              "  <div id=\"df-4d61b22f-e35e-4738-9831-c1b11bb1b17b\">\n",
              "    <div class=\"colab-df-container\">\n",
              "      <div>\n",
              "<style scoped>\n",
              "    .dataframe tbody tr th:only-of-type {\n",
              "        vertical-align: middle;\n",
              "    }\n",
              "\n",
              "    .dataframe tbody tr th {\n",
              "        vertical-align: top;\n",
              "    }\n",
              "\n",
              "    .dataframe thead th {\n",
              "        text-align: right;\n",
              "    }\n",
              "</style>\n",
              "<table border=\"1\" class=\"dataframe\">\n",
              "  <thead>\n",
              "    <tr style=\"text-align: right;\">\n",
              "      <th></th>\n",
              "      <th>sepal-length</th>\n",
              "      <th>sepal-width</th>\n",
              "      <th>petal-length</th>\n",
              "      <th>petal-width</th>\n",
              "      <th>class</th>\n",
              "    </tr>\n",
              "  </thead>\n",
              "  <tbody>\n",
              "    <tr>\n",
              "      <th>0</th>\n",
              "      <td>5.1</td>\n",
              "      <td>3.5</td>\n",
              "      <td>1.4</td>\n",
              "      <td>0.2</td>\n",
              "      <td>Iris-setosa</td>\n",
              "    </tr>\n",
              "    <tr>\n",
              "      <th>1</th>\n",
              "      <td>4.9</td>\n",
              "      <td>3.0</td>\n",
              "      <td>1.4</td>\n",
              "      <td>0.2</td>\n",
              "      <td>Iris-setosa</td>\n",
              "    </tr>\n",
              "    <tr>\n",
              "      <th>2</th>\n",
              "      <td>4.7</td>\n",
              "      <td>3.2</td>\n",
              "      <td>1.3</td>\n",
              "      <td>0.2</td>\n",
              "      <td>Iris-setosa</td>\n",
              "    </tr>\n",
              "    <tr>\n",
              "      <th>3</th>\n",
              "      <td>4.6</td>\n",
              "      <td>3.1</td>\n",
              "      <td>1.5</td>\n",
              "      <td>0.2</td>\n",
              "      <td>Iris-setosa</td>\n",
              "    </tr>\n",
              "    <tr>\n",
              "      <th>4</th>\n",
              "      <td>5.0</td>\n",
              "      <td>3.6</td>\n",
              "      <td>1.4</td>\n",
              "      <td>0.2</td>\n",
              "      <td>Iris-setosa</td>\n",
              "    </tr>\n",
              "  </tbody>\n",
              "</table>\n",
              "</div>\n",
              "      <button class=\"colab-df-convert\" onclick=\"convertToInteractive('df-4d61b22f-e35e-4738-9831-c1b11bb1b17b')\"\n",
              "              title=\"Convert this dataframe to an interactive table.\"\n",
              "              style=\"display:none;\">\n",
              "        \n",
              "  <svg xmlns=\"http://www.w3.org/2000/svg\" height=\"24px\"viewBox=\"0 0 24 24\"\n",
              "       width=\"24px\">\n",
              "    <path d=\"M0 0h24v24H0V0z\" fill=\"none\"/>\n",
              "    <path d=\"M18.56 5.44l.94 2.06.94-2.06 2.06-.94-2.06-.94-.94-2.06-.94 2.06-2.06.94zm-11 1L8.5 8.5l.94-2.06 2.06-.94-2.06-.94L8.5 2.5l-.94 2.06-2.06.94zm10 10l.94 2.06.94-2.06 2.06-.94-2.06-.94-.94-2.06-.94 2.06-2.06.94z\"/><path d=\"M17.41 7.96l-1.37-1.37c-.4-.4-.92-.59-1.43-.59-.52 0-1.04.2-1.43.59L10.3 9.45l-7.72 7.72c-.78.78-.78 2.05 0 2.83L4 21.41c.39.39.9.59 1.41.59.51 0 1.02-.2 1.41-.59l7.78-7.78 2.81-2.81c.8-.78.8-2.07 0-2.86zM5.41 20L4 18.59l7.72-7.72 1.47 1.35L5.41 20z\"/>\n",
              "  </svg>\n",
              "      </button>\n",
              "      \n",
              "  <style>\n",
              "    .colab-df-container {\n",
              "      display:flex;\n",
              "      flex-wrap:wrap;\n",
              "      gap: 12px;\n",
              "    }\n",
              "\n",
              "    .colab-df-convert {\n",
              "      background-color: #E8F0FE;\n",
              "      border: none;\n",
              "      border-radius: 50%;\n",
              "      cursor: pointer;\n",
              "      display: none;\n",
              "      fill: #1967D2;\n",
              "      height: 32px;\n",
              "      padding: 0 0 0 0;\n",
              "      width: 32px;\n",
              "    }\n",
              "\n",
              "    .colab-df-convert:hover {\n",
              "      background-color: #E2EBFA;\n",
              "      box-shadow: 0px 1px 2px rgba(60, 64, 67, 0.3), 0px 1px 3px 1px rgba(60, 64, 67, 0.15);\n",
              "      fill: #174EA6;\n",
              "    }\n",
              "\n",
              "    [theme=dark] .colab-df-convert {\n",
              "      background-color: #3B4455;\n",
              "      fill: #D2E3FC;\n",
              "    }\n",
              "\n",
              "    [theme=dark] .colab-df-convert:hover {\n",
              "      background-color: #434B5C;\n",
              "      box-shadow: 0px 1px 3px 1px rgba(0, 0, 0, 0.15);\n",
              "      filter: drop-shadow(0px 1px 2px rgba(0, 0, 0, 0.3));\n",
              "      fill: #FFFFFF;\n",
              "    }\n",
              "  </style>\n",
              "\n",
              "      <script>\n",
              "        const buttonEl =\n",
              "          document.querySelector('#df-4d61b22f-e35e-4738-9831-c1b11bb1b17b button.colab-df-convert');\n",
              "        buttonEl.style.display =\n",
              "          google.colab.kernel.accessAllowed ? 'block' : 'none';\n",
              "\n",
              "        async function convertToInteractive(key) {\n",
              "          const element = document.querySelector('#df-4d61b22f-e35e-4738-9831-c1b11bb1b17b');\n",
              "          const dataTable =\n",
              "            await google.colab.kernel.invokeFunction('convertToInteractive',\n",
              "                                                     [key], {});\n",
              "          if (!dataTable) return;\n",
              "\n",
              "          const docLinkHtml = 'Like what you see? Visit the ' +\n",
              "            '<a target=\"_blank\" href=https://colab.research.google.com/notebooks/data_table.ipynb>data table notebook</a>'\n",
              "            + ' to learn more about interactive tables.';\n",
              "          element.innerHTML = '';\n",
              "          dataTable['output_type'] = 'display_data';\n",
              "          await google.colab.output.renderOutput(dataTable, element);\n",
              "          const docLink = document.createElement('div');\n",
              "          docLink.innerHTML = docLinkHtml;\n",
              "          element.appendChild(docLink);\n",
              "        }\n",
              "      </script>\n",
              "    </div>\n",
              "  </div>\n",
              "  "
            ]
          },
          "metadata": {},
          "execution_count": 3
        }
      ]
    },
    {
      "cell_type": "markdown",
      "source": [
        "![Pétalo-sépalo.jpeg](data:image/jpeg;base64,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)"
      ],
      "metadata": {
        "id": "wPIf2CjhUMQc"
      }
    },
    {
      "cell_type": "code",
      "source": [
        "# Estudio de la distribución de la variable \n",
        "plt.hist(iris['sepal-length'], color = 'orange', bins = int(180/5))"
      ],
      "metadata": {
        "colab": {
          "base_uri": "https://localhost:8080/",
          "height": 387
        },
        "id": "gOKDIL3YSL02",
        "outputId": "181293ab-2436-4151-b90b-39fb5755691b"
      },
      "execution_count": null,
      "outputs": [
        {
          "output_type": "execute_result",
          "data": {
            "text/plain": [
              "(array([ 1.,  3.,  1.,  4.,  2.,  5.,  6., 10.,  9.,  4.,  1.,  6.,  7.,\n",
              "         6.,  8.,  7.,  3.,  6.,  6., 13.,  0.,  7.,  5.,  2., 11.,  0.,\n",
              "         4.,  2.,  0.,  4.,  0.,  1.,  1.,  4.,  0.,  1.]),\n",
              " array([4.3, 4.4, 4.5, 4.6, 4.7, 4.8, 4.9, 5. , 5.1, 5.2, 5.3, 5.4, 5.5,\n",
              "        5.6, 5.7, 5.8, 5.9, 6. , 6.1, 6.2, 6.3, 6.4, 6.5, 6.6, 6.7, 6.8,\n",
              "        6.9, 7. , 7.1, 7.2, 7.3, 7.4, 7.5, 7.6, 7.7, 7.8, 7.9]),\n",
              " <a list of 36 Patch objects>)"
            ]
          },
          "metadata": {},
          "execution_count": 4
        },
        {
          "output_type": "display_data",
          "data": {
            "text/plain": [
              "<Figure size 432x288 with 1 Axes>"
            ],
            "image/png": "[encoded data removed]"
          },
          "metadata": {
            "needs_background": "light"
          }
        }
      ]
    },
    {
      "cell_type": "code",
      "source": [
        "sns.distplot(iris['sepal-length'], hist=True, kde=True, \n",
        "             bins=int(180/5), color = 'orange')"
      ],
      "metadata": {
        "colab": {
          "base_uri": "https://localhost:8080/",
          "height": 351
        },
        "id": "lqzQ9MyDVD3N",
        "outputId": "a6a03c8a-336f-4367-b167-119e6903fca1"
      },
      "execution_count": null,
      "outputs": [
        {
          "output_type": "stream",
          "name": "stderr",
          "text": [
            "/usr/local/lib/python3.7/dist-packages/seaborn/distributions.py:2619: FutureWarning: `distplot` is a deprecated function and will be removed in a future version. Please adapt your code to use either `displot` (a figure-level function with similar flexibility) or `histplot` (an axes-level function for histograms).\n",
            "  warnings.warn(msg, FutureWarning)\n"
          ]
        },
        {
          "output_type": "execute_result",
          "data": {
            "text/plain": [
              "<matplotlib.axes._subplots.AxesSubplot at 0x7f81e683e510>"
            ]
          },
          "metadata": {},
          "execution_count": 5
        },
        {
          "output_type": "display_data",
          "data": {
            "text/plain": [
              "<Figure size 432x288 with 1 Axes>"
            ],
            "image/png": "[encoded data removed]"
          },
          "metadata": {
            "needs_background": "light"
          }
        }
      ]
    },
    {
      "cell_type": "markdown",
      "source": [
        "#### Cálculo de la varianza"
      ],
      "metadata": {
        "id": "U2QHcHPhkhrg"
      }
    },
    {
      "cell_type": "markdown",
      "source": [
        "![Captura de pantalla 2022-03-24 a la(s) 14.12.57.png](data:image/png;base64,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)"
      ],
      "metadata": {
        "id": "NRYuoYYgjtZ3"
      }
    },
    {
      "cell_type": "code",
      "source": [
        "iris[\"sepal-length\"].var()\n"
      ],
      "metadata": {
        "colab": {
          "base_uri": "https://localhost:8080/"
        },
        "id": "qpge5sUykuqn",
        "outputId": "3d2c3d48-8527-446c-a032-35e759c3f6bf"
      },
      "execution_count": 5,
      "outputs": [
        {
          "output_type": "execute_result",
          "data": {
            "text/plain": [
              "0.6856935123042507"
            ]
          },
          "metadata": {},
          "execution_count": 5
        }
      ]
    },
    {
      "cell_type": "code",
      "source": [
        "iris[\"sepal-width\"].var()"
      ],
      "metadata": {
        "colab": {
          "base_uri": "https://localhost:8080/"
        },
        "id": "MpF3Eke90aDL",
        "outputId": "b933cd3f-ef34-42ce-fdf1-f1f51e28b637"
      },
      "execution_count": 6,
      "outputs": [
        {
          "output_type": "execute_result",
          "data": {
            "text/plain": [
              "0.1880040268456376"
            ]
          },
          "metadata": {},
          "execution_count": 6
        }
      ]
    },
    {
      "cell_type": "code",
      "source": [
        "iris[\"petal-length\"].var()"
      ],
      "metadata": {
        "colab": {
          "base_uri": "https://localhost:8080/"
        },
        "id": "E1fI_1JM0dXm",
        "outputId": "27004af1-31cc-43d6-e21c-183b8825815c"
      },
      "execution_count": 7,
      "outputs": [
        {
          "output_type": "execute_result",
          "data": {
            "text/plain": [
              "3.113179418344519"
            ]
          },
          "metadata": {},
          "execution_count": 7
        }
      ]
    },
    {
      "cell_type": "code",
      "source": [
        "iris[\"petal-length\"].var()"
      ],
      "metadata": {
        "colab": {
          "base_uri": "https://localhost:8080/"
        },
        "id": "X9zIXV3s0fHj",
        "outputId": "256937e8-7836-49f7-c3fa-9e0fc1e804f5"
      },
      "execution_count": 8,
      "outputs": [
        {
          "output_type": "execute_result",
          "data": {
            "text/plain": [
              "3.113179418344519"
            ]
          },
          "metadata": {},
          "execution_count": 8
        }
      ]
    },
    {
      "cell_type": "markdown",
      "source": [
        "#### Cálculo de la desviación estándar"
      ],
      "metadata": {
        "id": "4hW5lB_MzoVx"
      }
    },
    {
      "cell_type": "markdown",
      "source": [
        "![Captura de pantalla 2022-03-24 a la(s) 15.22.17.png](data:image/png;base64,iVBORw0KGgoAAAANSUhEUgAAAXQAAACECAYAAACAhtD+AAAMSGlDQ1BJQ0MgUHJvZmlsZQAASImVlwdUU8kagOeWVBJaIAJSQm+iCNKlhNAiCEgHGyEJJJQYEoKIXVlUcO0iAjZ0VURxV1dA1oq61kWwu5aHBRVlXSzYUHmTArp63nvnzTlz75d//vlb5t47A4BODU8qzUV1AciTFMjiwoNZKalpLNIjgAESMABEYMvjy6Xs2NgoANvg/Z/tzTWAKO+XXZS2vh//r01PIJTzAUBiIWcI5Pw8yL8CgJfwpbICAIjeUG49vUCq5EmQDWQwQMhSJWepuUTJGWquVOkkxHEg7waATOPxZFkAaDdDOauQnwXtaN+A7CoRiCUA6JAhB/BFPAHkCMgj8vKmKRnqAYeMr+xk/cNmxpBNHi9riNW5qBo5RCyX5vJm/J/l+N8tL1cx6MMOdppIFhGnzBnW7UbOtEgl0yD3SDKiYyDrQ34nFqj0IaNUkSIiUa2PmvLlHFgzwITsKuCFREI2hRwmyY2O0sgzMsVhXMhwhaBF4gJugmbuYqE8NF5js0Y2LS5mkDNlHLZmbgNPpvKr1D+pyElka+zfEAm5g/ZfF4sSktUxY9RCcVI0ZG3ITHlOfKRaB7MpFnGiB3Vkijhl/DaQfYWS8GC1fWxKpiwsTqMvy5MP5ostFom50RquKhAlRGjs7ObzVPEbQW4WStiJg3aE8pSowVwEwpBQde5Yu1CSqMkX65QWBMdp5r6U5sZq9HGqMDdcKbeCbCovjNfMxQMK4IJU28ejpQWxCeo48Yxs3rhYdTx4EYgCHBACWEABewaYBrKBuK2nqQf+Uo+EAR6QgSwgBC4ayeCMZNWIBF7jQTH4C5IQyIfmBatGhaAQyj8NSdVXF5CpGi1UzcgBjyDngUiQC38rVLMkQ96SwEMoEX/nnQ9jzYVdOfa9jA0lURqJYtAuS2dQkxhKDCFGEMOIjrgJHoD74VHwGgS7G+6N+wxG+0Wf8IjQQbhPuEroJNycKl4g+yYfFhgPOqGHME3OGV/njNtBqx54MO4P7UPbOBM3AS74GOiJjQdC3x5QytFErsz+W9v/yOGrqmv0KK4UlDKMEkRx+HamtpO2x5AVZU2/rpA61oyhunKGRr71z/mq0gJ4j/xWE1uM7cdOY8exs9ghrAmwsKNYM3YBO6zkoVX0ULWKBr3FqeLJgXbE3/njaXwqKyl3rXftdv2oHisQFinfj4AzTTpDJs4SFbDY8M0vZHEl/JEjWG6ubm4AKL8j6tfUK6bq+4Awz32R5R8DwKcMCrO+yHjWABx8BADjzReZ9Uv4eKwA4HA7XyErVMtw5YUAqEAHPlHGwBxYAweYjxvwBH4gCISCcSAGJIBUMAVWWQTXswxMB7PAfFAKysEKsBZUgU1gK9gJ9oB9oAkcAsfB7+A8aAdXwS24errAM9AL3oB+BEFICB1hIMaIBWKLOCNuiDcSgIQiUUgckoqkI1mIBFEgs5CFSDmyCqlCtiB1yC/IQeQ4chbpQG4i95Bu5CXyAcVQGmqAmqF26CjUG2WjkWgCOhnNQvPRYrQEXYZWorXobrQRPY6eR6+inegztA8DmBbGxCwxF8wb42AxWBqWicmwOVgZVoHVYg1YC/yfL2OdWA/2HifiDJyFu8AVHIEn4nw8H5+DL8Wr8J14I34Sv4zfw3vxzwQ6wZTgTPAlcAkphCzCdEIpoYKwnXCAcAo+TV2EN0QikUm0J3rBpzGVmE2cSVxK3EDcSzxG7CA+IPaRSCRjkjPJnxRD4pEKSKWk9aTdpKOkS6Qu0juyFtmC7EYOI6eRJeQF5AryLvIR8iXyY3I/RZdiS/GlxFAElBmU5ZRtlBbKRUoXpZ+qR7Wn+lMTqNnU+dRKagP1FPU29ZWWlpaVlo/WBC2x1jytSq2ftc5o3dN6T9OnOdE4tEk0BW0ZbQftGO0m7RWdTrejB9HT6AX0ZfQ6+gn6Xfo7bYb2SG2utkB7rna1dqP2Je3nOhQdWx22zhSdYp0Knf06F3V6dCm6drocXZ7uHN1q3YO613X79Bh6o/Vi9PL0lurt0jur90SfpG+nH6ov0C/R36p/Qv8BA2NYMzgMPmMhYxvjFKPLgGhgb8A1yDYoN9hj0GbQa6hvOMYwybDIsNrwsGEnE2PaMbnMXOZy5j7mNeaHYWbD2MOEw5YMaxh2adhbo+FGQUZCozKjvUZXjT4Ys4xDjXOMVxo3Gd8xwU2cTCaYTDfZaHLKpGe4wXC/4fzhZcP3Df/TFDV1Mo0znWm61fSCaZ+ZuVm4mdRsvdkJsx5zpnmQebb5GvMj5t0WDIsAC7HFGoujFk9Zhiw2K5dVyTrJ6rU0tYywVFhusWyz7Leyt0q0WmC11+qONdXa2zrTeo11q3WvjYXNeJtZNvU2f9pSbL1tRbbrbE/bvrWzt0u2W2TXZPfE3siea19sX29/24HuEOiQ71DrcMWR6OjtmOO4wbHdCXXycBI5VTtddEadPZ3FzhucO0YQRviMkIyoHXHdhebCdil0qXe5N5I5MmrkgpFNI5+PshmVNmrlqNOjPrt6uOa6bnO9NVp/9LjRC0a3jH7p5uTGd6t2u+JOdw9zn+ve7P5ijPMY4ZiNY254MDzGeyzyaPX45OnlKfNs8Oz2svFK96rxuu5t4B3rvdT7jA/BJ9hnrs8hn/e+nr4Fvvt8//Zz8cvx2+X3ZKz9WOHYbWMf+Fv58/y3+HcGsALSAzYHdAZaBvICawPvB1kHCYK2Bz1mO7Kz2bvZz4Ndg2XBB4Lfcnw5sznHQrCQ8JCykLZQ/dDE0KrQu2FWYVlh9WG94R7hM8OPRRAiIiNWRlznmnH53Dpu7zivcbPHnYykRcZHVkXej3KKkkW1jEfHjxu/evztaNtoSXRTDIjhxqyOuRNrH5sf+9sE4oTYCdUTHsWNjpsVdzqeET81flf8m4TghOUJtxIdEhWJrUk6SZOS6pLeJockr0ruTBmVMjvlfKpJqji1OY2UlpS2Pa1vYujEtRO7JnlMKp10bbL95KLJZ6eYTMmdcniqzlTe1P3phPTk9F3pH3kxvFpeXwY3oyajl8/hr+M/EwQJ1gi6hf7CVcLHmf6ZqzKfZPlnrc7qFgWKKkQ9Yo64SvwiOyJ7U/bbnJicHTkDucm5e/PIeel5ByX6khzJyWnm04qmdUidpaXSznzf/LX5vbJI2XY5Ip8sby4wgBv2CwoHxQ+Ke4UBhdWF76YnTd9fpFckKboww2nGkhmPi8OKf5qJz+TPbJ1lOWv+rHuz2bO3zEHmZMxpnWs9t2Ru17zweTvnU+fnzP9jgeuCVQteL0xe2FJiVjKv5MEP4T/Ul2qXykqvL/JbtGkxvli8uG2J+5L1Sz6XCcrOlbuWV5R/XMpfeu7H0T9W/jiwLHNZ23LP5RtXEFdIVlxbGbhy5yq9VcWrHqwev7pxDWtN2ZrXa6euPVsxpmLTOuo6xbrOyqjK5vU261es/1glqrpaHVy9t8a0ZknN2w2CDZc2Bm1s2GS2qXzTh83izTe2hG9prLWrrdhK3Fq49dG2pG2nf/L+qW67yfby7Z92SHZ07ozbebLOq65ul+mu5fVovaK+e/ek3e17QvY0N7g0bNnL3Fv+M/hZ8fPTX9J/ubYvcl/rfu/9Db/a/lpzgHGgrBFpnNHY2yRq6mxObe44OO5ga4tfy4HfRv6245DloerDhoeXH6EeKTkycLT4aN8x6bGe41nHH7RObb11IuXElZMTTradijx15vew30+cZp8+esb/zKGzvmcPnvM+13Te83zjBY8LB/7w+ONAm2db40Wvi83tPu0tHWM7jlwKvHT8csjl369wr5y/Gn2141ritRvXJ13vvCG48eRm7s0Xfxb+2X9r3m3C7bI7uncq7prerf2X47/2dnp2Hr4Xcu/C/fj7tx7wHzx7KH/4savkEf1RxWOLx3VP3J4c6g7rbn868WnXM+mz/p7Sv/T+qnnu8PzXv4P+vtCb0tv1QvZi4OXSV8avdrwe87q1L7bv7pu8N/1vy94Zv9v53vv96Q/JHx73T/9I+lj5yfFTy+fIz7cH8gYGpDwZT7UVwGBHMzMBeLkDAHoq3Du0A0CdqD7nqRqiPpuqCPwnVp8FVc0TgB1BACTOAyAK7lE2wm4LmQbvyq16QhBA3d2HuqbJM93d1LZo8MRDeDcw8MoMAFILAJ9kAwP9GwYGPm2Dwd4E4Fi++nypbER4NtjMUNL5opTvzs3/Bhk3fp2Z/pgzAAAACXBIWXMAABYlAAAWJQFJUiTwAAABnWlUWHRYTUw6Y29tLmFkb2JlLnhtcAAAAAAAPHg6eG1wbWV0YSB4bWxuczp4PSJhZG9iZTpuczptZXRhLyIgeDp4bXB0az0iWE1QIENvcmUgNS40LjAiPgogICA8cmRmOlJERiB4bWxuczpyZGY9Imh0dHA6Ly93d3cudzMub3JnLzE5OTkvMDIvMjItcmRmLXN5bnRheC1ucyMiPgogICAgICA8cmRmOkRlc2NyaXB0aW9uIHJkZjphYm91dD0iIgogICAgICAgICAgICB4bWxuczpleGlmPSJodHRwOi8vbnMuYWRvYmUuY29tL2V4aWYvMS4wLyI+CiAgICAgICAgIDxleGlmOlBpeGVsWERpbWVuc2lvbj4zNzI8L2V4aWY6UGl4ZWxYRGltZW5zaW9uPgogICAgICAgICA8ZXhpZjpQaXhlbFlEaW1lbnNpb24+MTMyPC9leGlmOlBpeGVsWURpbWVuc2lvbj4KICAgICAgPC9yZGY6RGVzY3JpcHRpb24+CiAgIDwvcmRmOlJERj4KPC94OnhtcG1ldGE+Cv3rY/sAAAAcaURPVAAAAAIAAAAAAAAAQgAAACgAAABCAAAAQgAAKFa/dTjlAAAoIklEQVR4AezdB5RtNdUH8MOngr1gxQrYsYO9Ysfeu9gRK/beO4oIdsSCimLvvWLB3hB7A+wVe2/nyy/yn5V3vDNz5703bx5jsta9yUl2dnZ2kn2SnZ2cbcbihu46BzoHOgc6B07wHNimC/QTfBv2CnQOdA50DlQOdIHeO0LnQOdA58A64UAX6OukIXs1Ogc6BzoHukDvfaBzoHOgc2CdcKAL9HXSkL0anQOdA50DXaD3PtA50DnQObBOONAF+jppyF6NzoHOgc6BLtB7H+gc6BzoHFgnHOgCfZ00ZK9G50DnQOdAF+i9D3QOdA50DqwTDnSBvk4aslejc6BzoHOgC/TeB05QHHD10DbbbLMBzbPiNgDoD50DJxAO/Pvf/x7+7//+b6Op7QJ9o1nXM64FB1rhLfznP/+5/taCll5m58CmcED/5UxQEibQT3SiE9XnbbfddjjZyU42bLfddnMX0wX63KzqgGvFgXT2dmYu7p///Ofwta99bTjqqKOGf/3rX2tFXi+3c2CjOKAPZzZOkHOEOadvn+UsZxl22WWXYaeddqpx8/x1gT4PlzrMmnNA588AyLL017/+9XDAAQcMBx54YB0Aa05kJ6BzYIUcMEnJREX/zmydoN91112Hvfbaa9hzzz3nxtoF+tys6oBrxQEdnWs7vrjjjjtueMYznjEcfPDBw8477zyc85znXCsSe7mdAyvmgP5sZclP3ybIo3a5wAUuMOyxxx7Dla985blxd4E+N6s64FpyIEK9peFnP/tZFegf+MAH6kzmkpe8ZJvcw50DWy0HIsCjaskzPzP1U5/61FXtcoYznGHuenSBPjerOuBackAnj1DX6f2OPfbYYb/99qs69H333Xe4whWusJYk9rI7B1bMgQhvGdv+nbD4CHvh5VwX6MtxqKevOQfS6fl+lqX8b33rW8OznvWs4dvf/vaw//77D7vtttua09oJ6ByYlwNtv5annZ17ls51gV7Z0P/WCweyLI1FQAYC6xYC/cc//vHwghe8YDjvec+7Xqrc6/E/wgF9OYI7/XtTqt5n6JvCvZ53i3Egnb6drXz+85+vVi6//OUvh4MOOqhujG4xgnpBnQObkQMR7BHqntu+Pm9RXaDPy6kOt2YcmArzdPb3v//9w3Of+9xqKfDSl7502GGHHdaMxl5w58DWwIEu0LeGVug0zM2BVri/5S1vGZ7//OcPJz3pSYdDDz10ON3pTjc3ng7YObAeOdAF+nps1XVcp1agv/rVr66qlu2333447LDDhlOc4hTruOa9ap0Dy3OgC/TledQh1pgDrRCPugVJL3vZywaqlrOf/ezDq171quEkJznJGlPai+8cWFsOdIG+tvzvpc/BAVYuNojaTSKC/UUvetHw2te+djjf+c5XZ+rZUJoDZQfpHFiXHOgCfV026/qvFCFvQ/Td7373cPGLX3x4+tOfvv4r3WvYObAMB7pAX4ZBPXnr4IAZedQtZurChPhHPvKRekL00Y9+9AYz+K2D6k5F58CW5UAX6FuW3720jeTALIH+2Mc+dvjMZz4zXOta1xoe9KAHdYG+kbzt2dYPB7pAXz9tua5rQqBzmZ1TuTzsYQ8bjjzyyOFGN7rRcN/73ndd179XrnNgHg50gT4PlzrMVsUBwv0f//hHFeLucbnNbW5Tb1uMsG83TxEOfqm4vCxSySls4gP397//veKzCQs2HyVIOT5O4Jcvz8h/4hOfeOFjBsG3Of3QthjtKSs05rn7q8eBKa/nbaNNoagL9E3hXs+7RTgwayD88Y9/HO5617vWe1zucY97DLe73e2qcJ1axMg7HViIbuOCP/ER0G3lwMDtd8wxxwy///3vKw5XnJ7rXOfa4DNhv/3tbytdf/rTn6pQ9+WZ05/+9PUAFIHblteWsZwwbmGDI3nQxXlO3BRGOjgvImmBE9/dfBwI31reJg6GhPkJi8frxLXWWC1MwvHlW6nrAn2lHOvwa8qBdHZC8253u9vwq1/9arj3ve893OIWt6h0EVgRamD92gEUwZc4HxgQngq3fHhAmjzB85vf/GZ48YtfPDjU9L3vfW+4zGUuMzznOc8ZfIzALBzsV7/61eEVr3jFgo384x73uOFKV7rS4F5rL4uWBuUG/6wXyWLMTt1S18Al3jParRT4fq1r69fG9/B8HMBnru032rF9bsNTeLBtm7R9YCk8y1HXBfpyHOrpa86BDIYQYqD4uIWZ+V//+tfhfve7X/2yy3SQgJN3VnxwtQIdrF87EAMXH65PfepT9cMa733ve4edyvce73Wvew13v/vd6wd9wflw9Tvf+c5h7733Hh7wgAfU1YOvKRH4Le62rDacsmb5LVzCfC71nZYRPK2gANPCBab7S3MgfWkxnicelvA37SRv0v/2t78Nv/vd7+o9RKc5zWmGU53qVBsUHLjg2CBxiYcu0JdgTk/aOjiQzo2adPDvf//7wz777FOFJKF5xStesQ6Wn/70p1XgEvhmQPLSeWf23OKCDwyhzoExSxZn8JlVE9i+vB5c4HwhyclUtz2i5xznOEe9S4ZaxTNVC/t4ljdOs5rFU80o2w8uLrSkTjVyjr9pvryUkhW+CB5xP/zhDwd8UY8LX/jCFWylZQb3/7qP91/+8pcrf8961rMOZzrTmRb6Rnjato92EC/u5z//ef2ouQ+b/+IXv6ifUCTUCfSLXexitb9d6EIXqrDyBN9KeN4F+kq41WG3Cg4YHD5u8eAHP3g47WlPW32Hi8R/5zvfqR+7+NznPldpNSgIadcCSPeLy6AhEG2yZvBFoD/kIQ8ZrnGNa1RVSfLwX/jCF9ZBLY8PVX/xi18cXv/61w8XuchFqtA0cN/61rfWi8P4ZufbbrvtQvnTgTp9bstaLpw6tTiE1YkQ/+QnPzl85StfqfW//OUvP1z96levKFv45cro6RtyQJt6mZsA6HeXu9zlhjOf+cwLQOljfHxOe+gjr3vd62pfu9rVrlb7CpWhvqofmZTo0y6Zi/ptpe3UBfpCM/TA1syBDJLQ+KUvfWl4xCMeMZztbGcbHvrQh1YdNhjC9GlPe9rwxje+cfjJT35SNyLPfe5zD743evKTn7xmDy6DJWFqEjPZb37zm1WdA9DHM251q1vV7zqCC7xBZ9Z/0YtedHAXuw9VP/KRjxxuf/vbD2ZtZmAGL2HK99JZbGAG52LpqW/80Bv4lq7AoO0HP/hBfamw0/cyu9SlLlWFOZrlySohebo/Hwfwjsrtgx/8YH1REuo+fXiDG9ygXt+M12nTls/aRL98wxveMFzlKlcZHv7wh9fZvc397LcQ4q6z2HXXXesEIBSlrfO8pF8K7a5zYKvmQJk5j35l1ll9xB5xxBHjVa961XGvvfYajz766AX6wZXTo+Mtb3nLsagYxrKcHa9//euP3/jGN8YyqGp+MFxwCv/lL38ZP/axj4177rnnWAbpWATe+OxnP3sss9xabpmNV/iiTqm473//+4+f+MQnxre//e1jmVGNZXY1lpdMhS2DfbzLXe4yFr36WF4U0C+U1ZadeHGJr8BL/LU8aMHK5mctu+hmx7J6GR//+MeP5UVW+YMf6E4Zi+Fo8fXwbA6Ed0UQj+9617vGW9/61mPZEB+LsK79UB/jpm1a9nrGMjsfy+nmsahsanr6lH4HT/niVoVJW6W9ZlMyO9bburvOgRMEB9oOXjYkx6LjHouFy1g+QbdAvwFnoBTd9Vj0xWOZ3YxF3TGW2fZYZq0LQm0hw/EBuAl1wq+YGY5ltjQW65Uq0FMuoVl092OZYY2Pecxjxh/96EfjF77whfHSl770WO5kH9/xjneMf/jDH8ZyYdh4k5vcZDzwwANHAzlCQFFweYYreKe0zPMcPIGNQD+6vNye9KQn1TqXzdqxrDgqSAu/KeWmvP9lv23Pom4byzmI2s/K3UK1L0r348Lr5Ek7tOkE+m1ve9txl112Gd/2trfVSYAXgzZdqesCfaUc6/BrygEDgsB+zWteMxY1ylhOiI5lg6nSFCEJhmArVwNUwWy2XWzF6+yn2I8vDDKZMtCE5SumiGOxbx+L1UGdoRe1TY2XFoFvNk7Ym30XNc345Cc/ucIX88S6EijfNx2Lrnr80Ic+VFcFwc2fOnhX4gLPb4WC57LBNhaTynHHHXcci4plLLrz0Yw9DkxmhcGTtO6vjAP452c2/fGPf7zO0i94wQuOb3rTmxZWZcEYWO01FdKerQSLKmy8znWuU/syYZ5+udJ26gI9XF/GD2PTOHmWrQ0vg2aLJW+NNG1s5cPz5Pdc7kEfy4bUWCxJ6qx4CmNmfPjhh1d1S9E5VjVK0YfXuKkghFecX9GJV6FYbMbrDDuzf/gN3gMOOKDitHw2GM3IDy/lgL/e9a43Fh3p+JSnPGW87nWvW18OKSu0b6qPjrhpndFB1USgly85jcVWP6DVB78cPdKnZbRI2jLzAp2me57iWKxccLPwtDgXC6eMlqbEtXlmxUlPfPLnOXnb+Jb+aTy1XNlHGcu9/ON97nOfqnqbhR+O4IlPPXfjG994LJuk9WXghSutLSP0zOP3TdEldxg2TCwM3SAizzYtsnGRuA0AV/lhWnaeV7nYLYYeT9s6eX7e8543vOQlLxmKEB1c0uUzdHGBt2Hpu6PufGEmdsYznrGeLr3zne88FKG3sHklX/KwDz722GPrPessQpiTsRGWbuP0gQ98YLVSKLr2oejwq2UMaxKnVuVjFQO2zOYrjTZiW9pD46b48HOhWVh5ZWUwHHzwwXWz7ZWvfGU1p7Rpl/KTD3zihFsHJnCzYMRNYWbBBQfcbZ6lYKXNSm/pmxVOWSlnikO6uCIkF/AnDr6EZ+VLOr/FH1h5nYU4+uijhzvc4Q4Vl3MJTi7rk8Etf5w4tBx11FHVEsphtWte85rDzW9+89pHZ+VJ3uX8LtCX49Dx6Zgcl4YV5xcToxYmsGvltx0ODXleK3o2R7ktf1mWsGRxMReBHbPEthzwRc9dr9n1IQwDh0044Vt0ltXqBYwf/qRdDTbmZKc85SnroIwZo/ysXorOvN4fw0yRI+idHi1L52qKxi4dTNFlL+Bu6doc4ZZu+Jhr7rvvvoPDTl5yBx10UO2XqRsY4fjqWmbG1aKHTX9Z5ldrnh3Liy4vRzB4wfqnrFSqmZ6vQ7HkgSt8Ade68HEa1wrUNk04dE5xTeEWe07dpM8qX7zy0cype1lxVaFq/J7nPOepL8KaePwfG3Gngb0sXd+w884715Tg8KBcePHPyeUPf/jDQ1kl1Re/fsCBb+mD75hyfYSXL/PbomqpwlwZaGlh5V8RT0rm7pbhQGmwheUZUM/xs3RKXE3Ywn/KbpdplrChby3p2pxsaOsIL3317rvvPtqIkuan3m17iKN6oUsupmVj+eZoVb1Qh9jMlM4lf304/i9x8emibTCWryNVnSfdedLoPMtsayz2yBX/brvtNpbBWjGFnhb35gynrcsHs+uynS6WDj+0xU+Z6SexhilmclVNg5flgNZYri1YsAYqgmf87ne/O5YXRVUL2FsoJ2CDqvrBD29wi+P4ia8RzV/yBSbPAcnzSn35p3nE4ZN4js9K5dOf/nRVjdnUtBme/hOai3143XQvM+fanlMc8IBNG+ATSxUqlCLY/6tM8Prj17/+9bGccah6c6oa+zYtbaEx/KxEz/nnbdDdCjiA8Wn4NtvGML/NvylhNOXX4llLmlo6ViNMd27jMYIzZWRDqR1owmXGOpZTeNUaodiuV12nwSWNC//4cYnT3mXGXq1YitqmWtB4bh1YporRpX/0ox9tkzdbWDltu4be/fbbr1pJXPnKVx5ZAHHpp4ERl/wsdMpHQarpJ/0t884yE6wvK/sGyig3WY5FxVTTtttuu/rCsEcQPMELNnyUptykBTbp4ts06VzabVbafyBm/0/Lll9ciydxMAj72UhnCVVUYnUD+T3vec9CWkoq9/XUjXf95pnPfGatV6vjDlzw2hBl8eRnc1o5eJF0z0eXzXqCP5vu4TU4P3wAl19bxjzhLtDn4dLxMG1HDcP5XPzjQbeY19Ixq3NvMUK2cEFM8q597WuPL3/5yxdKDi8WIo4PaLeiLqk22eV4fp1Fsx0uh37qTE16BE7ytu1pNseSoVwAVgV2WVpXG3SzXHDyc4ceemg1pTSTPeaYYzZ6UIaGpfy2XLSX+2zGclqxzjjNsuPCEzChUxobajbRNnfZz5sxEjLlcNRYDs5UweMlUVQwFY4lBgEX3CkfzpTBj2vjhJW/WLo8SZvmW+q5LQv+WPAkvsUrPQ5OKw91JtDZgJuttw58OSw27rTTTrWflasc2uQaBtPidS6BKW05GVzNWpOWunmJWFGyQLJpbTM1NOufVpJwxA59iv+/CJgR0XXolFRzusK/DSBXpNvaIOfqPKDPr3Sgqovb2ujblFqrV+ojbGPzuOOOq6cz6bWn6coKPH4I2yCl5y6zsao/d2zbc7H/XdAbR98JHk6uzJpqWfTUrs11NNvpU/d4gEs5TqmCKaqdDXBWJJvpLzRBJ4xeOnwbci4Eoz8vljj1BG32dtSfa2m1kUuXa8PXxmlZUdS9BfVyN46NPqdcHWu3AVxm6BXOvsKsE7e1gMlf+C46tLb0Sy8CrdKlHi2dLdwE7QaPwWsPhUtbtPnFFeFYeSUszY2YNtPducO3p1KEd02T7ldWXDXdF7Gc7HQPziz8KRfOcuCs6uXh84lEfFO2uhUb83ptBL053G7fVG8/ez1l9r6wx6Nd4lJmnpfyu0BfijtNmgbG2DIjqQ3A1+kNdm4lTG/QbrYg+nQMHcglTOhZa5o2W+UaROppgBQ95cKgu+lNb7oAoc4RJMLgOb5NzcMOO6xuYBp8BG+ZKdVNKRdrcXgI1i/8E1Ym4UNIwk8ICgemZi5/+oU46S2OpG+qD2dc6seah0Avdu/1GmEvqVwUFlg+eLSnjknThwmTcqK21pMQd5mYvuRLUDYD5UldQ0Oe5YcXPwjWaRmhM75y5XHNgiP0xfSzkhK64BdezoUOd+W4p+b85z9/zZL45Pes7NCrLctMuH4UpczU69H7sq8ybL/99jWLNnS3is1NF3Hd6U53qtdMsJLi2np4Tt19bKWYLQ6f/exna96iplmwkNL3WCEdcsgh9QW8Y9l8RkfocgWA+35YyPhgi74ZF7rzvJTfBfpS3GnS0kk0HgYbAGVjrfrAVsL0Bu0mB1MuurzV3da2++67L9CTzrzJBW0lCNSHaWHR+9Zb6u55z3sON7zhDSt1aaNpnfHI4CEk3AHDuoDJo1vuyhK4fpM0Ah0i8Gnnlr8ZuC0rpKfc5OWL85tHMLX45gmnvNDJAoXljlk2IaRO7o8JXItzFk3irHasdLzo8IL5JVzuKUkdw4vg9exWS+NAPVn9sIDh2nqDT97QQoCxyHnqU59a799JHrB+bf7kWcx3T42rlM2kudAX+JQfGli3mJlb5bHocWGWi7G8wMB62ZSNy7r6I4hdz2zmTeDGwQU2P89eDgS6l4VJhpVSXqz464XrUi990WSw7WPqy8rFS7UcUFq4zE15oTtlL+V3gb4Ud5o0DacBMF64bIBUO+Oie6uzkgZ0VYLKnNWw6VgKdVGVDz084QlPqLMlebhZ+WrCCexPffyoCgxAMzMft8hAVp0MklStrbs0y91yKKnO0s1Ey/H8OgPNbYjytXk8p1xtDweXWamZ+GLL/RYPHO1zRbIJf8GHHpeQEeiHH354bX82+rkQDBwX+JaGpIkzS3bZmX5dLDUqXwl4+NPnkze44CWk8JDg0hYuloqqJ+Xy5W3LI9AIPpdRMQ+UHt6Cn8eFHi8S/Z6paOLasuCCO2nUTdRJzF2LRVJ9wZsIxVFhWTm4/thLn0Cndkr+FlfyENJMHK1oyn7LUK5+qHwxq5cvs3G8bF3LS/HT5xZ2nnAX6HNwCZNbRluS6cSW6wYzQSp9NVzKbTtROkVmnSl3hx12qMKNfo5LnnTEwJ3Q/PBWPfCeANi9rEIMQjOzcrdKHTThVeDVUziC2MyeMHf9LaFjlu7gkJlZHPjkSX5+y0PCyOA1yzQjZW88bQvwLS5twaXtPAuD4QKfMH+a1tIgnQNDoGtzAt3MUN8022vz/wf6P//i2/LEqosvL+EPwWjlg69T2CkNBKMZri82+cgHO3W8XSqfND88w4fwpqVxnnDKwEdl8sPfaf6UiX63Ybqn3krNYR469NiYg4t6hIqEKocaxIowDr3hQ3xxZuheam649DJ0Wyf1Z15wgQ3dwbc5/S7QV8hNndDVpMUCoHYMb3lXs2osDbUabtoRUo54HSmdmG8JadMKndOOtBq0bWmc9Nh0xg5jOCREiOB/XARr2gOvwh+bUgYpNcEd73jHujxudd3hZ/gGlzj5w3M+tcT+++9f7xuHh84zMOA5cF4+XvjJq62E2zJDd2Da/EnjhzZ+CyNso9bJRCoM6icC3SQjNCW/MtCQ+gW/Fx1h5KWgbl6UBJO6tU5eTplw8b3czGiVRe8btQTY0Jk8NXPzB0fqneg2T+IW89u88i2VN/Siy7XG+sH73ve+4VGPelTlnfvMwUinwqJuco88tUy50bNelQy/dHWNC16+F4XZPL279qBDz+ot8PzkaeM2W7gg725ODpTGrOZVZSZUb9MrpxTrjXuyJ21OVHOBtTiLcFjUtAuyInwWTKjafHMVdAICKqqOsViS1JsU2UiXQbQB9al7+OFZ2KEgB0hcoORCr2OPPbbmw9fAtjxu41ucwmUGVg+cFKFXw+LiAssP3jYusNM0+aWFBmFmkepaTsSO+lyZRaeYDfob0zd3iBSrm3rBk0NO0zLbclOWOHnBF8E1ls2/eslUOTVZLxxTfgsbnGh0T0x5CVQ+lhfkgqldCz8NV2Rr9Jf68/HzEpe4xOhMgeuP2ztvmBI6s1BUVvUgGpvx9oI2+bVdiy9hJocubnPOgckjPm1p523R3Rwc0GhpOKfryt0LVTCUGcrC4JkDzYpA2jJ1oqlLOn/ayVqBMc13QnwO7/H7yCOPrIK5zK6qUEmaerU8ETaoisXCWD5KMe5UbIpvdrObjUXvW/kFPnyKL44LP9v44Dbo2aWz14a7dYFZzA/srPSUhWYvoEMOOWRk8+4WPnbgZWNtoQ/CAwdYPsHDtp4ddJl5/hccmLiU7Znts1O3Ts8Ws846USlqpLGossZihlmzgMf3lCXsKuIyyx2dB0BbmdnXMlvcMrflVmSb+W9a3lLowTr9ygbcATB2+66/LSuMSqebOL042aUXi5ea/vJyzkE6l7qkb3hOWLoXhVPCRY03ln2MBXhpcaE3uBK/ufwu0OfkZBrCrMXMkEB3hSqnUVfTLdb4oantVKFD3Kz4pJ/Q/PDAgCRIHcEvm7/1fvLwIX5bN7MvA82RbCf4nA40cOPkafnkmeAygzfzNJili3Pgw8cjCFvHtacCNjjjt/RMw1MY6WbLcJZvllah4+MdZcOvzrxd0esmyOCJjy7OISmnRB39N8NMOr914B09J4Dx0c2QXhgEkPoVFeJ4rnLVcPkCT1196O95eRHweCHOCccnPvGJ9YZBM3u4UqbyEp6W39KyOcIpZ15c2rTozOt98QR6sTqpbezqYfeSezEWVVO9Ex8fnP6U5h78o8spz9SHn36TuGKxM1rduHUzp3XRFRqn/rw0rwSu69BXqLxyeMQmSWmcuiFXTiv+l15thSiXBC+NuaBzo8PzHCecOH4bbmGEpa0HR19bhMew9957V8uOIkzqp7/UTZuED55Zw9CD0pNmw4o1RBmokisvw8PwBw4WHzbNdiy2wkzi6KPp7pme0VO7rIqdNh0+S5ngKgO86rPLDHYhLvhrxPF/yoge1kEdumd69SIoK53lRGbdqGVhQR+rTId9WLLEVhqq0KwM+lsHWcqdJNVGn8mcMgLDB8dkj27XJihrD/sR7LeLYK+XkfkcGv0yKx56ZB/K9kHsoqKopowOHsGFR+hUpg1AF1OxjolTFpfyp8+BW01/Vpn6A2MGm7/a0KcDbQLbCGV+qc+w1MFvtLtd08Ez4x7vfWoOX9u+Jqx/OAtQXgp1o1V+G61oCO9bfqxWvbtAn5OzGsaPHamNUI3sI8I7lkG/Gi6dEW6CgpDQMYR1KJYZNlxa4ZA8GURtp1sNGtcCJ0HixKfverL5tXHnxF1ceKDuTBQJZtYbTu4xQ5v11fvkgYMgc0DEpqufDTGbrmAcNmHVYdPRaVGWIF4oHJ4TCgSqcjltlQ1IYTDaDi7xZbZczS9Z2hAuyi4rgyrYmWQS8ISpDXh20GhhHih/aIYPHj/ClQ06oetDxkzmvCji0OAaYWaeNvbljZUHSx08Y3/NNrx8falaaOjfBJO+jncx7/RyK19tqqcffdNVOzCV5NQzfdBz6E3dxU1dCz9N29Rn5Qc/c8RsiHph2lD2IlL3y172svWlyXLJLZ4smfDbz3jX1mUVVMlp66jdvOQJe23mJeAFN7WeklG+tF1o2tT6bZC/IO9uBRywnC2zsrppZIlaOsIKcq8MtAzAqh6w8XdI0adaHvv0GR2gjTnpccJ+6LGs5q8mbSl3S/ipB5/O2h6GjwlQE1gOc4EJD6gHqMRsfFG3uKsjutIWNvSL86PycCcLHSvVGtVEHFWDW/ToSMusdGwv4FIuVUyxbqiXWbkXxa8I6gU/4aTZeKM2ylJe+dQu1Era0AValvFUA75Z6UKw0BmaUl/x0YEXIVwvLaNaCjy4Iniq2sYdJjZB9WUXcCmLS/nqWGzSK4xLqagb1B2OlEflQl9fzCPrHS/iZzk4F0ubBb+SuNRt6i+GAx0uc3OpW7EGqmoqfLBPQVduAxqPjGuXde2zzz5189vYo2LDA+2jPA4+vNMu7r2x9+AeH2Mz9Q7slKbF4qdwK33uM/QNXm9LPxTmVjWLN7eDBr7ybtaxGm9ab332rOVTa1VtYOnPztwyuXzwuM4EXIrvIIMle0sDOvPchpeu3dabqg6cOpkllwFWbXzLZl5tA2aaYFJXsyQz1CKw6lLZ3elmVk7Shi9lQNW2gzf5xJmdw1sur6qzUm3srmzOcrwI+zpjdqKP6k0anHBQBxWhXu3CwZuFl0EvuODABl6k2bTZuDaEIw6M+z2oQMy6zfqY0LWrEbDg4syarSDM6K0gfOTC7NNKDpz6UQ2wWy+CqB6aMavOrDt0WQVZbeAjutxZY6YfHPqmejoub+ZKbeFjHy0toSl1koYXqzVeUt7Ub9sWDeWGybr6uEqxsXcAD8/A4JcZO17gEx4UQV3TrJ6kxwQ19ZTPytnpY/JAXjbt7tORJy408LnkT/rm9LcpxLs2s+KcVWCIAZD0loDF8k7zBa7Nu7Hh4A49Le5ZcRtbTpsvjczO1wBks6sTK89PR41raRBeCX3p9DqK5bbBTMfJ3trAovukU3Wiz2BzOMJR4SzvUlbKbWlBn3qE1jYt8KnDcn6bt4VdKZ4272LhlCWdQHcSkv6W4KUTN5A4dVN/OnYnENkZ03/TZ+Z+G3ChEWz4Ia5soNaLlQhFqomy6VdVNTser1YzyKkZyiZrtdOmciEEWpzaj7Dk4E9ZqUPapwKUP0LfL7CB92wZT6DT+U4F+ix86uJlLw9VE1toahr9JwI5+FP+vH7KA+9gl9OQ7O8JMnxwWjN1SxltnrRN+t685W4uOOWjm6qOntv+gH2D0DqrnNCfek1hvNjscehrDldR6ZkAZJ8h8G0ZbTjpm9OfW6CnctPCU9mkt89tXBs/Da+0koFv8U/j0JlypjRvzDMBa/amI9A73qno0zRcS0PKa+PasHLzHBrkSZxwBLrOQiB9qBytpsv18ojgoge0sWVm4NSjU2zRX8Lb4kw5idexE05a4PnzupZmefIsvBI84JdzLW4zKjPuYglShStdJ4HIgTOrJfAJXQdEvASdYlTvFk9oFEfI8A14eRw88myma8PP6UfPZmxeIFZJZqUGL0EpjbPhaPVmo1Gcn3L8AgMuZaNpp3LDn5dOVhnS49TFLFt9vJRMIuhzkz84W/z6KaHuJaB/7LHHHvVH/22WmbwpY14/ZYHHIwLMbNdXmYwJemcw7Sy2zSO8VsIczcq3ceyFzLeBabOcWwlP4PEzscBfd8IcccQRdSO1qGjqii2Tq4p8C/9Vgb5YpRCeygrHtXHCSZuGM4gWa8jgjx+8KWc5P/nAhYaE4VopvlnlBa/B7qRhMR+rm6IGtmWV9AgE+dsyQ19wzEoLvcETGszyLHsJCYOF0FIOHGYYNvr4NngIdIM1Dgx8Kb+NF9YuYAInTnhel/ok3/R5XjzzwgU/GjNzZpFgQFr2t/y3cnHk2syprV/KSj1bnNLyLAwfHnlpupPDS0F7sJTxnVFqBhvjNhflC04bjVZV7vdJ3096S4u2lO6nHxG61GmBRYM0qhH4bMLaFLXRRqBzLb5pmKrEZ+WcZnWdL3pdtkVtpy8lfw3M8Re6+JyJjRsd2ztx8MyEw8sv/FAH4TwHzxxFrgpIOURUeaIPEeiuxA3vQuNyBauDdqYONeGyic0qhurTdQtRby2HZ7XStykzwkLjf4RSKpfCEu9Z2I8DtxgDNGILk3wtrqQnrR2Qi+GtSJu/5G1pmZbdgG9UUBlxZmUEiLc7oU5/zaVey5UdXOgVTj2n8cGZ9PjJQwfKAoFZmo755je/uc4KDKbAtHkqkeVPXFtW4sX5aYN5XcrJgE0+ZYhbCa7kncdXrtmzgUgd4TKptIP8VjeEsBcd6wWCU9wsmlLnllfiuPCKELUy8rKEj6AmCKwKmE0y5WvxGNxWTFYPZsr4oHz42lWEPOLN5Jgiemnk+5PSUj6Bbobu5U3lkhl6S2cluPlLmiiTEHek6y9eSMqhJkFLymmyLhkEH9xWIVSB1Dpm6PjjJbJTWW144QV/i1CdZrVDC7OaYbR70ZfNz8p7qyv9h0PbSpw7gLwcqNtc42wFnRXWSnGtpNx5YDfYFG0bbalBCU6HTCdNQeKTT3haOXFTFzxT2Clc+9ziFvZTbhvfwm9qGF6dWOO5nc19DQYzh+50VHCJmxVu0+QLTM1U/uCZxVNwqd8x5eOyZuUGqhmbOzcIBnnhnJU/5fLhmvJa3Kyywc9ywaHt0t7ggjfps/JuShy8lvt0tgQUc7ndd9+9okzZNia99MDGhcbwKLDSEycsXr7Ui97djEt+6haDmJ7U7JxgNKDp1c2u8R0ugpy6LPhqoPyhCX4qGnBwetZ20W/DEbqlRaCboSuXQGcLLW3q2nzS8owWewNWe8osB7Jq1qTPwjXFHXqD16rRCsgEB07mflYZxkY2d+GVjxOep5wKvEp/6utD4X74TJVWTg1X3q+0SCsUjppTH8isXB1XwteVljsP/AY6dBlCUMIaTMNMG6Vt5GlBBkTg05AtDmWknKTHn+Ja7HmKT34448u3UpyLlUVIuLTe7rVdbJ3BxiiHP61LvcQJS5/GoWtKJxh1yqBOnuQHT6hYRpuBOtBikLtUqK1nwvL7eU5cS6ey2jKkzYJr8yQcvMmfeDjROy+e5FuJb2aO/2ys2Ua7RnfqWrqE0dT2SfBTGpNHfBsG65nu3ma0WbvybQIayNQxhFmEMh5wwZP2g2NaZgWc/KGTBYnynHmg5qNesqy3Me5QFLWJ5T3hOcWpnJSVNDi9AMW3+t2kT0iY+ahegYfPi4taB15CzYumtSJS1tQl/zR+SzyjB0+t8NCBf2ie8moeWrL60uZp3y3R9+eh7f8BAAD//+vY6RMAAB9vSURBVO2dBZhcNReG0x93d9viUtzdoWhxpxSK+4O7FffiXtytQHEo7u7e4u6u+c974BvS29ndmWVmu91JnmcmucnJSfIl9yT3xLpEM8HMP1bo0qULj/6M319//RW+/fbb8PPPP/vv119/9fARRhjBw3gYb7zxwoQTThhGHHHE8L///c/94SNe0MCL5z///NNthWErDLpKjfIrevHjWWGpn+jaYn/66afh5ptvDttuu2244YYbwpJLLhnGGmusEiuVQR7F9AkHtx9//DH88MMP/oOGH3jJHn/88cNEE00kNiX8CP/mm2/CueeeG+69994w00wzhd69e4fZZ5/d4ysCdBiVm2e58dczdZoaaFK6NKw5N7zEDxq5q+XTHP9y/qQxePDgsOyyy3rZ99prr7DIIot43pU+ZSMPPGNUNvkrLLWhS+n1DI0M7f/NN98MRx55ZBhllFHCjDPOGLp16xZmnXXWMN100w2Fn/IjW3xki3eaL9y0kzPOOMPL+dFHH4UPP/zQ2w1pktaYY44ZFl54Ycdgsskm83zThjCkVUxP6ShM7Q16heFuyZAvTJG+mJZo0jIpXcWV7Qzb8U95Rf5gkF/4yVSaL8WBPnVT5rZgq/RrZXexTGFK/HD/8ssv4bPPPgtvvPFGePfdd8PHH3/sQgj/3377rfSSQMtv8cUXDyuttJILdgGT8pQfiUigp40Q/5SG50qM0heteOr5v9oqwyuvvBLOPvvscN1114XbbrstzDLLLN55wR+atCKVpl5O8Hv77bcdxy+++MJxRLCnLwk8xhlnHMdx6aWXDqONNloJY/BCmF9xxRXeqZD2uuuuGxZaaKESjbBTfnnGLX/lSeHlwoq0itOcDY+Uj9zV8mmOfzl/MEOoLrjggmH55ZcPu+++e1hggQWGwF/5wMaobpQv+fMs2mJaKY3CSJv2//DDD/u7Mckkk4SZZ545TD755EPgLL7Ew0085UG80rwoD4rH+9W/f//w+eefl9oWYX/88YdHh542MM888/j7hqf4p/kWX8KVD/wQZJg03D1a+EvLkMaTv/hhqxzYchOHPKb0LSRX8yDSb86Qx2oMvIrlUDlTPtXyTeP+F/cQAp3M0pAQYI888kh48MEHw6uvvhp+//13H53ToGkQjCQpFIbnTTfdNOy0006BRi4DLwGpBqcwRrwaeeBXbeHhSxyEIKMUvg7Ijxqr0qnGVl7TvOAH3wceeCD06dMnjDHGGOH0008PU0wxhacPLTQqn+LyUiK8n3vuOY+LEECwM/rixURAk/dRRx3V45JPeILjJpts4mHi/dVXX4X77rsvHHPMMWHeeecNvXr1cpvw9CVR2iqzMCqWS43xyy+/DIwAv/76a49SjC8+5Wx4qtwjjzxymGqqqbzulSelXS7uf/EDO9ojAn2jjTYKO+64Y5hzzjlL7UdlJQ2VR3nVs9Lnubl8Fv2LfPUsHjxTF9Ua6gIe4iM75S+/crzTdBVHdDwTNzXyE89ieEpbzk1+Ux5qSykt4cX3QeGKq+f2spUudjlTLQ7IQ2SN6lz80/osl057+LlAV8Xwct95553hggsuCAMHDgzjjjuuv6i8NAiA119/3Uemyy23nI8iicen4FJLLeWfgKhcUnAEIH5KA7+rr746nHfeef4FADCE61OokkILQEZnCMFVVlmllG6afiW8oFE+cafxyTOVd8stt4QDDzwwbLXVVp7eBBNMAKkb0StPlOODDz4It99+e+jbt6+7wWiGGWYITU1N4bvvvgt33323CyVUJ3QS8EDVsswyy4S55547ICThRwf66KOPhv333z9MPPHE4YgjjvBRIQmTjkb6dA4jjTSSxyGeGhp0xbKpHu65555w8cUXe4cDL+ohpSVuc0Z0xKEz3WGHHcJ6663nbYIwYdJc/Lb601G+9NJLYYkllvA0t9hiC1c/pfwoH+nzIy/8mhMwwoL4KpPyrnJAg4GH6NM0CJM/bhnFLz7jzy+tI2hEL15KQ2HYaRzxUVlTOpUh5UE4plzaf4e0/E88jHCFt9qM0ityUJmK/u39rHwID5UBG78U19byJl4pXeqXulOadnNbBqIVCivaCx5NPxdNAEXT18VTTjklDh48OH7//ffxySefjJtvvrmH33///dGESTS9ov9M6Hn8lv6UBjTnnHNONGEWDUj/WUdQcsuvJdsaktMvuuii8dJLL/X8Kw9KBzt1k27qx7MM/ibUSvQ2EizRmropHn/88bFr167x8ccfjz/99FMpTPzhI/cnn3wSTz755GgCOpqQjSakPY+DBg2Kpj+PJqBjU1NTXHnllZ0fGMKTH+mSD/F77LHHHHP7rI82So/WUURThfmPsD333DOecMIJkTyqDIovHrIJVx7xu+mmm2L37t1jtdin9UJcE+heXtqDTJqO/Gphg5F97Xj7tM4tvvPOO0OxVT0Wy1uvPA2VgeyREagCAbXLtL2qDVfBpkTaBUZ8yr744othn3328REhn/bbbLONj7pRr9CTMUI/6aSTggnQsNZaa7kKgJEkYfyqMe+9916wl9FHmMRTfNmt8bLce6/KZOyUU04ZJp10Un8mPmEy4mcADdULW7l9hMEomC8LfmlceBD/mWeeCRdddJHjYkLQR6SMTBROHKULjldeeaVPaqHrXWyxxYIJXR9Vjz322D6KZl6CyTzrIMPhhx8eVl111cCI3wSl81QeUMtceOGFPiq3DjXMMcccHk7apMfonIk6Jmo32GADVz3BQ/GdOPlTHpVfVGuogVANEQYe2JUaxaENMCmI2kUYVsOn0vTIN+V96qmngnVEPjm5zjrreP3Dg3B+fFFRFozyiBvcaAcqP37ZZASGJQJqi+n7IrlEGO8z75TkTSV5dYGOwGD2/pJLLvFP/80228x1uagB9KKzOgMVwnHHHecz/AMGDHBBVE1iEqwIPn5kOjVpwVL/olvxSJsfBecn/im9aMUbm7KgPkKdQTirJpjgIoxnCUaemaBCoKM2QcAiwGREzzPu1157zTG65pprQteuXR1TVmGgKyecH0L02GOP9Y4RYWxfPaW04aP8oju3LyFXz6BOwVAXCucZvqibmCCjw4A/JqVxj3/+8BcNvBB+wiwNS+O05FYc8kc9wFt+LcWrNgyeGOqN+Yg111wz2FdQ6NGjh3fmhNOe6KTwZxKfOiQ/ar/iofJXm4dMnxFoDwT0/mCzqgnZNP/881ecdBebqIsIGVZOvPXWWwFhzuicJXF6IXg50P2edtppLqQYUaKDnXrqqYcQcK2lysuF0Uslu7V45cLTF1Ru+JPX1BAmAY2QZIT8wgsv+OQaSwAJYxS9+uqr+5IweCCciIfAO+uss3x1C6t49t5775LQStOQ+6qrriotOWP0iM5bHQBl5QfWdIp0ngim7bff3ldqFLEw9YILKEbq9NIILGjIFz/c5JNJYXTo0KQGmnKGeBJyChdfnnG3ZtI8lKNX/lrjU004PJnjoc423nhjn4OhTtDhE4Z+3dRa3o75OlK+CEvxk381aWfajEC9EKB9poZntVGWRyOLkROVmi4mMCIrWvhsZ7kcI/UNN9zQR6RiDDOWMZ566qmudmE1C5N+TU1NJYHVWoLKKMIE4aTP39bitRSOMOZl5Sdg0jwTV/64GZXfdddd4emnn/b0mfilXEzqMeHJcjDo1QGgZkL4gs9BBx0UmAwWf/HlGTflOuCAA8Lll1/uHd2+++7rSzklPKHjh7DZb7/9HD9UV9ttt11p6R15lCEeRnkhDaWNf+pWXvDHECZ6haX08OZHPSgdbNJqzYgfNvTwLY7QlYfWeFUbTl0xQU0jZxkn9cHEPYbOl9VTRx99dLB5DPdTXun4VE4PyH8ZgQ6AgNonWdE7q/cKP/Y5rLjiir7vgOdKTBdbPhivv/5615+zHAxhwzCfFwDmGq2ylBGVC+oHPgXuuOOOilUu8JHAIOMsWWQlCMv42mIknNjcwwiVDoY0BAo8RYNbabMeHP09HRc634MPPjigF0cHzBI4OjXKi4Ef8wp8wvMpzzp00pEQc6LkjxF1z549w6233uqC/MQTT3T9bipM4Pn888+HXrb0EPUMSz1RuYAn+VWeVRblg+dUsOMvesKK9AqDToIs9cOfrxXqALsSQU4cDGlhhBM2X2rUA2koL7hrZZQm7QZ1FnMQtNmlbHUVG21kSBM9OzadPHaqUhIf0Wc7IzAsEeDd5P2hXaptYtNusQlTO644nybg4qGHHhpNBxttCaCvvLCEjN/fxl4Id5ig8pUZrGqwT15flUFYSqs4zdk2IvRVHCYcfRWNCVZfscCqmmp+pjt2enuho42Ih8oDeSJvyp/KgD954MeKE1uiGW05YTS1SNxll12iCW7POuHQXnbZZdE+62Pv3r2jjQA9LC2v0iHABKPTUg5WA7HqI6WFBj8bYXp6VmnRVFjRRpUEOW2R3gP++aMMwi9Nl+C0nNC0ZERLPkz/XhXuqiPhzzOreayj9/ZAuuRN+LWUj7aEDbKVQocddpjnmbpj1UtqivileVG5U/rszggMSwTUXrFpn/wwPKe/avLYBYHOqPuoo47yNdZ8zs4111ylDoHegs9ZVricf/753mvstttuoZeNMulBCK/EWAadFnpGWf369fMdlPgzQkzDK+XHahz0qauttlqph1PcNF8GSKnXI5ww0mNeAJUHahh4MWJGL6tRuHV0vhqFT3sT+KV4xOcHX37QM7HMZpeBpsZhcxDzDVIFKS8mkIJ1EuGQQw4J008/vX/xoCdjcjPlpTKQR/zBuYgP/ioLbqUhN/QKVxjP4kM+0eOjTiL/1LHK7RGb+YO/eKBq4SuJeYD111/fy0E05aEZFm32Zo6HNsjmLlQvfFFapzIEP9LGyKbsKr+9MO6mnNlkBDoCAnqX0rykbRd/td+Upjl3F0al6MMRbGussYYLteKsKjseEfi8/GzqsFFS6GqrOCoRAEo4zeT777/vyxYRqHq5CK8m49CzpHKaaaYpbb9O00jTha+AUxqiZRMVwpfle8wdUDaEBHlDiLM8cMstt3RdFjwVT/yx4YlARG1z4403eqfAZKoENTSEs2kLHFkKuccee7i6pcnmIZQn8cImnTQtaEQnf55xpzZxMaL5++nvf9HxhD56sJ2LgjpJRvz13JwNb350NAh1OifULjxjlKfm4rfFH57MP3CeDRuiEOhswlKnCU+VD1o9y0+2/J0g/2UEhjECaqtkQ++fZFXqV3E2+Wy1ScJoL0c0QR5t1BbtMC4f8rPpxfTIro6wddCuUrDJKFc/6BPWErc8VW+Ip0+M6mMPGaOlPCgMW25iy20TpdEEebTJtWjng0TrvFxlYCthvLw2WRpNkAyZ4D/xxUP8bPdrtN2r0eYgfAOM0mTi2XaHuurG1s1HW27nG7WklhGd+MgWf9n4Y4rPf/s2/5/yL8YnrC31UOSZpl5t/tK4LblffvnlaJ1mtA4kUj9KR7biFvNWDBddtqtDoIgrscthKz/Z1aXSeNTlcG0rCr4OndMUdfgU2+mXsskmNu0w0cdGDraqs3mHEbyWitFjWEa8V1HPUnEv0oEITd8bbEesL4NjFM1qFw594iAuRtl8kbCskS36rRmWRF5oa9XZNMTokRlqDKN/zoNh2zqHOTERyoFmjOBlhGFnwFRlqrXNclMmqZlYZjURJx4Kt1qn1Uj8THh4cYWlnvHEj2ds2qb83JH8KY7oFcQzP4z4KCzbtUegdJYLwptP2SeeeMIFkHSqqETY8YhwYlkfK0RUeWRHlVX7rLUfR9vS70syWfGCLh1hbtv9/XCttdde24+qrSQ34MLhUawA4mAzMFUDRz2Ezte2/LuKAn4S3mCsxo6etxpVViX5Gt5p1N5Q/bEpC5UdczCoelLTGdpiWp72coOv2h9p4mYHNRu5aMO0SbBlvoQfKklo1G5xo5pETcl+AAz0DAoZCGmuDT5SyzlR/qs5Aj5CTyuHSmE9L6N2loRxCuDoo49eqoj0pZFASv1qnsM6M6QMNF7OoEa/zagZoUHnRtnRq6frz1vKDjhiaLi8DOio6RjZiMWuWx3EBV58GaihE0910BkwbQmjtoQJVwYbTFSD3ZlnnhmmnXZaZzc8t7+24FHrOOALhhpMwJ+BybXXXuvLenVKKMdU8D7w9an2Sl3QZvmSZ2Mdu5sR6iwFZpMiX7i0/yzIa11rzfCzinE9mFWm21ZB0QRc6fAt/IvGKrDoNdw+UxbKaDsQo+3ujCylZL7ARtTRVqNEW7teVk/YUoHhaYLcDy5DTw6ewhdbbnhAKzxlt8S7kcM4oGy++eaLJljKHszVyNi0pexqe9hqk7JtZO7zQLaDPNqo3JeK2pe6L+UVDWmKhw0Eown0aIMgp2VJrg1o/D0QDfGyqS8C9K4l0ItJqSLwlxtbz+7oBH+Uyc4G9/XU9jXiQp1JUlsiF2molZoUI9xq+HKnzykt/EUjN8/Z/IsAeJgqK9rIL9pRvXHQoEH/BmZXmxFI26HcMKOtMgndq1cvXzBgX67RRtrRdkD76avQpG1U9WMb9nzSmlNFNZBhkFikd4/8V3MEXKADeLH3pIIkgFQZaYWn7prnqp0ZUk7OtBk4cGC0m4CifR76qh+7nchXvFSanRSzcu5yGAtH2SnWlabbCHRgZ9cARlYJ2aFm0fToQw0yGgGHWpdR7RS+xTZoy2vjCius4F9FNrfkRyXTmbLyTbSSEaZmibZk10foNu/kHa54F9t9rcuQ+f2LgOvQ0Z8Z+K5HQzPDs5H4D7eesWUIx6R+Chue7LScHAvA8cCcB8LhWjvvvLNvsqqmjMIFW7gJJ/ERTYoTfkwyqR5Em9I0shtdLfe6sjeAiy04qVI3ZGWs2tYyyrVDcaIdMrHPqi/mkJgI5UA+TvVkIxmb6MDdhLXbzLmxmIDzjNiPQTwuZcGofvROKI1s1wEBRuf0pBj1tv7wz185v+Zo03jDi5uyq/zoDVmTzzpyjidgF201RrywNSpBly63ePGsryKlrTC+FIr0Cmtkmz0R6GibmpqiHRLnxzQI70bG5b+UXe1UdsqLozFsR3e0TjPa8l2/pIXLWmwDmV+swohchvZqu3j9CBF06IzU2Xuh+sHOpn0QKOnQlVxaCaoI2dAoHDcVmYbhN7walQsbwZ4K1baUsZI4osH+r+kNr7hXmm9uzWLTGwK9X79+fnYOmKkNpvhVyjPTDTl3Ax5qkxzaZwfMud4c1SOb6+zwOj7Lox1X4bdnCXviMRCyY0Oi7dyOdvCcqzDT+mEAk039EUCtUqrE+ic3fKSgRj185Hb4zyV4N4e5whjxMUnNpJt92g8xAhz+ERi2JRD22BLS6Ml33XVXH6Gze5oO1e7VjVyHyCowuxc4pqN0RuWM4JmDYqe5vvxVf7nDbZ86doHePknlVDICQyMgYUJI6uZZQgE3Zw7ZoVwu0Dn5s5rVR8TPpjwCErjCXs+mL4+2MzzaRTc+GqcuOPbD1pW7ULf5JV+WC1fUiqhl7DJ5P0YDtaH4ES6euLOpLwJZoNcX38y9FQSKL3sqCFKBjgrANny5QOeScnS82dQOAXDX6Bw3wps1/xyxbDdFedizzz7r5xGxtJeROCuNEOZ8PXGsMRfL9+nTx/3SnKlOZadh2V1bBLJAry2emVuVCEiQlIuWCoB33nnHN3qhcrFdiUOdhV4ufvarDAHhrA6UCWg73yjONNNM0Y7K9k2GhHHmv60Ai3blYbSznXxfAF9Kg2xPACN2Dvi74YYbSl9W8C3+KstRpmorAn6WSx0Wz2SWGYFWEbBGy4CidCYIEZpb4sb1gTYZGq688kq/vq+rHd+c3tfaamKZoCwCxToAf9tk50dhmHD2m8xs7bkfkwwDboriiAwT4n51I8dus9yX6ym5UYqjqDnzia3+8JZRPes52/VBIAv0+uCauVaBAC+7jeRcmOvAJ57Tdfm2a9Evt+AcdNZDc2olZ6FjEELwUGdQRdKZ1BAoYschaAhmbM44Mt24d57gy328nMzK5SjzzDOPn0/PKaLnnHOOH9zHZTlcWp4K9Fw/7dfMskBvP6xzSgUEECT8ENwY3KlJBTSChMtI2OzCcc4c+KR4ips+p3yyuzwCwlsCV50oF94goLmFC8Gtu3Sh52IUbhxjgxeH99lqFxfybPqabbbZXNiTGnWR1h9+4o87m/ogkAV6fXDNXCtEACGhFz0VAEV/OxvEBTqXlSNwOLkyFeDQp/ErTD6TJQiAIT9OsuS8edRadKLcSiWhz0mKnO3PdY02r+GnX3LhOReOc8Q2F3hTnxjipHVik6751MUE73o4s0CvB6qZZ0UI8IKzZZwr+ThnmyNXGXlLeEhI84wQQYeOnpbRoIRMKjAqSjQTDYWAcMa2yU+/85Yz/e0cl3DkkUeW6AnHcLTucccd50J/6aWXDp988kmwyWq/uIVLcIp1ovokbjEMv2xqh0AW6LXDMnOqEAGExpdffumXhHP7EDpxzovnwm9bDlcaxUkQYHORNwKdixQ4pxsdLf4pTYXJZ7IEAQlpcGRkbUsQfSKUOYvevXv7uTkJuTu5L4G5DM464kuJSzA4K53ROfr2VH9OhFxHRQTr95wFev2wzZwNgVRgAAjCnFURXIiAPpyLx21XogsG24kYevbsWRqlpwBymxSf/xwSxQFq6YQodKSD4Mim7QiAIROcBx10kF/6goBeyq6jlEAWZy68QPW12mqr+WU4qL44jIv6Q99epCee/HIdCcX62Fmg1wfXhueKcEiFOW5efEbm3NXKJCd3gjY1NQU7Y9tH3lzPxymKfOpLP86oESHARJxdwu132yLYCU+FQ+puePCrBED1BNbgzBLECSecMOy///7BLo53buAr3TjYMzm65ZZbuiqM5aOM1vfYY48h7sklonjn+qmyUtpKboBnkxGoOQLprkMTBM4fP3Z4mg422kjQt/PbZJpfomACJNodlH6BAjsTiSMeRDZh7jsXTQ3gZ4iIJ7bcNS9EJ2cIvvww7Phkw1b37t2jrV7xTUKcaslmImGc4sx5LSeddJIfxjXzzDNHm0gt1YN4wldx5cbOpn4I5BF6W3vCHK9FBKzJlkbQuPVsL3jgk50RG/e3smoCtQvL4Jhs4w5KztNec801S3GIa+e4+FI6O9o4HHPMMaVJ0RYzkQNbRQBsMdyrSz3wY6KaJYlcwm0HbvlXEaNy0UJPvdkVc8EO5fIJbS6St0O7SjQakaveiZO6ec6m9ghkgV57TDPHBIFUCMhbfggJG835hdqoXfr37++f9ayUsLNB/LNfn/oIdDatcPHI7rvv7gJdfCQ8xD/b1SEAjsxtsIKISWcZVCm2xb+0RFR4E47bRvXBznPxeQ27g9fp8Fd9iF7P4pvt+iGQBXr9sG14znqhWwJCAoBlcieccIJPlHbr1s1vvmHlBJOfCA52LqLf5bYiu+eytJICYZEFRksIVxamugJL3KqX4rO4CfM0nsJkK0zPiqPnbNcegSzQa49p5vgPAhIK2PyKn+2Q8ZIzSkcNw5pnlibyOc/EaN++fYPp1YMdFhXssKjSUjm7s9IFvfhnQfHfmpzqBy76asKt5YfgywieMNyqS2hwY1qqA/Enfjb1RSAL9Pri27Dc0ZXzkqcvOi82z4Rh9IIj0HHfd999rivnUCjuo2Q1yyKLLOJxEOjsEN1vv/2CTdyV4sInCwxQqN4U60EcmhPS5fzTelY9wEd1qzjinbYH+WW7dghkgV47LDOnZhDQi66XvBwZNLYCxg/g4pJuNqswIXf88ccH9LN2HZpvQEK3zsRoyou4WVCUQ7V1v1TgqrMVloSBM0JbeIteNKRQzi/1xw09dGk8/LOpLQJZoNcWz8ytSgQkDIiG4Hj88cf9gCfOEuGGeSZDWQvNaJ0RPFvOF1hggdJO0SqTy+StIJAKXblltxI1B3cABLJA7wCV0OhZSIU6G48GDBjgm1o4I8QuJg49evQIDz30kB/nil7drkUrjRjBLo/+Gr0F5fILgSzQhUS2hwkCqTBHMDNKZ/s5qhaOZuWMl5VWWil8/PHHrobhfO4ZZpih7Kd7/pwfJlWYE+1ACGSB3oEqoxGzkupnVX42tjAi32abbfyskK52jCsTpxwVwOUKU0455RAjdOJltYDQy3YjI5AFeiPXfgcou0boUpsoS6heOBsE9QsnALKrlLNeEOjjjjuukykuD3l0LuSy3cgIZIHeyLXfQcquZYtpdtiKzhVoW2+9tZ/sx3np6NI5OIrJ0lSYE49nrcRI+WR3RqCREMgCvZFquwOWVYJZI3Q9k1WWLrLunPNCEPDrrrtusAOh/H5L0eWReQes1JylYYZAFujDDPqcMAggmBHK6NJT4SwBz1LFPn36+ETp+uuvH04++eTSDsYUwTRu6p/dGYFGQiAL9Eaq7Q5cVgn0VDAj7Lmo+Nhjj/U16JzEePjhh7vgF10eqXfgSs1Za3cEskBvd8hzgkUENEov+vNMGBdEc1UdSxg5bbEl+nI8sl9GoFEQyAK9UWo6lzMjkBHo9Ahkgd7pqzgXMCOQEWgUBLJAb5SazuXMCGQEOj0CWaB3+irOBcwIZAQaBYEs0BulpnM5MwIZgU6PQBbonb6KcwEzAhmBRkEgC/RGqelczoxARqDTI5AFeqev4lzAjEBGoFEQyAK9UWo6lzMjkBHo9Ahkgd7pqzgXMCOQEWgUBLJAb5SazuXMCGQEOj0CWaB3+irOBcwIZAQaBYEs0BulpnM5MwIZgU6PQBbonb6KcwEzAhmBRkHg/82VR0pM1210AAAAAElFTkSuQmCC)"
      ],
      "metadata": {
        "id": "PcXmaGzfzySp"
      }
    },
    {
      "cell_type": "code",
      "source": [
        "iris[\"sepal-length\"].std()"
      ],
      "metadata": {
        "colab": {
          "base_uri": "https://localhost:8080/"
        },
        "id": "2FOYrrKNzbdm",
        "outputId": "514dbb46-db9c-4c92-a058-3c09443fb6ed"
      },
      "execution_count": 9,
      "outputs": [
        {
          "output_type": "execute_result",
          "data": {
            "text/plain": [
              "0.828066127977863"
            ]
          },
          "metadata": {},
          "execution_count": 9
        }
      ]
    },
    {
      "cell_type": "code",
      "source": [
        "iris[\"sepal-length\"].mean()"
      ],
      "metadata": {
        "colab": {
          "base_uri": "https://localhost:8080/"
        },
        "id": "eJxVRJ-wVJNP",
        "outputId": "d32a50a9-74b4-40e9-c172-cc533a08aecc"
      },
      "execution_count": 10,
      "outputs": [
        {
          "output_type": "execute_result",
          "data": {
            "text/plain": [
              "5.843333333333334"
            ]
          },
          "metadata": {},
          "execution_count": 10
        }
      ]
    },
    {
      "cell_type": "code",
      "source": [
        "iris[\"petal-length\"].std()"
      ],
      "metadata": {
        "colab": {
          "base_uri": "https://localhost:8080/"
        },
        "id": "O1fLtZKp1BL_",
        "outputId": "3b2e577f-e8e3-4f26-8336-33302026aa10"
      },
      "execution_count": 11,
      "outputs": [
        {
          "output_type": "execute_result",
          "data": {
            "text/plain": [
              "1.7644204199522626"
            ]
          },
          "metadata": {},
          "execution_count": 11
        }
      ]
    },
    {
      "cell_type": "code",
      "source": [
        "iris[\"petal-width\"].std()"
      ],
      "metadata": {
        "colab": {
          "base_uri": "https://localhost:8080/"
        },
        "id": "Oz6KfTyh1Nzt",
        "outputId": "27ad116c-c346-4a72-a05e-c8b1017bc91f"
      },
      "execution_count": 12,
      "outputs": [
        {
          "output_type": "execute_result",
          "data": {
            "text/plain": [
              "0.7631607417008411"
            ]
          },
          "metadata": {},
          "execution_count": 12
        }
      ]
    },
    {
      "cell_type": "markdown",
      "source": [
        "### Creación de una muestra mediante el muestreo aleatorio simple"
      ],
      "metadata": {
        "id": "5984301InxbV"
      }
    },
    {
      "cell_type": "code",
      "source": [
        "muestra = iris.sample(frac=0.5)\n",
        "muestra"
      ],
      "metadata": {
        "colab": {
          "base_uri": "https://localhost:8080/",
          "height": 424
        },
        "id": "PWcu3xiBnzVF",
        "outputId": "bc95245a-c834-4db9-b06d-94bd7aec13c9"
      },
      "execution_count": null,
      "outputs": [
        {
          "output_type": "execute_result",
          "data": {
            "text/plain": [
              "     sepal-length  sepal-width  petal-length  petal-width            class\n",
              "73            6.1          2.8           4.7          1.2  Iris-versicolor\n",
              "78            6.0          2.9           4.5          1.5  Iris-versicolor\n",
              "3             4.6          3.1           1.5          0.2      Iris-setosa\n",
              "0             5.1          3.5           1.4          0.2      Iris-setosa\n",
              "85            6.0          3.4           4.5          1.6  Iris-versicolor\n",
              "..            ...          ...           ...          ...              ...\n",
              "21            5.1          3.7           1.5          0.4      Iris-setosa\n",
              "118           7.7          2.6           6.9          2.3   Iris-virginica\n",
              "125           7.2          3.2           6.0          1.8   Iris-virginica\n",
              "17            5.1          3.5           1.4          0.3      Iris-setosa\n",
              "120           6.9          3.2           5.7          2.3   Iris-virginica\n",
              "\n",
              "[75 rows x 5 columns]"
            ],
            "text/html": [
              "\n",
              "  <div id=\"df-9d6b447d-ea31-483e-a64a-bf90e4828707\">\n",
              "    <div class=\"colab-df-container\">\n",
              "      <div>\n",
              "<style scoped>\n",
              "    .dataframe tbody tr th:only-of-type {\n",
              "        vertical-align: middle;\n",
              "    }\n",
              "\n",
              "    .dataframe tbody tr th {\n",
              "        vertical-align: top;\n",
              "    }\n",
              "\n",
              "    .dataframe thead th {\n",
              "        text-align: right;\n",
              "    }\n",
              "</style>\n",
              "<table border=\"1\" class=\"dataframe\">\n",
              "  <thead>\n",
              "    <tr style=\"text-align: right;\">\n",
              "      <th></th>\n",
              "      <th>sepal-length</th>\n",
              "      <th>sepal-width</th>\n",
              "      <th>petal-length</th>\n",
              "      <th>petal-width</th>\n",
              "      <th>class</th>\n",
              "    </tr>\n",
              "  </thead>\n",
              "  <tbody>\n",
              "    <tr>\n",
              "      <th>73</th>\n",
              "      <td>6.1</td>\n",
              "      <td>2.8</td>\n",
              "      <td>4.7</td>\n",
              "      <td>1.2</td>\n",
              "      <td>Iris-versicolor</td>\n",
              "    </tr>\n",
              "    <tr>\n",
              "      <th>78</th>\n",
              "      <td>6.0</td>\n",
              "      <td>2.9</td>\n",
              "      <td>4.5</td>\n",
              "      <td>1.5</td>\n",
              "      <td>Iris-versicolor</td>\n",
              "    </tr>\n",
              "    <tr>\n",
              "      <th>3</th>\n",
              "      <td>4.6</td>\n",
              "      <td>3.1</td>\n",
              "      <td>1.5</td>\n",
              "      <td>0.2</td>\n",
              "      <td>Iris-setosa</td>\n",
              "    </tr>\n",
              "    <tr>\n",
              "      <th>0</th>\n",
              "      <td>5.1</td>\n",
              "      <td>3.5</td>\n",
              "      <td>1.4</td>\n",
              "      <td>0.2</td>\n",
              "      <td>Iris-setosa</td>\n",
              "    </tr>\n",
              "    <tr>\n",
              "      <th>85</th>\n",
              "      <td>6.0</td>\n",
              "      <td>3.4</td>\n",
              "      <td>4.5</td>\n",
              "      <td>1.6</td>\n",
              "      <td>Iris-versicolor</td>\n",
              "    </tr>\n",
              "    <tr>\n",
              "      <th>...</th>\n",
              "      <td>...</td>\n",
              "      <td>...</td>\n",
              "      <td>...</td>\n",
              "      <td>...</td>\n",
              "      <td>...</td>\n",
              "    </tr>\n",
              "    <tr>\n",
              "      <th>21</th>\n",
              "      <td>5.1</td>\n",
              "      <td>3.7</td>\n",
              "      <td>1.5</td>\n",
              "      <td>0.4</td>\n",
              "      <td>Iris-setosa</td>\n",
              "    </tr>\n",
              "    <tr>\n",
              "      <th>118</th>\n",
              "      <td>7.7</td>\n",
              "      <td>2.6</td>\n",
              "      <td>6.9</td>\n",
              "      <td>2.3</td>\n",
              "      <td>Iris-virginica</td>\n",
              "    </tr>\n",
              "    <tr>\n",
              "      <th>125</th>\n",
              "      <td>7.2</td>\n",
              "      <td>3.2</td>\n",
              "      <td>6.0</td>\n",
              "      <td>1.8</td>\n",
              "      <td>Iris-virginica</td>\n",
              "    </tr>\n",
              "    <tr>\n",
              "      <th>17</th>\n",
              "      <td>5.1</td>\n",
              "      <td>3.5</td>\n",
              "      <td>1.4</td>\n",
              "      <td>0.3</td>\n",
              "      <td>Iris-setosa</td>\n",
              "    </tr>\n",
              "    <tr>\n",
              "      <th>120</th>\n",
              "      <td>6.9</td>\n",
              "      <td>3.2</td>\n",
              "      <td>5.7</td>\n",
              "      <td>2.3</td>\n",
              "      <td>Iris-virginica</td>\n",
              "    </tr>\n",
              "  </tbody>\n",
              "</table>\n",
              "<p>75 rows × 5 columns</p>\n",
              "</div>\n",
              "      <button class=\"colab-df-convert\" onclick=\"convertToInteractive('df-9d6b447d-ea31-483e-a64a-bf90e4828707')\"\n",
              "              title=\"Convert this dataframe to an interactive table.\"\n",
              "              style=\"display:none;\">\n",
              "        \n",
              "  <svg xmlns=\"http://www.w3.org/2000/svg\" height=\"24px\"viewBox=\"0 0 24 24\"\n",
              "       width=\"24px\">\n",
              "    <path d=\"M0 0h24v24H0V0z\" fill=\"none\"/>\n",
              "    <path d=\"M18.56 5.44l.94 2.06.94-2.06 2.06-.94-2.06-.94-.94-2.06-.94 2.06-2.06.94zm-11 1L8.5 8.5l.94-2.06 2.06-.94-2.06-.94L8.5 2.5l-.94 2.06-2.06.94zm10 10l.94 2.06.94-2.06 2.06-.94-2.06-.94-.94-2.06-.94 2.06-2.06.94z\"/><path d=\"M17.41 7.96l-1.37-1.37c-.4-.4-.92-.59-1.43-.59-.52 0-1.04.2-1.43.59L10.3 9.45l-7.72 7.72c-.78.78-.78 2.05 0 2.83L4 21.41c.39.39.9.59 1.41.59.51 0 1.02-.2 1.41-.59l7.78-7.78 2.81-2.81c.8-.78.8-2.07 0-2.86zM5.41 20L4 18.59l7.72-7.72 1.47 1.35L5.41 20z\"/>\n",
              "  </svg>\n",
              "      </button>\n",
              "      \n",
              "  <style>\n",
              "    .colab-df-container {\n",
              "      display:flex;\n",
              "      flex-wrap:wrap;\n",
              "      gap: 12px;\n",
              "    }\n",
              "\n",
              "    .colab-df-convert {\n",
              "      background-color: #E8F0FE;\n",
              "      border: none;\n",
              "      border-radius: 50%;\n",
              "      cursor: pointer;\n",
              "      display: none;\n",
              "      fill: #1967D2;\n",
              "      height: 32px;\n",
              "      padding: 0 0 0 0;\n",
              "      width: 32px;\n",
              "    }\n",
              "\n",
              "    .colab-df-convert:hover {\n",
              "      background-color: #E2EBFA;\n",
              "      box-shadow: 0px 1px 2px rgba(60, 64, 67, 0.3), 0px 1px 3px 1px rgba(60, 64, 67, 0.15);\n",
              "      fill: #174EA6;\n",
              "    }\n",
              "\n",
              "    [theme=dark] .colab-df-convert {\n",
              "      background-color: #3B4455;\n",
              "      fill: #D2E3FC;\n",
              "    }\n",
              "\n",
              "    [theme=dark] .colab-df-convert:hover {\n",
              "      background-color: #434B5C;\n",
              "      box-shadow: 0px 1px 3px 1px rgba(0, 0, 0, 0.15);\n",
              "      filter: drop-shadow(0px 1px 2px rgba(0, 0, 0, 0.3));\n",
              "      fill: #FFFFFF;\n",
              "    }\n",
              "  </style>\n",
              "\n",
              "      <script>\n",
              "        const buttonEl =\n",
              "          document.querySelector('#df-9d6b447d-ea31-483e-a64a-bf90e4828707 button.colab-df-convert');\n",
              "        buttonEl.style.display =\n",
              "          google.colab.kernel.accessAllowed ? 'block' : 'none';\n",
              "\n",
              "        async function convertToInteractive(key) {\n",
              "          const element = document.querySelector('#df-9d6b447d-ea31-483e-a64a-bf90e4828707');\n",
              "          const dataTable =\n",
              "            await google.colab.kernel.invokeFunction('convertToInteractive',\n",
              "                                                     [key], {});\n",
              "          if (!dataTable) return;\n",
              "\n",
              "          const docLinkHtml = 'Like what you see? Visit the ' +\n",
              "            '<a target=\"_blank\" href=https://colab.research.google.com/notebooks/data_table.ipynb>data table notebook</a>'\n",
              "            + ' to learn more about interactive tables.';\n",
              "          element.innerHTML = '';\n",
              "          dataTable['output_type'] = 'display_data';\n",
              "          await google.colab.output.renderOutput(dataTable, element);\n",
              "          const docLink = document.createElement('div');\n",
              "          docLink.innerHTML = docLinkHtml;\n",
              "          element.appendChild(docLink);\n",
              "        }\n",
              "      </script>\n",
              "    </div>\n",
              "  </div>\n",
              "  "
            ]
          },
          "metadata": {},
          "execution_count": 9
        }
      ]
    },
    {
      "cell_type": "markdown",
      "source": [
        "#### Cálculo de la varianza"
      ],
      "metadata": {
        "id": "UgyNBI1Boaa1"
      }
    },
    {
      "cell_type": "code",
      "source": [
        "muestra[\"sepal-length\"].var()"
      ],
      "metadata": {
        "colab": {
          "base_uri": "https://localhost:8080/"
        },
        "id": "FsppWjtuobFV",
        "outputId": "0b8d04a3-b18c-4417-9564-099a20a1f49f"
      },
      "execution_count": null,
      "outputs": [
        {
          "output_type": "execute_result",
          "data": {
            "text/plain": [
              "0.7670738738738738"
            ]
          },
          "metadata": {},
          "execution_count": 10
        }
      ]
    },
    {
      "cell_type": "markdown",
      "source": [
        "#### Cálculo de la desviación estándar muestral"
      ],
      "metadata": {
        "id": "Psvmjf7NoMqQ"
      }
    },
    {
      "cell_type": "code",
      "source": [
        "muestra[\"sepal-length\"].std()"
      ],
      "metadata": {
        "colab": {
          "base_uri": "https://localhost:8080/"
        },
        "id": "G09EdUWLoDdU",
        "outputId": "ab4e17a3-909b-4dd7-95ea-1eaa25b75d59"
      },
      "execution_count": null,
      "outputs": [
        {
          "output_type": "execute_result",
          "data": {
            "text/plain": [
              "0.8758275366040245"
            ]
          },
          "metadata": {},
          "execution_count": 11
        }
      ]
    },
    {
      "cell_type": "code",
      "source": [
        "muestra[\"sepal-length\"].mean()"
      ],
      "metadata": {
        "colab": {
          "base_uri": "https://localhost:8080/"
        },
        "id": "KnK_g5sWoSjJ",
        "outputId": "2cf8681b-f28a-43db-fa8c-ee3f49a311d8"
      },
      "execution_count": null,
      "outputs": [
        {
          "output_type": "execute_result",
          "data": {
            "text/plain": [
              "5.842666666666666"
            ]
          },
          "metadata": {},
          "execution_count": 12
        }
      ]
    }
  ]
}
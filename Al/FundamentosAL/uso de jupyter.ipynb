{
 "cells": [
  {
   "cell_type": "code",
   "execution_count": 2,
   "id": "8deabc08",
   "metadata": {},
   "outputs": [
    {
     "name": "stdout",
     "output_type": "stream",
     "text": [
      "3.7.15\n"
     ]
    }
   ],
   "source": [
    "from platform import python_version\n",
    "\n",
    "print(python_version())"
   ]
  },
  {
   "cell_type": "code",
   "execution_count": 3,
   "id": "5f533cc2",
   "metadata": {},
   "outputs": [
    {
     "name": "stdout",
     "output_type": "stream",
     "text": [
      "Hola, mundo\n"
     ]
    }
   ],
   "source": [
    "print('Hola, mundo')\n"
   ]
  },
  {
   "cell_type": "code",
   "execution_count": 5,
   "id": "ed08e1df",
   "metadata": {},
   "outputs": [],
   "source": [
    "# Este es un comentario sobre el codigo\n"
   ]
  },
  {
   "cell_type": "code",
   "execution_count": null,
   "id": "856ca3db",
   "metadata": {},
   "outputs": [],
   "source": [
    "# Con control + \\ se pueden comentar varias filas\n"
   ]
  }
 ],
 "metadata": {
  "kernelspec": {
   "display_name": "Python 3 (ipykernel)",
   "language": "python",
   "name": "python3"
  },
  "language_info": {
   "codemirror_mode": {
    "name": "ipython",
    "version": 3
   },
   "file_extension": ".py",
   "mimetype": "text/x-python",
   "name": "python",
   "nbconvert_exporter": "python",
   "pygments_lexer": "ipython3",
   "version": "3.7.15"
  }
 },
 "nbformat": 4,
 "nbformat_minor": 5
}

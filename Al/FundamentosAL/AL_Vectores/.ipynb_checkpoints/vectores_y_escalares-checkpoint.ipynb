{
 "cells": [
  {
   "cell_type": "markdown",
   "metadata": {
    "id": "EAZS5U92XOI7"
   },
   "source": [
    "# 1. Vectores"
   ]
  },
  {
   "cell_type": "markdown",
   "metadata": {
    "id": "1jAWFRqlXRRZ"
   },
   "source": [
    "Diremos que un *vector* es una lista finita de números. Lo podemos encontrar en dos presentaciones:\n",
    "* Vector columna:\n",
    "$$\n",
    "\\begin{Bmatrix} 1 \\\\ 2 \\\\ 3\\end{Bmatrix} \\qquad o, \\qquad \\begin{bmatrix}1\\\\2\\\\3\\end{bmatrix} \\qquad o, \\qquad  \\begin{pmatrix} 1 \\\\ 2 \\\\ 3 \\end{pmatrix}\n",
    "$$\n",
    "* Vector renglón\n",
    "$$\n",
    " \\left( 1 , 2 , 3 \\right) \\qquad o \\qquad \\left[1,2,3\\right]\n",
    "$$"
   ]
  },
  {
   "cell_type": "markdown",
   "metadata": {
    "id": "3hfoTfZ9ZI-l"
   },
   "source": [
    "Los *elementos* (o *entradas, coeficientes, componentes*) son los valores en el arreglo (los de dentro de los corchetes). El *tamaño* (que también podremos llamar *dimensión* o *longitud*) es el número de elementos que contiene. Por ejemplo, todos los vectores de mostrados anteriormente son de dimension 3 o bien *$3$-vectores*. "
   ]
  },
  {
   "cell_type": "markdown",
   "metadata": {
    "id": "dcHYlJrqaHG3"
   },
   "source": [
    "En el caso de tener un $1$-vector, e.g. $\\left(1.5\\right)$, no haremos distinción entre el 1-vector y el *escalar* (o número, *parámetro*) $1.5$. "
   ]
  },
  {
   "cell_type": "markdown",
   "metadata": {
    "id": "ZcP2dExzfBXS"
   },
   "source": [
    "Ahora, si tenemos un $n$-vector $a$ su $i$-ésima entrada se denotara por $a_{i}$. \n",
    "\n",
    "Por ejemplo, si $a = (1,2,3)$ entonces $a_{0}$ es igual a $1$, $a_{1}$ es 2 y $a_{2}$ es 3.\n",
    "\n",
    "Otro ejemplo sería $b=(3.5,-2.4,0)$ entonces $b_{0}$ es 3.5, $b_{1}$ es -2.4 y $b_{2}$ es 0"
   ]
  },
  {
   "cell_type": "markdown",
   "metadata": {},
   "source": [
    "  "
   ]
  },
  {
   "cell_type": "markdown",
   "metadata": {},
   "source": [
    "Sean $a$,$b$ dos vectores. Diremos que $a=b$ si y solo si $a_{i}=b_{i}$ con i de $0$ a $n-1$.  \n",
    "En símbolos: \n",
    "* Sean $a$,$b$ dos vectores, $a = b \\; \\Leftrightarrow \\; a_{i}=b_{i} \\; con \\; 0\\le i \\le n-1$"
   ]
  },
  {
   "cell_type": "markdown",
   "metadata": {},
   "source": [
    "En el futuro nos vamos a referir a dos estrucuras: **espacios vectoriales** y **campos**. De manera simplificada podríamos pensar que los *números* viven en los campos mientras que los vectores viven en los espacios vectoriales.   \n",
    "\n",
    "Como ejemplo, supongamos que tenemos los números $a=1$,$b=2$ y $c=-3$. En este caso decimos que $a\\in \\mathbb{Z}$, $b\\in \\mathbb{Z}$ y $c\\in \\mathbb{Z}$ con $\\mathbb{Z}$ el **conjuto de los números enteros**. Para fines prácticos $\\mathbb{Z}$ es también un campo. \n",
    "\n",
    "Otro ejemplo sería considerar $a=1$,$b=2.2$ y $c=-3.99$- En este caso decimos que $a\\in \\mathbb{R}$, $b\\in \\mathbb{R}$ y $c\\in \\mathbb{R}$ con $\\mathbb{R}$ el **conjunto de los números reales**. Para fines prácticos $\\mathbb{R}$ es también un campo.  \n",
    "\n",
    "Como último ejemplo, sean $a=(0.2,-2)$ y $b=(-1.2,-3.4)$ dos vectores. En este caso decimos que $a\\in \\mathbb{R}^{2}$ y $b\\in \\mathbb{R}^{2}$, y en general para cualquier $v$ n-vector de entradas reales decimos que $v\\in \\mathbb{R}^{n}$. "
   ]
  },
  {
   "cell_type": "markdown",
   "metadata": {},
   "source": [
    "Así pues si el objeto del que estamos hablando es elemento de un espacio vectorial entonces nos referiremos a el como vector, en cambio si el objeto del que hablamos es elemento de un campo entonces nos referimos al mismo como *escalar*. "
   ]
  },
  {
   "cell_type": "markdown",
   "metadata": {},
   "source": [
    "## 1.1 Algunas consideraciones"
   ]
  },
  {
   "cell_type": "markdown",
   "metadata": {},
   "source": [
    "**Bloque o stack de vectores**. Nos será útil definir vectores *concatenando* otros vectores. Por ejemplo, sean $a,b,c,d$ cuatro vectores con:\n",
    "$$\n",
    " a = \\begin{bmatrix}b\\\\ c\\\\ d \\end{bmatrix} ,\n",
    "$$\n",
    "Si $b$ es un $m$-vector, $c$ un $n$-vector y $d$ un $p$-vector entonces a queda definido como el $(m+n+p)$-vector \n",
    "$$\n",
    "a = \\left( b_{0},b_{1},\\dots,b_{m-1},c_{0},c_{1},\\dots,c_{n-1},d_{0},d_{1},\\dots,d_{p-1} \\right)\n",
    "$$  \n",
    "Por ejemplo, si $B=(1,2)$ y $C=(1.2,-4.7,0.1)$ entonces tenemos que:\n",
    "$$\n",
    "A = \\left(B,C\\right) = \\left(1,2,1.2,-4.7,0.1 \\right)\n",
    "$$"
   ]
  },
  {
   "cell_type": "markdown",
   "metadata": {},
   "source": [
    "  "
   ]
  },
  {
   "cell_type": "markdown",
   "metadata": {},
   "source": [
    "**Subvector**.\n",
    "Consideremos el ejemplo anterior donde $a$ es un $(m+n+p)$-vector. Vamos a considerar a $b,c,d$ subvectores de $a$ de tamaños $m,n$ y $p$ respectivamente. Para referirnos a cualquier subvector de $a$ usaremos la notación de dos puntos. Si consideramos $a$ nuestro vector entonces $a_{r:s}$ es un vector de tamaño $s-r+1$\n",
    "$$\n",
    "a_{r:s} = (a_{r},a_{r+1},\\dots, a_{s})\n",
    "$$\n",
    "El subíndice $r:s$ es llamado el *índice de rango*. Y así entonces, siguiente el ejemplo de anterior etenemos que:\n",
    "$$\n",
    "b = a_{0:(m-1)}, \\qquad c = a_{m:(m+n-1)}, \\qquad d=a_{(m+n):(m+n+p-1)}\n",
    "$$"
   ]
  },
  {
   "cell_type": "markdown",
   "metadata": {},
   "source": [
    "  "
   ]
  },
  {
   "cell_type": "markdown",
   "metadata": {},
   "source": [
    "**Convención en notación**. Regularmente se trata de usar alguna notación ayudar a distiguir entre vectores y escalares. Por ejemplo, letras Griegas ($\\alpha, \\beta, \\gamma, \\dots, \\Omega$) pueden ser usadas para escalares mientras que letras minúsculas para vectores ($a,b,c,\\dots,x,y,z$). Otras conveciones incluyen denotar los vectores como letras minúsculas en negríta ($\\mathbf{a},\\dots,\\mathbf{x},\\mathbf{y},\\mathbf{z}$) y otras con flechas arriba de la letra ($\\vec{a},\\dots,\\vec{x},\\vec{y},\\vec{z}$). Estas convenciones no son un estándar y quien estudie esta materia debería de conocer las más comunes al igual que estar a la espera de poder ver nuevas.  \n",
    "A lo largo de este curso se usarán de manera indistinta estas notaciones. "
   ]
  },
  {
   "cell_type": "markdown",
   "metadata": {},
   "source": [
    "  "
   ]
  },
  {
   "cell_type": "markdown",
   "metadata": {},
   "source": [
    "**Indexación**. Quien estudie este curso deberá estar muy atento a este tema ya que en la gran mayoría de literatura el estándar es que los índices  de los $n$-vectores corran desde $i=1$ hasta $i=n$. En este curso, y salvo que se indique explícitamente lo contrario, los índices en los $n$-vectores correrán desde $i=0$ hasta $n-1$ para hacer más natural la introducción de los conceptos y problemas en python."
   ]
  },
  {
   "cell_type": "markdown",
   "metadata": {},
   "source": [
    "  "
   ]
  },
  {
   "cell_type": "markdown",
   "metadata": {},
   "source": [
    "**Cero vectores**. Un *cero vector* es un vector en el cual todos los elementos son igual a cero. Algunas veces el cero vector de dimensión $n$ es escrito como $\\mathbf{0}_{n}$ pero usualmente es denotado simplemente como $\\mathbf{0}$.  \n",
    "Por ejemplo $\\mathbf{0} = (0,0)$"
   ]
  },
  {
   "cell_type": "markdown",
   "metadata": {},
   "source": [
    "  "
   ]
  },
  {
   "cell_type": "markdown",
   "metadata": {},
   "source": [
    "**Uno vectores**. Los *uno vectores* son $n$-vectores en los cuales todas las entradas son igual a uno. Algunas veces son representados como $\\mathbf{1}_{n}$ pero usualmente es denotado simplemente como $\\mathbf{1}$.  \n",
    "Un ejemplo sería el uno vector de dimensión 2: $\\mathbf{1} = (1,1)$.  "
   ]
  },
  {
   "cell_type": "markdown",
   "metadata": {},
   "source": [
    "  "
   ]
  },
  {
   "cell_type": "markdown",
   "metadata": {},
   "source": [
    "**Vectores unitarios**. El *vector unitario* $\\mathbf{e}_{i}$ es aquel en donde todas las entradas son cero salvo la $i$-ésima.  \n",
    "Por ejemplo, si $\\mathbf{e}_{1}$, $\\mathbf{e}_{2}$ y $\\mathbf{e}_{3}$ son 3-vectores unitarios estos se ven como:\n",
    "$$\n",
    "\\mathbf{e}_{0} =  \\begin{bmatrix}1\\\\ 0\\\\ 0 \\end{bmatrix}, \\qquad \\mathbf{e}_{1} =  \\begin{bmatrix}0\\\\ 1\\\\ 0 \\end{bmatrix}, \\qquad \\mathbf{e}_{2} =  \\begin{bmatrix}0\\\\ 0\\\\ 1 \\end{bmatrix}\n",
    "$$\n",
    "Una forma de representar a los vectores unitarios es la siguiente:\n",
    "$$\n",
    "\\left(e_{i}\\right)_{j} =  \\left \\{ \\begin{matrix} 1 & \\mbox{si }i=j\n",
    "\\\\ 0 & \\mbox{si }i\\neq j\\end{matrix}\\right. \n",
    "$$"
   ]
  },
  {
   "cell_type": "markdown",
   "metadata": {},
   "source": [
    "## 1.2 Un ejemplo: Colores RGB"
   ]
  },
  {
   "cell_type": "markdown",
   "metadata": {},
   "source": [
    "Casi todos los colores que conocemos se pueden genrar mediante [el modelo aditivo RGB](https://en.wikipedia.org/wiki/RGB_color_model).  \n",
    "En este modelo se presentan los colores como combinaciones de *concetraciones* en un vector y en donde cada una de las entradas representa la concentracción de ese color."
   ]
  },
  {
   "cell_type": "markdown",
   "metadata": {},
   "source": [
    "Sea $\\vec{c}\\in\\mathbb{Z}_{+}^{3}$ (un vector de dimensión 3 cuyas entradas son todas únicamente enteros positivos). $c_{0}$ corresponde con la concetración de rojo, $c_{1}$ corresponde a la concetración de verde y $c_{2}$ corresponde con la concetración de azul.  \n",
    "\n",
    "Ahora, cualquier color lo vamos a poder representar como combinación de estos colores además el modelo completo es $(\\mathbb{Z}^{3},+)$ esto quiere decir que podemos sumar vectores de colores y y obtener un color nuevo que exista. "
   ]
  },
  {
   "cell_type": "markdown",
   "metadata": {},
   "source": [
    "Por ejemplo el vector $\\mathbf{0}$ en este caso corresponde con el color negro, el vector $(255,0,0)$ correponde a rojo y el vector $(0,255,0)$ corresponde al verde. Si sumamos los vectores tenemos entonces el vector $(255,255,0)$ que corresponde al amarillo."
   ]
  },
  {
   "cell_type": "markdown",
   "metadata": {},
   "source": [
    "En python estos vectores los podemos representar mediante listas."
   ]
  },
  {
   "cell_type": "code",
   "execution_count": 5,
   "metadata": {},
   "outputs": [],
   "source": [
    "rojo = [255,0,0]\n",
    "verde = [0,255,0] \n",
    "azul = [0,0,255]\n",
    "negro = [0,0,0]"
   ]
  },
  {
   "cell_type": "code",
   "execution_count": 2,
   "metadata": {},
   "outputs": [],
   "source": [
    "j = (1,2,3)"
   ]
  },
  {
   "cell_type": "code",
   "execution_count": 9,
   "metadata": {},
   "outputs": [
    {
     "data": {
      "text/plain": [
       "tuple"
      ]
     },
     "execution_count": 9,
     "metadata": {},
     "output_type": "execute_result"
    }
   ],
   "source": [
    "type(j)\n"
   ]
  },
  {
   "cell_type": "code",
   "execution_count": 10,
   "metadata": {},
   "outputs": [
    {
     "data": {
      "text/plain": [
       "list"
      ]
     },
     "execution_count": 10,
     "metadata": {},
     "output_type": "execute_result"
    }
   ],
   "source": [
    "type(rojo)"
   ]
  },
  {
   "cell_type": "code",
   "execution_count": 11,
   "metadata": {},
   "outputs": [
    {
     "name": "stdout",
     "output_type": "stream",
     "text": [
      "El color rojo en el modelo RGB se puede representar por el vector: [255, 0, 0]\n"
     ]
    }
   ],
   "source": [
    "print('El color rojo en el modelo RGB se puede representar por el vector:',rojo)"
   ]
  },
  {
   "cell_type": "code",
   "execution_count": 6,
   "metadata": {},
   "outputs": [
    {
     "name": "stdout",
     "output_type": "stream",
     "text": [
      "El color verde en el modelo RGB se puede representar por el vector: [0, 255, 0]\n"
     ]
    }
   ],
   "source": [
    "print('El color verde en el modelo RGB se puede representar por el vector:',verde)"
   ]
  },
  {
   "cell_type": "code",
   "execution_count": 7,
   "metadata": {},
   "outputs": [
    {
     "name": "stdout",
     "output_type": "stream",
     "text": [
      "El color negro en el modelo RGB se puede representar por el vector: [0, 0, 0]\n"
     ]
    }
   ],
   "source": [
    "print('El color negro en el modelo RGB se puede representar por el vector:',negro)"
   ]
  },
  {
   "cell_type": "markdown",
   "metadata": {},
   "source": [
    "  "
   ]
  },
  {
   "cell_type": "markdown",
   "metadata": {},
   "source": [
    "En python podemos responder también la pregunta de la dimensión del vector mediante la función **len**"
   ]
  },
  {
   "cell_type": "code",
   "execution_count": 8,
   "metadata": {},
   "outputs": [
    {
     "name": "stdout",
     "output_type": "stream",
     "text": [
      "La dimensión de un vector del modelo RGB es 3\n"
     ]
    }
   ],
   "source": [
    "print('La dimensión de un vector del modelo RGB es',len(verde))"
   ]
  },
  {
   "cell_type": "markdown",
   "metadata": {},
   "source": [
    "  "
   ]
  },
  {
   "cell_type": "markdown",
   "metadata": {},
   "source": [
    "De igual manera poder crear un stack de vectores pendiante el operador **+**. "
   ]
  },
  {
   "cell_type": "code",
   "execution_count": 15,
   "metadata": {},
   "outputs": [],
   "source": [
    "Rojo_y_Verde = rojo+verde"
   ]
  },
  {
   "cell_type": "code",
   "execution_count": 16,
   "metadata": {},
   "outputs": [
    {
     "name": "stdout",
     "output_type": "stream",
     "text": [
      "El vector resultante de concatenar los vectores rojo y verde es [255, 0, 0, 0, 255, 0]\n"
     ]
    }
   ],
   "source": [
    "print('El vector resultante de concatenar los vectores rojo y verde es',Rojo_y_Verde)"
   ]
  },
  {
   "cell_type": "markdown",
   "metadata": {},
   "source": [
    "  "
   ]
  },
  {
   "cell_type": "markdown",
   "metadata": {},
   "source": [
    "De igual manera podemos obtener del vector *Rojo_y_Verde* los subvectores correspondientes a los vectores *rojo* y *verde*"
   ]
  },
  {
   "cell_type": "code",
   "execution_count": 17,
   "metadata": {},
   "outputs": [
    {
     "name": "stdout",
     "output_type": "stream",
     "text": [
      "El subvector del vector Rojo_y_Verde que corresponde al rojo es el vector que va del 0:3 [255, 0, 0]\n"
     ]
    }
   ],
   "source": [
    "print('El subvector del vector Rojo_y_Verde que corresponde al rojo es el vector que va del 0:3', Rojo_y_Verde[0:3])"
   ]
  },
  {
   "cell_type": "code",
   "execution_count": 18,
   "metadata": {},
   "outputs": [
    {
     "name": "stdout",
     "output_type": "stream",
     "text": [
      "El subvector del vector Rojo_y_Verde que corresponde al verde es el vector que va del 3:6 [0, 255, 0]\n"
     ]
    }
   ],
   "source": [
    "print('El subvector del vector Rojo_y_Verde que corresponde al verde es el vector que va del 3:6', Rojo_y_Verde[3:6])"
   ]
  },
  {
   "cell_type": "code",
   "execution_count": null,
   "metadata": {},
   "outputs": [],
   "source": []
  }
 ],
 "metadata": {
  "colab": {
   "name": "Vectores.ipynb",
   "provenance": []
  },
  "kernelspec": {
   "display_name": "Python 3 (ipykernel)",
   "language": "python",
   "name": "python3"
  },
  "language_info": {
   "codemirror_mode": {
    "name": "ipython",
    "version": 3
   },
   "file_extension": ".py",
   "mimetype": "text/x-python",
   "name": "python",
   "nbconvert_exporter": "python",
   "pygments_lexer": "ipython3",
   "version": "3.9.13"
  }
 },
 "nbformat": 4,
 "nbformat_minor": 4
}

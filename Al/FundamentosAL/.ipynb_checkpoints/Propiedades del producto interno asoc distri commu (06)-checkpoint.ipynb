{
 "cells": [
  {
   "cell_type": "code",
   "execution_count": 1,
   "id": "ddace9b9",
   "metadata": {},
   "outputs": [],
   "source": [
    "import numpy as np"
   ]
  },
  {
   "cell_type": "code",
   "execution_count": 2,
   "id": "8eb2932d",
   "metadata": {},
   "outputs": [],
   "source": [
    "A = np.array([[2,3],[5,7],[11,13]])\n",
    "B = np.array([[1,3],[2,1]])\n",
    "C = np.array([[3,1],[4,2]])"
   ]
  },
  {
   "cell_type": "code",
   "execution_count": 3,
   "id": "96951ff1",
   "metadata": {},
   "outputs": [
    {
     "name": "stdout",
     "output_type": "stream",
     "text": [
      "[[ 60  26]\n",
      " [145  63]\n",
      " [295 129]]\n"
     ]
    }
   ],
   "source": [
    "# Asociativa\n",
    "ABC = A.dot(B.dot(C))\n",
    "print(ABC)"
   ]
  },
  {
   "cell_type": "code",
   "execution_count": 5,
   "id": "85519cb4",
   "metadata": {},
   "outputs": [
    {
     "name": "stdout",
     "output_type": "stream",
     "text": [
      "[[ 60  26]\n",
      " [145  63]\n",
      " [295 129]]\n"
     ]
    }
   ],
   "source": [
    "AB_C = A.dot(B).dot(C)\n",
    "print(AB_C)"
   ]
  },
  {
   "cell_type": "code",
   "execution_count": 7,
   "id": "d7ddec59",
   "metadata": {},
   "outputs": [],
   "source": [
    "# Distributiva\n",
    "D = A.dot(B+C)\n",
    "E = (A.dot(B))+(A.dot(C))"
   ]
  },
  {
   "cell_type": "code",
   "execution_count": 8,
   "id": "0cc928cf",
   "metadata": {},
   "outputs": [
    {
     "name": "stdout",
     "output_type": "stream",
     "text": [
      "[[ 26  17]\n",
      " [ 62  41]\n",
      " [122  83]]\n",
      "[[ 26  17]\n",
      " [ 62  41]\n",
      " [122  83]]\n"
     ]
    }
   ],
   "source": [
    "print(D)\n",
    "print(E)"
   ]
  },
  {
   "cell_type": "code",
   "execution_count": 9,
   "id": "280dd6dc",
   "metadata": {},
   "outputs": [
    {
     "name": "stdout",
     "output_type": "stream",
     "text": [
      "[[ True  True]\n",
      " [ True  True]\n",
      " [ True  True]]\n"
     ]
    }
   ],
   "source": [
    "print(D==E) # Esta es la validacion de la igualdad, osea comparar elemento a elemento que sean iguales."
   ]
  },
  {
   "cell_type": "code",
   "execution_count": 10,
   "id": "97ada2be",
   "metadata": {},
   "outputs": [],
   "source": [
    "# Commutativa # Generalmente no cumple con esta propiedad\n",
    "F = B.dot(C)\n",
    "G = C.dot(B)"
   ]
  },
  {
   "cell_type": "code",
   "execution_count": 11,
   "id": "dcd61286",
   "metadata": {},
   "outputs": [
    {
     "name": "stdout",
     "output_type": "stream",
     "text": [
      "[[False False]\n",
      " [False False]]\n"
     ]
    }
   ],
   "source": [
    "print(F==G)"
   ]
  },
  {
   "cell_type": "code",
   "execution_count": 12,
   "id": "0dcda5ba",
   "metadata": {},
   "outputs": [
    {
     "name": "stdout",
     "output_type": "stream",
     "text": [
      "[[15  7]\n",
      " [10  4]]\n",
      "[[ 5 10]\n",
      " [ 8 14]]\n"
     ]
    }
   ],
   "source": [
    "print(F)\n",
    "print(G)"
   ]
  },
  {
   "cell_type": "code",
   "execution_count": 13,
   "id": "a4666b70",
   "metadata": {},
   "outputs": [],
   "source": [
    "# La multiplicación de Vectores si cumple con la propiedas commutativa\n",
    "v1 = np.array([[2],[7]])\n",
    "v2 = np.array([[3],[5]])"
   ]
  },
  {
   "cell_type": "code",
   "execution_count": 14,
   "id": "b19b95ba",
   "metadata": {},
   "outputs": [],
   "source": [
    "v1_tv2 = v1.T.dot(v2) # Debemos transponer para coincidadn las dimensiones.\n",
    "v2_tv1 = v2.T.dot(v1)"
   ]
  },
  {
   "cell_type": "code",
   "execution_count": 15,
   "id": "a90514ad",
   "metadata": {},
   "outputs": [
    {
     "name": "stdout",
     "output_type": "stream",
     "text": [
      "[[41]]\n"
     ]
    }
   ],
   "source": [
    "print(v1_tv2)"
   ]
  },
  {
   "cell_type": "code",
   "execution_count": 16,
   "id": "9c834142",
   "metadata": {},
   "outputs": [
    {
     "name": "stdout",
     "output_type": "stream",
     "text": [
      "[[41]]\n"
     ]
    }
   ],
   "source": [
    "print(v2_tv1)"
   ]
  }
 ],
 "metadata": {
  "kernelspec": {
   "display_name": "Python 3 (ipykernel)",
   "language": "python",
   "name": "python3"
  },
  "language_info": {
   "codemirror_mode": {
    "name": "ipython",
    "version": 3
   },
   "file_extension": ".py",
   "mimetype": "text/x-python",
   "name": "python",
   "nbconvert_exporter": "python",
   "pygments_lexer": "ipython3",
   "version": "3.9.13"
  }
 },
 "nbformat": 4,
 "nbformat_minor": 5
}

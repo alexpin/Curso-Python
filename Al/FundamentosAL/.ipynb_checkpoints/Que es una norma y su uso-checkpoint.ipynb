{
 "cells": [
  {
   "cell_type": "code",
   "execution_count": 1,
   "id": "620d9be3",
   "metadata": {},
   "outputs": [],
   "source": [
    "%matplotlib inline\n",
    "\n",
    "import numpy as np\n",
    "import matplotlib.pyplot as plt\n",
    "import seaborn as sns\n"
   ]
  },
  {
   "cell_type": "code",
   "execution_count": 2,
   "id": "3abefaa6",
   "metadata": {},
   "outputs": [
    {
     "name": "stdout",
     "output_type": "stream",
     "text": [
      "[2 7]\n",
      "[3 5]\n"
     ]
    }
   ],
   "source": [
    "v1 = np.array([2,7])\n",
    "v2 = np.array([3,5])\n",
    "\n",
    "print(v1)\n",
    "print(v2)"
   ]
  },
  {
   "cell_type": "code",
   "execution_count": 3,
   "id": "13dffda1",
   "metadata": {},
   "outputs": [
    {
     "name": "stdout",
     "output_type": "stream",
     "text": [
      "[ 5 12]\n"
     ]
    }
   ],
   "source": [
    "v1v2 = v1+v2\n",
    "print(v1v2)"
   ]
  },
  {
   "cell_type": "code",
   "execution_count": 4,
   "id": "af8048be",
   "metadata": {},
   "outputs": [
    {
     "data": {
      "text/plain": [
       "13.0"
      ]
     },
     "execution_count": 4,
     "metadata": {},
     "output_type": "execute_result"
    }
   ],
   "source": [
    "np.linalg.norm(v1v2)"
   ]
  },
  {
   "cell_type": "code",
   "execution_count": 5,
   "id": "8a382e9d",
   "metadata": {},
   "outputs": [
    {
     "name": "stdout",
     "output_type": "stream",
     "text": [
      "True\n"
     ]
    }
   ],
   "source": [
    "#norma(v1v2) <= norma(v1) + norma(v2)\n",
    "\n",
    "norma_v1 = np.linalg.norm(v1)\n",
    "norma_v2 = np.linalg.norm(v2)\n",
    "norma_v1v2 = np.linalg.norm(v1v2)\n",
    "\n",
    "print(norma_v1v2 <= (norma_v1 + norma_v2))"
   ]
  },
  {
   "cell_type": "code",
   "execution_count": 6,
   "id": "cc0dd676",
   "metadata": {},
   "outputs": [
    {
     "name": "stdout",
     "output_type": "stream",
     "text": [
      "13.11106178412582\n"
     ]
    }
   ],
   "source": [
    "print(norma_v1 + norma_v2)"
   ]
  },
  {
   "cell_type": "code",
   "execution_count": 7,
   "id": "3e4c1ea7",
   "metadata": {},
   "outputs": [],
   "source": [
    "v1 = np.array([0,0,2,7])\n",
    "v2 = np.array([0,0,3,5])\n",
    "\n",
    "v1_aux = np.array([v1[2],v1[3],v2[2],v2[3]])\n",
    "v1v2 = np.array([0,0,5,12])\n"
   ]
  },
  {
   "cell_type": "code",
   "execution_count": 8,
   "id": "ce50f4de",
   "metadata": {},
   "outputs": [
    {
     "data": {
      "text/plain": [
       "(-0.5, 15.0)"
      ]
     },
     "execution_count": 8,
     "metadata": {},
     "output_type": "execute_result"
    },
    {
     "data": {
      "image/png": "[encoded data removed]",
      "text/plain": [
       "<Figure size 640x480 with 1 Axes>"
      ]
     },
     "metadata": {},
     "output_type": "display_data"
    }
   ],
   "source": [
    "plt.quiver([v1[0], v1_aux[0], v1v2[0]],\n",
    "           [v1[1], v1_aux[1], v1v2[1]],\n",
    "           [v1[2], v1_aux[2], v1v2[2]],\n",
    "           [v1[3], v1_aux[3], v1v2[3]],\n",
    "           angles = 'xy', scale_units = 'xy', scale = 1,\n",
    "           color = sns.color_palette()          \n",
    "          )\n",
    "\n",
    "plt.xlim(-0.5, 6)\n",
    "plt.ylim(-0.5, 15)"
   ]
  }
 ],
 "metadata": {
  "kernelspec": {
   "display_name": "Python 3 (ipykernel)",
   "language": "python",
   "name": "python3"
  },
  "language_info": {
   "codemirror_mode": {
    "name": "ipython",
    "version": 3
   },
   "file_extension": ".py",
   "mimetype": "text/x-python",
   "name": "python",
   "nbconvert_exporter": "python",
   "pygments_lexer": "ipython3",
   "version": "3.9.13"
  }
 },
 "nbformat": 4,
 "nbformat_minor": 5
}

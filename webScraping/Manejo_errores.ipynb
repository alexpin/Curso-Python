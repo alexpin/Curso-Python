{
 "cells": [
  {
   "cell_type": "code",
   "execution_count": 4,
   "id": "2dee408f-c35b-4c4f-ab57-bfc1a2fca550",
   "metadata": {},
   "outputs": [],
   "source": [
    "import requests\n"
   ]
  },
  {
   "cell_type": "code",
   "execution_count": 5,
   "id": "138b00f5-a06e-4d68-bc33-13745f8443f0",
   "metadata": {},
   "outputs": [],
   "source": [
    "url = 'https://www.pagina12.com.ar/'"
   ]
  },
  {
   "cell_type": "code",
   "execution_count": 6,
   "id": "b0817ee1-94a2-4bb2-8432-4bb375b1c7b2",
   "metadata": {},
   "outputs": [],
   "source": [
    "r = requests.get(url)"
   ]
  },
  {
   "cell_type": "code",
   "execution_count": 7,
   "id": "5c395a7c-5f51-49ea-8ca3-741f93b909cd",
   "metadata": {},
   "outputs": [
    {
     "ename": "IndentationError",
     "evalue": "expected an indented block (2266934436.py, line 3)",
     "output_type": "error",
     "traceback": [
      "\u001b[0;36m  Cell \u001b[0;32mIn[7], line 3\u001b[0;36m\u001b[0m\n\u001b[0;31m    else:\u001b[0m\n\u001b[0m    ^\u001b[0m\n\u001b[0;31mIndentationError\u001b[0m\u001b[0;31m:\u001b[0m expected an indented block\n"
     ]
    }
   ],
   "source": [
    "if r.status_code == 200:\n",
    "    # Procesamos la respuesta\n",
    "else:\n",
    "    # Informamos el error"
   ]
  },
  {
   "cell_type": "code",
   "execution_count": null,
   "id": "ae3b10fd-161f-49ca-9065-70d7d80265cc",
   "metadata": {},
   "outputs": [],
   "source": [
    "url_mala = url.replace('2','3')\n",
    "url_mala\n",
    "# reemplaza el 2 por un 3 en la url"
   ]
  },
  {
   "cell_type": "code",
   "execution_count": null,
   "id": "8c6ba00b-f322-4071-9700-c0007572e43f",
   "metadata": {},
   "outputs": [],
   "source": [
    "try:\n",
    "    requests.get(url_mala)\n",
    "except Exception as e:\n",
    "    print('error en la request')\n",
    "    print(e)\n",
    "    print('\\n')"
   ]
  },
  {
   "cell_type": "code",
   "execution_count": null,
   "id": "b0d7e253-05b5-48e7-8c53-71875dd4b935",
   "metadata": {},
   "outputs": [],
   "source": [
    "try:\n",
    "    featured_article.b.get('href')\n",
    "except:\n",
    "    pass\n",
    "print('continua el codigo')"
   ]
  },
  {
   "cell_type": "code",
   "execution_count": null,
   "id": "9a954bb7-7be0-4965-99bc-4cfd14e1058e",
   "metadata": {},
   "outputs": [],
   "source": []
  }
 ],
 "metadata": {
  "kernelspec": {
   "display_name": "Python 3 (ipykernel)",
   "language": "python",
   "name": "python3"
  },
  "language_info": {
   "codemirror_mode": {
    "name": "ipython",
    "version": 3
   },
   "file_extension": ".py",
   "mimetype": "text/x-python",
   "name": "python",
   "nbconvert_exporter": "python",
   "pygments_lexer": "ipython3",
   "version": "3.9.13"
  }
 },
 "nbformat": 4,
 "nbformat_minor": 5
}

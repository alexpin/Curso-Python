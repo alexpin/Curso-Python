{
 "cells": [
  {
   "cell_type": "code",
   "execution_count": 1,
   "id": "45363a92-5fee-471c-bf44-edfb4812c0ff",
   "metadata": {},
   "outputs": [],
   "source": [
    "from selenium import webdriver\n",
    "from selenium.webdriver.chrome.service import Service\n",
    "from selenium.webdriver.chrome.options import Options"
   ]
  },
  {
   "cell_type": "code",
   "execution_count": 2,
   "id": "7970cb92-07ec-46b6-9cf3-b485bc38f7ce",
   "metadata": {},
   "outputs": [],
   "source": [
    "# Define la URL que deseas abrir\n",
    "page = \"https://www.google.com\"\n",
    "\n",
    "# Configura las opciones de Chrome\n",
    "chrome_options = Options()\n",
    "#chrome_options.add_argument(\"--headless\")  # Esto abrirá Chrome en modo sin cabeza, es decir, sin interfaz gráfica\n",
    "chrome_options.add_argument(\"--no-sandbox\")\n",
    "\n",
    "# Ruta al archivo chromedriver en tu sistema\n",
    "chromedriver_path = '/home/alexpino/repo1/webScraping/chromedriver/stable/chromedriver'\n",
    "\n",
    "# Crea una instancia del servicio de ChromeDriver\n",
    "webdriver_service = Service(chromedriver_path)\n",
    "\n",
    "# Inicia Chrome con las opciones y el servicio configurados\n",
    "browser = webdriver.Chrome(service=webdriver_service, options=chrome_options)\n",
    "\n",
    "# Abre la página web\n",
    "browser.get(page)\n",
    "\n",
    "# Puedes ejecutar esto en tu cuaderno para abrir la página en Chrome"
   ]
  },
  {
   "cell_type": "code",
   "execution_count": 3,
   "id": "d89eaec7-7cbf-4ce3-aeb9-efd579545834",
   "metadata": {},
   "outputs": [],
   "source": [
    "browser.quit()\n"
   ]
  },
  {
   "cell_type": "code",
   "execution_count": null,
   "id": "922b3bdd-d360-4121-9c93-5ad18bb5817a",
   "metadata": {},
   "outputs": [],
   "source": []
  }
 ],
 "metadata": {
  "kernelspec": {
   "display_name": "Python 3 (ipykernel)",
   "language": "python",
   "name": "python3"
  },
  "language_info": {
   "codemirror_mode": {
    "name": "ipython",
    "version": 3
   },
   "file_extension": ".py",
   "mimetype": "text/x-python",
   "name": "python",
   "nbconvert_exporter": "python",
   "pygments_lexer": "ipython3",
   "version": "3.9.18"
  }
 },
 "nbformat": 4,
 "nbformat_minor": 5
}

{
 "cells": [
  {
   "cell_type": "code",
   "execution_count": 4,
   "id": "ff02fc15-c083-48aa-a79e-ded3b3962df2",
   "metadata": {},
   "outputs": [],
   "source": [
    "# Reto extrayendo información"
   ]
  },
  {
   "cell_type": "code",
   "execution_count": 5,
   "id": "938ebabb-c302-4ee2-b3ad-b9efcdd8ca24",
   "metadata": {},
   "outputs": [],
   "source": [
    "# importamos librerias\n",
    "import requests\n",
    "from bs4 import BeautifulSoup"
   ]
  },
  {
   "cell_type": "code",
   "execution_count": 6,
   "id": "35423622-8e89-4206-bced-df5b0f0bb9b5",
   "metadata": {},
   "outputs": [
    {
     "data": {
      "text/plain": [
       "200"
      ]
     },
     "execution_count": 6,
     "metadata": {},
     "output_type": "execute_result"
    }
   ],
   "source": [
    "# Obtenemos la pagina web con el metodo requests.get\n",
    "link_principal = 'https://www.pagina12.com.ar/'\n",
    "pagina_principal = requests.get(link_principal)\n",
    "pagina_principal.status_code"
   ]
  },
  {
   "cell_type": "code",
   "execution_count": 7,
   "id": "6e0ee968-4a60-442f-902d-edd57db8728e",
   "metadata": {},
   "outputs": [
    {
     "data": {
      "text/plain": [
       "bs4.BeautifulSoup"
      ]
     },
     "execution_count": 7,
     "metadata": {},
     "output_type": "execute_result"
    }
   ],
   "source": [
    "# parseamos la pagina web\n",
    "soup = BeautifulSoup(pagina_principal.text,'lxml')\n",
    "type(soup)"
   ]
  },
  {
   "cell_type": "code",
   "execution_count": 72,
   "id": "37dadd74-c89e-4e6d-a76d-e550b25f16ed",
   "metadata": {},
   "outputs": [],
   "source": [
    "def obtener_notas(soup):\n",
    "    #Función  que recibe un objeto de BeautifullSoup de una página de una sección y devuelve una lista de URLS a las notas de esa sección\n",
    "    #Secciones -> creamos un array de todos los elementos con el tag DIV que tengan el atributo class=p12-dropdown-column\n",
    "    # Selecionamos nuestro primer elemento\n",
    "    # lista vacia para links de notas de secciones\n",
    "    URL = []\n",
    "    \n",
    "    secciones = soup.find('ul', attrs={'class':'horizontal-list main-sections hide-on-dropdown'}).find_all('li')\n",
    "    #Busca los tag a para optener el href que contiene el link de la seccion\n",
    "    #recorremos el array de tag a y obtemos los elementos href que contienen links\n",
    "    href_link_secciones=[link.a.get('href') for link in secciones]\n",
    "    #seleccionamos el primer link que corresponde a la seccion el pais\n",
    "    pagina_seccion_el_pais= requests.get(href_link_secciones[0])\n",
    "     #parseamos la pagina seccion el pais\n",
    "    soup_pagina_seccion_el_pais= BeautifulSoup(pagina_seccion_el_pais.text,'lxml')\n",
    "     #la pagina de articulos de noticias se dividen en 3 sectores\n",
    "    #Top (1 noticia principal) - Semi(2 noticias semiprincipales) -  articulos (el resto de noticias)\n",
    "\n",
    "    #TOP\n",
    "    top_noticias_seccion_el_pais = soup_pagina_seccion_el_pais.find('div', attrs={'class':'article-item__content'})\n",
    "    # Obtener el link\n",
    "    link_top_noticias_seccion_el_pais = [top_noticias_seccion_el_pais.a.get('href')]\n",
    "    #SEMI\n",
    "    semi_noticias_seccion_el_pais = soup_pagina_seccion_el_pais.find_all('h3', attrs={'class':'title ff-26px-w800-ls-07'})\n",
    "    link_semi_noticias_seccion_el_pais=[link.a.get('href') for link in semi_noticias_seccion_el_pais]\n",
    "    # ARTICULOS\n",
    "    articulos_noticias_seccion_el_pais= soup_pagina_seccion_el_pais.find_all('h4', attrs={'class':'title is-display-inline ff-22px-w700-ls-07'})\n",
    "    link_articulos_noticias_seccion_el_pais=[link.a.get('href') for link in articulos_noticias_seccion_el_pais]\n",
    "\n",
    "    URL.extend(link_top_noticias_seccion_el_pais)\n",
    "    \n",
    "    URL.extend(link_semi_noticias_seccion_el_pais)\n",
    "    URL.extend(link_articulos_noticias_seccion_el_pais)\n",
    "\n",
    "    return URL\n",
    "\n",
    "   "
   ]
  },
  {
   "cell_type": "code",
   "execution_count": 73,
   "id": "e2bd09f5-272c-42cf-bc6c-d9e13661a421",
   "metadata": {},
   "outputs": [
    {
     "name": "stdout",
     "output_type": "stream",
     "text": [
      "['/592986-peron-kusch-y-la-geopolitica', '/592899-el-senado-aprobo-el-pliego-de-ana-maria-figueroa-para-que-si', '/592984-senado-la-reforma-del-impuesto-a-las-ganancias-ya-es-ley', '/592978-milei-cancelo-a-la-cnn-y-entrena-para-el-debate-presidencial', '/592979-los-empresarios-del-g-6-no-quieren-saber-nada-con-la-reducci', '/592980-bullrich-no-quiere-mas-ruido-con-los-radicales', '/592734-40-anos-de-democracia-40-portadas-de-pagina-12-se-inauguro-e', '/592991-el-oficialismo-impuso-su-proyecto-y-regresa-a-la-camara-de-d', '/592799-ramiro-marra-patalea-por-la-sancion-de-la-comision-nacional-', '/592995-todo-lo-que-nos-dejo-mario-wainfeld', '/592890-el-juicio-por-secuestro-que-sera-por-homicidio-agravado']\n"
     ]
    }
   ],
   "source": [
    "print(obtener_notas(soup))"
   ]
  },
  {
   "cell_type": "code",
   "execution_count": null,
   "id": "ed8943e9-7d5d-413d-9825-63c8a7692d18",
   "metadata": {},
   "outputs": [],
   "source": []
  }
 ],
 "metadata": {
  "kernelspec": {
   "display_name": "Python 3 (ipykernel)",
   "language": "python",
   "name": "python3"
  },
  "language_info": {
   "codemirror_mode": {
    "name": "ipython",
    "version": 3
   },
   "file_extension": ".py",
   "mimetype": "text/x-python",
   "name": "python",
   "nbconvert_exporter": "python",
   "pygments_lexer": "ipython3",
   "version": "3.9.13"
  }
 },
 "nbformat": 4,
 "nbformat_minor": 5
}

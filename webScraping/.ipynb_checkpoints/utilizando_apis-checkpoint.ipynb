{
 "cells": [
  {
   "cell_type": "code",
   "execution_count": null,
   "id": "418b4db5-29d6-4715-859b-4b01a3e9a0ad",
   "metadata": {},
   "outputs": [],
   "source": [
    "# JSON"
   ]
  },
  {
   "cell_type": "code",
   "execution_count": 3,
   "id": "13a293a8-32f8-44fe-a9d7-7c18bdef6d3b",
   "metadata": {},
   "outputs": [],
   "source": [
    "# Url base\n",
    "url_base = 'https://api.spotify.com/v1'"
   ]
  },
  {
   "cell_type": "code",
   "execution_count": 4,
   "id": "3ff48cc5-6843-44e0-a936-0fada20e3d2b",
   "metadata": {},
   "outputs": [],
   "source": [
    "# end point artist\n",
    "ep_artist = '/artists/{artist_id}'"
   ]
  },
  {
   "cell_type": "code",
   "execution_count": 5,
   "id": "df5199fd-e7a8-49ad-8042-9d890f4697d4",
   "metadata": {},
   "outputs": [],
   "source": [
    "# Id artist airon maiden\n",
    "id_im = '6mdiAmATAx73kdxrNrnlao'"
   ]
  },
  {
   "cell_type": "code",
   "execution_count": 6,
   "id": "5a2cb6d0-6286-4469-87b2-1de17efab27e",
   "metadata": {},
   "outputs": [
    {
     "data": {
      "text/plain": [
       "'https://api.spotify.com/v1/artists/6mdiAmATAx73kdxrNrnlao'"
      ]
     },
     "execution_count": 6,
     "metadata": {},
     "output_type": "execute_result"
    }
   ],
   "source": [
    "# url completa\n",
    "url_base+ep_artist.format(artist_id = id_im)"
   ]
  },
  {
   "cell_type": "code",
   "execution_count": 7,
   "id": "bf44ddd9-4eb3-40e0-be4d-b7ae270ae77c",
   "metadata": {},
   "outputs": [],
   "source": [
    "import requests"
   ]
  },
  {
   "cell_type": "code",
   "execution_count": 8,
   "id": "f3ae289a-cc8c-4dfd-9344-e2a38aa4dafd",
   "metadata": {},
   "outputs": [],
   "source": [
    "r = requests.get(url_base+ep_artist.format(artist_id = id_im))"
   ]
  },
  {
   "cell_type": "code",
   "execution_count": 9,
   "id": "6748ea51-eca4-405d-91d9-5b9662d6e06a",
   "metadata": {},
   "outputs": [
    {
     "data": {
      "text/plain": [
       "401"
      ]
     },
     "execution_count": 9,
     "metadata": {},
     "output_type": "execute_result"
    }
   ],
   "source": [
    "r.status_code"
   ]
  },
  {
   "cell_type": "code",
   "execution_count": 10,
   "id": "caa92713-c421-4ecd-b98f-029345e03448",
   "metadata": {},
   "outputs": [
    {
     "data": {
      "text/plain": [
       "{'error': {'status': 401, 'message': 'No token provided'}}"
      ]
     },
     "execution_count": 10,
     "metadata": {},
     "output_type": "execute_result"
    }
   ],
   "source": [
    "# json de la respuesta\n",
    "r.json()"
   ]
  }
 ],
 "metadata": {
  "kernelspec": {
   "display_name": "Python 3 (ipykernel)",
   "language": "python",
   "name": "python3"
  },
  "language_info": {
   "codemirror_mode": {
    "name": "ipython",
    "version": 3
   },
   "file_extension": ".py",
   "mimetype": "text/x-python",
   "name": "python",
   "nbconvert_exporter": "python",
   "pygments_lexer": "ipython3",
   "version": "3.9.18"
  }
 },
 "nbformat": 4,
 "nbformat_minor": 5
}

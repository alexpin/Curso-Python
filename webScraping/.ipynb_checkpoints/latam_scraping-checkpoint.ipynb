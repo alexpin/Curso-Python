{
 "cells": [
  {
   "cell_type": "code",
   "execution_count": 1,
   "id": "f71183cd-9e7d-4cc4-9f6b-3b86c13e4545",
   "metadata": {},
   "outputs": [],
   "source": [
    "import requests\n",
    "from bs4 import BeautifulSoup\n",
    "from selenium import webdriver\n",
    "from selenium.webdriver.chrome.service import Service\n",
    "from selenium.webdriver.chrome.options import Options\n",
    "from selenium.webdriver.common.by import By\n",
    "from selenium.common.exceptions import TimeoutException\n",
    "from selenium.webdriver.support.ui import WebDriverWait\n",
    "from selenium.webdriver.support import expected_conditions as EC\n"
   ]
  },
  {
   "cell_type": "code",
   "execution_count": 2,
   "id": "c42c236a-7acf-4032-b153-70149345e866",
   "metadata": {},
   "outputs": [],
   "source": [
    "url ='https://www.latamairlines.com/ec/es/ofertas-vuelos/?origin=UIO&outbound=2023-12-01T12%3A00%3A00.000Z&destination=MAD&inbound=null&adt=1&chd=0&inf=0&trip=OW&cabin=Economy&redemption=false&sort=ARRIVAL_DATE%2Casc'"
   ]
  },
  {
   "cell_type": "code",
   "execution_count": 3,
   "id": "a2267392-8184-4b54-8db6-1498ed9f671f",
   "metadata": {},
   "outputs": [
    {
     "data": {
      "text/plain": [
       "403"
      ]
     },
     "execution_count": 3,
     "metadata": {},
     "output_type": "execute_result"
    }
   ],
   "source": [
    "r = requests.get(url)\n",
    "r.status_code"
   ]
  },
  {
   "cell_type": "code",
   "execution_count": 5,
   "id": "019120d9-9a8b-4461-a8c8-688146e4e875",
   "metadata": {},
   "outputs": [],
   "source": [
    "def obtener_precios(vuelo):\n",
    "    '''\n",
    "    Función que retorna una lista de diccionarios con las distintas tarifas\n",
    "    '''\n",
    "    tarifas = WebDriverWait(vuelo, 10).until(\n",
    "        EC.presence_of_all_elements_located((By.XPATH, '//*[contains(@id, \"WrapperBundleCardbundle-detail-\")]'))\n",
    "    )\n",
    "    precios = []  # crea una lista vacía\n",
    "    for tarifa in tarifas:\n",
    "        nombre = WebDriverWait(tarifa, 10).until(\n",
    "            EC.presence_of_element_located((By.XPATH, './/div/div[1]/span'))\n",
    "        ).text\n",
    "        moneda = WebDriverWait(tarifa, 10).until(\n",
    "            EC.presence_of_element_located((By.XPATH, './/div/div[3]/div[1]/div/div/div/div/span[1]/span[1]'))\n",
    "        ).text\n",
    "        valor = WebDriverWait(tarifa, 10).until(\n",
    "            EC.presence_of_element_located((By.XPATH, './/div/div[3]/div[1]/div/div/div/div/span[1]/span[2]'))\n",
    "        ).text\n",
    "        dict_tarifa = {nombre: {'moneda': moneda, 'valor': valor}}  # arma diccionario que junta la información\n",
    "        precios.append(dict_tarifa)  # para cada tarifa agrega diccionario a la lista vacía\n",
    "        print(dict_tarifa)\n",
    "    return precios\n"
   ]
  },
  {
   "cell_type": "code",
   "execution_count": 18,
   "id": "98774791-8e68-4762-aaa7-021fb2510b6b",
   "metadata": {},
   "outputs": [],
   "source": [
    "def obtener_datos_escalas(vuelo):\n",
    "    '''\n",
    "    Funcion que retorna una lista de diccionarios con la información de las escalas de cada vuelo\n",
    "    '''\n",
    "    segmentos = WebDriverWait(vuelo, 10).until(\n",
    "        EC.presence_of_all_elements_located((By.XPATH, '//section[@data-test=\"section-info-leg\" and contains(@class, \"itinerarystyle__Section-sc__sc-1n97ky6-1\")]'))\n",
    "    )\n",
    "    info_escalas = []\n",
    "    \n",
    "    for segmento in segmentos:\n",
    "        # origen\n",
    "        origen = WebDriverWait(segmento, 10).until(\n",
    "            EC.presence_of_element_located((By.XPATH, '//*[@id=\"itinerary-modal-0-dialog-content\"]/article/div/section[1]/div[1]/div/div[1]/div/span[1]'))\n",
    "        ).text\n",
    "        # Hora de salida\n",
    "        dep_time = WebDriverWait(segmento, 10).until(\n",
    "            EC.presence_of_element_located((By.XPATH, '//*[@id=\"itinerary-modal-0-dialog-content\"]/article/div/section[1]/div[1]/div/div[1]/div/span[2]'))\n",
    "        ).text\n",
    "        # Destino\n",
    "        destino = WebDriverWait(segmento, 10).until(\n",
    "            EC.presence_of_element_located((By.XPATH, '//*[@id=\"itinerary-modal-0-dialog-content\"]/article/div/section[1]/div[1]/div/div[3]/div/span[1]'))\n",
    "        ).text\n",
    "        # Hora de llegada\n",
    "        arr_time = WebDriverWait(segmento, 10).until(\n",
    "            EC.presence_of_element_located((By.XPATH, '//*[@id=\"itinerary-modal-0-dialog-content\"]/article/div/section[1]/div[1]/div/div[3]/div/span[2]'))\n",
    "        ).text\n",
    "\n",
    "        # Duración del vuelo\n",
    "        duracion_vuelo = WebDriverWait(segmento, 10).until(\n",
    "            EC.presence_of_element_located((By.XPATH, '//*[@id=\"itinerary-modal-0-dialog-content\"]/article/div/section[1]/div/[1]/div/div[2]/span[2]'))\n",
    "        ).text\n",
    "        # Numero de vuelo\n",
    "        numero_vuelo = WebDriverWait(segmento, 10).until(\n",
    "            EC.presence_of_element_located((By.XPATH, '//*[@id=\"itinerary-modal-0-dialog-content\"]/article/div/section[1]/div[3]/div/div/div/div'))\n",
    "        ).text\n",
    "        # Modelo del avión\n",
    "        modelo_avion = WebDriverWait(segmento, 10).until(\n",
    "            EC.presence_of_element_located((By.XPATH, '//*[@id=\"itinerary-modal-0-dialog-content\"]/article/div/section[1]/div/3]/div/div/span[1]'))\n",
    "        ).text\n",
    "        \n",
    "        if segmento != segmentos[-1]:\n",
    "            # Duración de la escala\n",
    "            duracion_escala = WebDriverWait(segmento, 10).until(\n",
    "                EC.presence_of_element_located((By.XPATH, '//*[@id=\"itinerary-modal-0-dialog-content\"]/article/div/section[2]/section/div[2]/div/div/span'))\n",
    "            ).text\n",
    "        else:\n",
    "            duracion_escala = ''\n",
    "            \n",
    "        data_dict = {\n",
    "            'origen': origen,\n",
    "            'dep_time': dep_time,\n",
    "            'destino': destino,\n",
    "            'arr_time': arr_time,\n",
    "            'duracion_vuelo': duracion_vuelo,\n",
    "            'numero_vuelo': numero_vuelo,\n",
    "            'modelo_avion': modelo_avion,\n",
    "            'duracion_escala': duracion_escala,\n",
    "        }\n",
    "        info_escalas.append(data_dict)\n",
    "        \n",
    "    return info_escalas\n",
    "\n"
   ]
  },
  {
   "cell_type": "code",
   "execution_count": 14,
   "id": "cc264384-95df-45e9-8259-99756b4a2823",
   "metadata": {},
   "outputs": [],
   "source": [
    "def obtener_tiempos(vuelo):\n",
    "    '''\n",
    "    Función que retorna un lista de diccionarios con los horarios de salida y llegada de cada vuelo, incluyendo la duración.\n",
    "    Nota: La diración del vuelo no es la hora de llegada - la hora de salida porque puede haver diferencia de horarios entre el \n",
    "    origen y el destino\n",
    "    '''\n",
    "    # Hora de salida\n",
    "    salida = vuelo.find_element(By.XPATH, '//*[@id=\"WrapperCardFlight0\"]/div/div[1]/div[2]/div[1]/div[1]/span[1]').text\n",
    "    # Hora de llegada\n",
    "    llegada = vuelo.find_element(By.XPATH,'//*[@id=\"WrapperCardFlight0\"]/div/div[1]/div[2]/div[1]/div[3]/span[1]').text\n",
    "    # duracion\n",
    "    duracion = vuelo.find_element(By.XPATH,'//*[@id=\"ContainerFlightInfo0\"]/span[2]').text\n",
    "    tiempo = {'hora_salida':salida, 'hora_llegada':llegada, 'duracion':duracion}\n",
    "    return tiempo"
   ]
  },
  {
   "cell_type": "code",
   "execution_count": 10,
   "id": "1e6bb073-3b6a-4a51-a232-427779f36e44",
   "metadata": {},
   "outputs": [],
   "source": [
    "def obtener_info(browser):\n",
    "    vuelos = browser.find_elements(By.XPATH, '//*[@id=\"CenterWrapperBodyFlights\"]/ol/li')\n",
    "    print(f'Se encontraron {len(vuelos)} vuelos.')\n",
    "    print('Iniciando Scraping...')\n",
    "    info = []\n",
    "\n",
    "    for vuelo in vuelos:\n",
    "        # Obtenemos los tiempos generales de cada vuelo\n",
    "        tiempos = obtener_tiempos(vuelo)\n",
    "\n",
    "        # Clickear sobre el botón escalas\n",
    "        boton_escalas = WebDriverWait(vuelo, 10).until(\n",
    "            EC.presence_of_element_located((By.XPATH, '//*[@id=\"itinerary-modal-0-dialog-open\"]/span'))\n",
    "        )\n",
    "        boton_escalas.click()\n",
    "\n",
    "        # Obtener información de las escalas\n",
    "        escalas = obtener_datos_escalas(vuelo)\n",
    "\n",
    "        # Cerrar el modal\n",
    "        cerrar_ven_modal = WebDriverWait(vuelo, 10).until(\n",
    "            EC.presence_of_element_located((By.XPATH, '//*[@id=\"itinerary-modal-0-dialog-close\"]/span/i'))\n",
    "        )\n",
    "        cerrar_ven_modal.click()\n",
    "\n",
    "        # Clickear vuelo para ver los precios\n",
    "        vuelo.click()\n",
    "\n",
    "        # Obtener los precios\n",
    "        precios = obtener_precios(vuelo)\n",
    "\n",
    "        # Cerrar precios\n",
    "        vuelo.click()\n",
    "\n",
    "        # Agregar toda la información a info\n",
    "        info.append({'precios': precios, 'tiempos': tiempos, 'escalas': escalas})\n",
    "\n",
    "    return info\n"
   ]
  },
  {
   "cell_type": "code",
   "execution_count": 21,
   "id": "8e65923e-df89-41eb-88cb-843fdee36c73",
   "metadata": {},
   "outputs": [
    {
     "name": "stdout",
     "output_type": "stream",
     "text": [
      "La página terminó de cargar\n",
      "Se encontraron 15 vuelos.\n",
      "Iniciando Scraping...\n"
     ]
    },
    {
     "ename": "InvalidSelectorException",
     "evalue": "Message: invalid selector: Unable to locate an element with the xpath expression //*[@id=\"itinerary-modal-0-dialog-content\"]/article/div/section[1]/div/[1]/div/div[2]/span[2] because of the following error:\nSyntaxError: Failed to execute 'evaluate' on 'Document': The string '//*[@id=\"itinerary-modal-0-dialog-content\"]/article/div/section[1]/div/[1]/div/div[2]/span[2]' is not a valid XPath expression.\n  (Session info: chrome=118.0.5993.70); For documentation on this error, please visit: https://www.selenium.dev/documentation/webdriver/troubleshooting/errors#invalid-selector-exception\nStacktrace:\n#0 0x562dffd53fb3 <unknown>\n#1 0x562dffa274a7 <unknown>\n#2 0x562dffa2c509 <unknown>\n#3 0x562dffa2e120 <unknown>\n#4 0x562dffa2e1dc <unknown>\n#5 0x562dffa6eb06 <unknown>\n#6 0x562dffa6eec1 <unknown>\n#7 0x562dffa648a6 <unknown>\n#8 0x562dffa9096d <unknown>\n#9 0x562dffa64776 <unknown>\n#10 0x562dffa90b0e <unknown>\n#11 0x562dffaa9c02 <unknown>\n#12 0x562dffa90713 <unknown>\n#13 0x562dffa6318b <unknown>\n#14 0x562dffa63f7e <unknown>\n#15 0x562dffd198d8 <unknown>\n#16 0x562dffd1d800 <unknown>\n#17 0x562dffd27cfc <unknown>\n#18 0x562dffd1e418 <unknown>\n#19 0x562dffceb42f <unknown>\n#20 0x562dffd424e8 <unknown>\n#21 0x562dffd426b4 <unknown>\n#22 0x562dffd53143 <unknown>\n#23 0x7f6aa71bcb43 <unknown>\n",
     "output_type": "error",
     "traceback": [
      "\u001b[0;31m---------------------------------------------------------------------------\u001b[0m",
      "\u001b[0;31mInvalidSelectorException\u001b[0m                  Traceback (most recent call last)",
      "Cell \u001b[0;32mIn[21], line 19\u001b[0m\n\u001b[1;32m     17\u001b[0m     vuelo \u001b[38;5;241m=\u001b[39m WebDriverWait(browser, delay)\u001b[38;5;241m.\u001b[39muntil(EC\u001b[38;5;241m.\u001b[39mpresence_of_element_located((By\u001b[38;5;241m.\u001b[39mXPATH, \u001b[38;5;124m'\u001b[39m\u001b[38;5;124m//*[@id=\u001b[39m\u001b[38;5;124m\"\u001b[39m\u001b[38;5;124mCenterWrapperBodyFlights\u001b[39m\u001b[38;5;124m\"\u001b[39m\u001b[38;5;124m]/ol/li\u001b[39m\u001b[38;5;124m'\u001b[39m)))\n\u001b[1;32m     18\u001b[0m     \u001b[38;5;28mprint\u001b[39m(\u001b[38;5;124m'\u001b[39m\u001b[38;5;124mLa página terminó de cargar\u001b[39m\u001b[38;5;124m'\u001b[39m)\n\u001b[0;32m---> 19\u001b[0m     info_vuelos \u001b[38;5;241m=\u001b[39m \u001b[43mobtener_info\u001b[49m\u001b[43m(\u001b[49m\u001b[43mbrowser\u001b[49m\u001b[43m)\u001b[49m\n\u001b[1;32m     20\u001b[0m \u001b[38;5;28;01mexcept\u001b[39;00m TimeoutException:\n\u001b[1;32m     21\u001b[0m     \u001b[38;5;28mprint\u001b[39m(\u001b[38;5;124m'\u001b[39m\u001b[38;5;124mLa página tardó demasiado en cargar\u001b[39m\u001b[38;5;124m'\u001b[39m)\n",
      "Cell \u001b[0;32mIn[10], line 18\u001b[0m, in \u001b[0;36mobtener_info\u001b[0;34m(browser)\u001b[0m\n\u001b[1;32m     15\u001b[0m boton_escalas\u001b[38;5;241m.\u001b[39mclick()\n\u001b[1;32m     17\u001b[0m \u001b[38;5;66;03m# Obtener información de las escalas\u001b[39;00m\n\u001b[0;32m---> 18\u001b[0m escalas \u001b[38;5;241m=\u001b[39m \u001b[43mobtener_datos_escalas\u001b[49m\u001b[43m(\u001b[49m\u001b[43mvuelo\u001b[49m\u001b[43m)\u001b[49m\n\u001b[1;32m     20\u001b[0m \u001b[38;5;66;03m# Cerrar el modal\u001b[39;00m\n\u001b[1;32m     21\u001b[0m cerrar_ven_modal \u001b[38;5;241m=\u001b[39m WebDriverWait(vuelo, \u001b[38;5;241m10\u001b[39m)\u001b[38;5;241m.\u001b[39muntil(\n\u001b[1;32m     22\u001b[0m     EC\u001b[38;5;241m.\u001b[39mpresence_of_element_located((By\u001b[38;5;241m.\u001b[39mXPATH, \u001b[38;5;124m'\u001b[39m\u001b[38;5;124m//*[@id=\u001b[39m\u001b[38;5;124m\"\u001b[39m\u001b[38;5;124mitinerary-modal-0-dialog-close\u001b[39m\u001b[38;5;124m\"\u001b[39m\u001b[38;5;124m]/span/i\u001b[39m\u001b[38;5;124m'\u001b[39m))\n\u001b[1;32m     23\u001b[0m )\n",
      "Cell \u001b[0;32mIn[18], line 29\u001b[0m, in \u001b[0;36mobtener_datos_escalas\u001b[0;34m(vuelo)\u001b[0m\n\u001b[1;32m     24\u001b[0m arr_time \u001b[38;5;241m=\u001b[39m WebDriverWait(segmento, \u001b[38;5;241m10\u001b[39m)\u001b[38;5;241m.\u001b[39muntil(\n\u001b[1;32m     25\u001b[0m     EC\u001b[38;5;241m.\u001b[39mpresence_of_element_located((By\u001b[38;5;241m.\u001b[39mXPATH, \u001b[38;5;124m'\u001b[39m\u001b[38;5;124m//*[@id=\u001b[39m\u001b[38;5;124m\"\u001b[39m\u001b[38;5;124mitinerary-modal-0-dialog-content\u001b[39m\u001b[38;5;124m\"\u001b[39m\u001b[38;5;124m]/article/div/section[1]/div[1]/div/div[3]/div/span[2]\u001b[39m\u001b[38;5;124m'\u001b[39m))\n\u001b[1;32m     26\u001b[0m )\u001b[38;5;241m.\u001b[39mtext\n\u001b[1;32m     28\u001b[0m \u001b[38;5;66;03m# Duración del vuelo\u001b[39;00m\n\u001b[0;32m---> 29\u001b[0m duracion_vuelo \u001b[38;5;241m=\u001b[39m \u001b[43mWebDriverWait\u001b[49m\u001b[43m(\u001b[49m\u001b[43msegmento\u001b[49m\u001b[43m,\u001b[49m\u001b[43m \u001b[49m\u001b[38;5;241;43m10\u001b[39;49m\u001b[43m)\u001b[49m\u001b[38;5;241;43m.\u001b[39;49m\u001b[43muntil\u001b[49m\u001b[43m(\u001b[49m\n\u001b[1;32m     30\u001b[0m \u001b[43m    \u001b[49m\u001b[43mEC\u001b[49m\u001b[38;5;241;43m.\u001b[39;49m\u001b[43mpresence_of_element_located\u001b[49m\u001b[43m(\u001b[49m\u001b[43m(\u001b[49m\u001b[43mBy\u001b[49m\u001b[38;5;241;43m.\u001b[39;49m\u001b[43mXPATH\u001b[49m\u001b[43m,\u001b[49m\u001b[43m \u001b[49m\u001b[38;5;124;43m'\u001b[39;49m\u001b[38;5;124;43m//*[@id=\u001b[39;49m\u001b[38;5;124;43m\"\u001b[39;49m\u001b[38;5;124;43mitinerary-modal-0-dialog-content\u001b[39;49m\u001b[38;5;124;43m\"\u001b[39;49m\u001b[38;5;124;43m]/article/div/section[1]/div/[1]/div/div[2]/span[2]\u001b[39;49m\u001b[38;5;124;43m'\u001b[39;49m\u001b[43m)\u001b[49m\u001b[43m)\u001b[49m\n\u001b[1;32m     31\u001b[0m \u001b[43m\u001b[49m\u001b[43m)\u001b[49m\u001b[38;5;241m.\u001b[39mtext\n\u001b[1;32m     32\u001b[0m \u001b[38;5;66;03m# Numero de vuelo\u001b[39;00m\n\u001b[1;32m     33\u001b[0m numero_vuelo \u001b[38;5;241m=\u001b[39m WebDriverWait(segmento, \u001b[38;5;241m10\u001b[39m)\u001b[38;5;241m.\u001b[39muntil(\n\u001b[1;32m     34\u001b[0m     EC\u001b[38;5;241m.\u001b[39mpresence_of_element_located((By\u001b[38;5;241m.\u001b[39mXPATH, \u001b[38;5;124m'\u001b[39m\u001b[38;5;124m//*[@id=\u001b[39m\u001b[38;5;124m\"\u001b[39m\u001b[38;5;124mitinerary-modal-0-dialog-content\u001b[39m\u001b[38;5;124m\"\u001b[39m\u001b[38;5;124m]/article/div/section[1]/div[3]/div/div/div/div\u001b[39m\u001b[38;5;124m'\u001b[39m))\n\u001b[1;32m     35\u001b[0m )\u001b[38;5;241m.\u001b[39mtext\n",
      "File \u001b[0;32m~/repo1/webScraping/scraping/lib/python3.9/site-packages/selenium/webdriver/support/wait.py:86\u001b[0m, in \u001b[0;36mWebDriverWait.until\u001b[0;34m(self, method, message)\u001b[0m\n\u001b[1;32m     84\u001b[0m \u001b[38;5;28;01mwhile\u001b[39;00m \u001b[38;5;28;01mTrue\u001b[39;00m:\n\u001b[1;32m     85\u001b[0m     \u001b[38;5;28;01mtry\u001b[39;00m:\n\u001b[0;32m---> 86\u001b[0m         value \u001b[38;5;241m=\u001b[39m \u001b[43mmethod\u001b[49m\u001b[43m(\u001b[49m\u001b[38;5;28;43mself\u001b[39;49m\u001b[38;5;241;43m.\u001b[39;49m\u001b[43m_driver\u001b[49m\u001b[43m)\u001b[49m\n\u001b[1;32m     87\u001b[0m         \u001b[38;5;28;01mif\u001b[39;00m value:\n\u001b[1;32m     88\u001b[0m             \u001b[38;5;28;01mreturn\u001b[39;00m value\n",
      "File \u001b[0;32m~/repo1/webScraping/scraping/lib/python3.9/site-packages/selenium/webdriver/support/expected_conditions.py:81\u001b[0m, in \u001b[0;36mpresence_of_element_located.<locals>._predicate\u001b[0;34m(driver)\u001b[0m\n\u001b[1;32m     80\u001b[0m \u001b[38;5;28;01mdef\u001b[39;00m \u001b[38;5;21m_predicate\u001b[39m(driver):\n\u001b[0;32m---> 81\u001b[0m     \u001b[38;5;28;01mreturn\u001b[39;00m \u001b[43mdriver\u001b[49m\u001b[38;5;241;43m.\u001b[39;49m\u001b[43mfind_element\u001b[49m\u001b[43m(\u001b[49m\u001b[38;5;241;43m*\u001b[39;49m\u001b[43mlocator\u001b[49m\u001b[43m)\u001b[49m\n",
      "File \u001b[0;32m~/repo1/webScraping/scraping/lib/python3.9/site-packages/selenium/webdriver/remote/webelement.py:416\u001b[0m, in \u001b[0;36mWebElement.find_element\u001b[0;34m(self, by, value)\u001b[0m\n\u001b[1;32m    413\u001b[0m     by \u001b[38;5;241m=\u001b[39m By\u001b[38;5;241m.\u001b[39mCSS_SELECTOR\n\u001b[1;32m    414\u001b[0m     value \u001b[38;5;241m=\u001b[39m \u001b[38;5;124mf\u001b[39m\u001b[38;5;124m'\u001b[39m\u001b[38;5;124m[name=\u001b[39m\u001b[38;5;124m\"\u001b[39m\u001b[38;5;132;01m{\u001b[39;00mvalue\u001b[38;5;132;01m}\u001b[39;00m\u001b[38;5;124m\"\u001b[39m\u001b[38;5;124m]\u001b[39m\u001b[38;5;124m'\u001b[39m\n\u001b[0;32m--> 416\u001b[0m \u001b[38;5;28;01mreturn\u001b[39;00m \u001b[38;5;28;43mself\u001b[39;49m\u001b[38;5;241;43m.\u001b[39;49m\u001b[43m_execute\u001b[49m\u001b[43m(\u001b[49m\u001b[43mCommand\u001b[49m\u001b[38;5;241;43m.\u001b[39;49m\u001b[43mFIND_CHILD_ELEMENT\u001b[49m\u001b[43m,\u001b[49m\u001b[43m \u001b[49m\u001b[43m{\u001b[49m\u001b[38;5;124;43m\"\u001b[39;49m\u001b[38;5;124;43musing\u001b[39;49m\u001b[38;5;124;43m\"\u001b[39;49m\u001b[43m:\u001b[49m\u001b[43m \u001b[49m\u001b[43mby\u001b[49m\u001b[43m,\u001b[49m\u001b[43m \u001b[49m\u001b[38;5;124;43m\"\u001b[39;49m\u001b[38;5;124;43mvalue\u001b[39;49m\u001b[38;5;124;43m\"\u001b[39;49m\u001b[43m:\u001b[49m\u001b[43m \u001b[49m\u001b[43mvalue\u001b[49m\u001b[43m}\u001b[49m\u001b[43m)\u001b[49m[\u001b[38;5;124m\"\u001b[39m\u001b[38;5;124mvalue\u001b[39m\u001b[38;5;124m\"\u001b[39m]\n",
      "File \u001b[0;32m~/repo1/webScraping/scraping/lib/python3.9/site-packages/selenium/webdriver/remote/webelement.py:394\u001b[0m, in \u001b[0;36mWebElement._execute\u001b[0;34m(self, command, params)\u001b[0m\n\u001b[1;32m    392\u001b[0m     params \u001b[38;5;241m=\u001b[39m {}\n\u001b[1;32m    393\u001b[0m params[\u001b[38;5;124m\"\u001b[39m\u001b[38;5;124mid\u001b[39m\u001b[38;5;124m\"\u001b[39m] \u001b[38;5;241m=\u001b[39m \u001b[38;5;28mself\u001b[39m\u001b[38;5;241m.\u001b[39m_id\n\u001b[0;32m--> 394\u001b[0m \u001b[38;5;28;01mreturn\u001b[39;00m \u001b[38;5;28;43mself\u001b[39;49m\u001b[38;5;241;43m.\u001b[39;49m\u001b[43m_parent\u001b[49m\u001b[38;5;241;43m.\u001b[39;49m\u001b[43mexecute\u001b[49m\u001b[43m(\u001b[49m\u001b[43mcommand\u001b[49m\u001b[43m,\u001b[49m\u001b[43m \u001b[49m\u001b[43mparams\u001b[49m\u001b[43m)\u001b[49m\n",
      "File \u001b[0;32m~/repo1/webScraping/scraping/lib/python3.9/site-packages/selenium/webdriver/remote/webdriver.py:344\u001b[0m, in \u001b[0;36mWebDriver.execute\u001b[0;34m(self, driver_command, params)\u001b[0m\n\u001b[1;32m    342\u001b[0m response \u001b[38;5;241m=\u001b[39m \u001b[38;5;28mself\u001b[39m\u001b[38;5;241m.\u001b[39mcommand_executor\u001b[38;5;241m.\u001b[39mexecute(driver_command, params)\n\u001b[1;32m    343\u001b[0m \u001b[38;5;28;01mif\u001b[39;00m response:\n\u001b[0;32m--> 344\u001b[0m     \u001b[38;5;28;43mself\u001b[39;49m\u001b[38;5;241;43m.\u001b[39;49m\u001b[43merror_handler\u001b[49m\u001b[38;5;241;43m.\u001b[39;49m\u001b[43mcheck_response\u001b[49m\u001b[43m(\u001b[49m\u001b[43mresponse\u001b[49m\u001b[43m)\u001b[49m\n\u001b[1;32m    345\u001b[0m     response[\u001b[38;5;124m\"\u001b[39m\u001b[38;5;124mvalue\u001b[39m\u001b[38;5;124m\"\u001b[39m] \u001b[38;5;241m=\u001b[39m \u001b[38;5;28mself\u001b[39m\u001b[38;5;241m.\u001b[39m_unwrap_value(response\u001b[38;5;241m.\u001b[39mget(\u001b[38;5;124m\"\u001b[39m\u001b[38;5;124mvalue\u001b[39m\u001b[38;5;124m\"\u001b[39m, \u001b[38;5;28;01mNone\u001b[39;00m))\n\u001b[1;32m    346\u001b[0m     \u001b[38;5;28;01mreturn\u001b[39;00m response\n",
      "File \u001b[0;32m~/repo1/webScraping/scraping/lib/python3.9/site-packages/selenium/webdriver/remote/errorhandler.py:229\u001b[0m, in \u001b[0;36mErrorHandler.check_response\u001b[0;34m(self, response)\u001b[0m\n\u001b[1;32m    227\u001b[0m         alert_text \u001b[38;5;241m=\u001b[39m value[\u001b[38;5;124m\"\u001b[39m\u001b[38;5;124malert\u001b[39m\u001b[38;5;124m\"\u001b[39m]\u001b[38;5;241m.\u001b[39mget(\u001b[38;5;124m\"\u001b[39m\u001b[38;5;124mtext\u001b[39m\u001b[38;5;124m\"\u001b[39m)\n\u001b[1;32m    228\u001b[0m     \u001b[38;5;28;01mraise\u001b[39;00m exception_class(message, screen, stacktrace, alert_text)  \u001b[38;5;66;03m# type: ignore[call-arg]  # mypy is not smart enough here\u001b[39;00m\n\u001b[0;32m--> 229\u001b[0m \u001b[38;5;28;01mraise\u001b[39;00m exception_class(message, screen, stacktrace)\n",
      "\u001b[0;31mInvalidSelectorException\u001b[0m: Message: invalid selector: Unable to locate an element with the xpath expression //*[@id=\"itinerary-modal-0-dialog-content\"]/article/div/section[1]/div/[1]/div/div[2]/span[2] because of the following error:\nSyntaxError: Failed to execute 'evaluate' on 'Document': The string '//*[@id=\"itinerary-modal-0-dialog-content\"]/article/div/section[1]/div/[1]/div/div[2]/span[2]' is not a valid XPath expression.\n  (Session info: chrome=118.0.5993.70); For documentation on this error, please visit: https://www.selenium.dev/documentation/webdriver/troubleshooting/errors#invalid-selector-exception\nStacktrace:\n#0 0x562dffd53fb3 <unknown>\n#1 0x562dffa274a7 <unknown>\n#2 0x562dffa2c509 <unknown>\n#3 0x562dffa2e120 <unknown>\n#4 0x562dffa2e1dc <unknown>\n#5 0x562dffa6eb06 <unknown>\n#6 0x562dffa6eec1 <unknown>\n#7 0x562dffa648a6 <unknown>\n#8 0x562dffa9096d <unknown>\n#9 0x562dffa64776 <unknown>\n#10 0x562dffa90b0e <unknown>\n#11 0x562dffaa9c02 <unknown>\n#12 0x562dffa90713 <unknown>\n#13 0x562dffa6318b <unknown>\n#14 0x562dffa63f7e <unknown>\n#15 0x562dffd198d8 <unknown>\n#16 0x562dffd1d800 <unknown>\n#17 0x562dffd27cfc <unknown>\n#18 0x562dffd1e418 <unknown>\n#19 0x562dffceb42f <unknown>\n#20 0x562dffd424e8 <unknown>\n#21 0x562dffd426b4 <unknown>\n#22 0x562dffd53143 <unknown>\n#23 0x7f6aa71bcb43 <unknown>\n"
     ]
    }
   ],
   "source": [
    "# 1: Instanciar el navegador\n",
    "# Configuración del navegador\n",
    "chrome_options = Options()\n",
    "chrome_options.add_argument(\"--no-sandbox\")\n",
    "chrome_options.add_argument(\"--incognito\")\n",
    "chromedriver_path = '/home/alexpino/repo1/webScraping/chromedriver/stable/chromedriver'\n",
    "webdriver_service = Service(chromedriver_path)\n",
    "browser = webdriver.Chrome(service=webdriver_service, options=chrome_options)\n",
    "\n",
    "# Abrir la página web\n",
    "url = 'https://www.latamairlines.com/ec/es/ofertas-vuelos/?origin=UIO&outbound=2023-12-01T12%3A00%3A00.000Z&destination=MAD&inbound=null&adt=1&chd=0&inf=0&trip=OW&cabin=Economy&redemption=false&sort=ARRIVAL_DATE%2Casc'\n",
    "browser.get(url)\n",
    "\n",
    "# Esperar a que la página termine de cargar\n",
    "delay = 10\n",
    "try:\n",
    "    vuelo = WebDriverWait(browser, delay).until(EC.presence_of_element_located((By.XPATH, '//*[@id=\"CenterWrapperBodyFlights\"]/ol/li')))\n",
    "    print('La página terminó de cargar')\n",
    "    info_vuelos = obtener_info(browser)\n",
    "except TimeoutException:\n",
    "    print('La página tardó demasiado en cargar')\n",
    "    info_vuelos = []\n",
    "\n",
    "browser.quit()\n",
    "\n",
    "info_vuelos\n"
   ]
  }
 ],
 "metadata": {
  "kernelspec": {
   "display_name": "Python 3 (ipykernel)",
   "language": "python",
   "name": "python3"
  },
  "language_info": {
   "codemirror_mode": {
    "name": "ipython",
    "version": 3
   },
   "file_extension": ".py",
   "mimetype": "text/x-python",
   "name": "python",
   "nbconvert_exporter": "python",
   "pygments_lexer": "ipython3",
   "version": "3.9.18"
  }
 },
 "nbformat": 4,
 "nbformat_minor": 5
}

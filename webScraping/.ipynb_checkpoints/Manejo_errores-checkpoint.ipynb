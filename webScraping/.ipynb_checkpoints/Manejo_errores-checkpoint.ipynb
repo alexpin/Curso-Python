{
 "cells": [
  {
   "cell_type": "code",
   "execution_count": 6,
   "id": "2dee408f-c35b-4c4f-ab57-bfc1a2fca550",
   "metadata": {},
   "outputs": [],
   "source": [
    "import requests\n"
   ]
  },
  {
   "cell_type": "code",
   "execution_count": 7,
   "id": "138b00f5-a06e-4d68-bc33-13745f8443f0",
   "metadata": {},
   "outputs": [],
   "source": [
    "url = 'https://www.pagina12.com.ar/'"
   ]
  },
  {
   "cell_type": "code",
   "execution_count": 8,
   "id": "b0817ee1-94a2-4bb2-8432-4bb375b1c7b2",
   "metadata": {},
   "outputs": [],
   "source": [
    "r = requests.get(url)"
   ]
  },
  {
   "cell_type": "code",
   "execution_count": 9,
   "id": "5c395a7c-5f51-49ea-8ca3-741f93b909cd",
   "metadata": {},
   "outputs": [
    {
     "data": {
      "text/plain": [
       "200"
      ]
     },
     "execution_count": 9,
     "metadata": {},
     "output_type": "execute_result"
    }
   ],
   "source": [
    "if r.status_code == 200:\n",
    "    # Procesamos la respuesta\n",
    "else:\n",
    "    # Informamos el error"
   ]
  },
  {
   "cell_type": "code",
   "execution_count": 10,
   "id": "ae3b10fd-161f-49ca-9065-70d7d80265cc",
   "metadata": {},
   "outputs": [
    {
     "data": {
      "text/plain": [
       "'https://www.pagina13.com.ar/'"
      ]
     },
     "execution_count": 10,
     "metadata": {},
     "output_type": "execute_result"
    }
   ],
   "source": [
    "url_mala = url.replace('2','3')\n",
    "url_mala\n",
    "# reemplaza el 2 por un 3 en la url"
   ]
  },
  {
   "cell_type": "code",
   "execution_count": 13,
   "id": "8c6ba00b-f322-4071-9700-c0007572e43f",
   "metadata": {},
   "outputs": [
    {
     "name": "stdout",
     "output_type": "stream",
     "text": [
      "error en la request\n",
      "HTTPSConnectionPool(host='www.pagina13.com.ar', port=443): Max retries exceeded with url: / (Caused by NameResolutionError(\"<urllib3.connection.HTTPSConnection object at 0x7f3b0dc6f520>: Failed to resolve 'www.pagina13.com.ar' ([Errno -3] Temporary failure in name resolution)\"))\n",
      "\n",
      "\n"
     ]
    }
   ],
   "source": [
    "try:\n",
    "    requests.get(url_mala)\n",
    "except Exception as e:\n",
    "    print('error en la request')\n",
    "    print(e)\n",
    "    print('\\n')"
   ]
  },
  {
   "cell_type": "code",
   "execution_count": 14,
   "id": "b0d7e253-05b5-48e7-8c53-71875dd4b935",
   "metadata": {},
   "outputs": [
    {
     "name": "stdout",
     "output_type": "stream",
     "text": [
      "continua el codigo\n"
     ]
    }
   ],
   "source": [
    "try:\n",
    "    featured_article.b.get('href')\n",
    "except:\n",
    "    pass\n",
    "print('continua el codigo')"
   ]
  },
  {
   "cell_type": "code",
   "execution_count": null,
   "id": "9a954bb7-7be0-4965-99bc-4cfd14e1058e",
   "metadata": {},
   "outputs": [],
   "source": []
  }
 ],
 "metadata": {
  "kernelspec": {
   "display_name": "Python 3 (ipykernel)",
   "language": "python",
   "name": "python3"
  },
  "language_info": {
   "codemirror_mode": {
    "name": "ipython",
    "version": 3
   },
   "file_extension": ".py",
   "mimetype": "text/x-python",
   "name": "python",
   "nbconvert_exporter": "python",
   "pygments_lexer": "ipython3",
   "version": "3.9.13"
  }
 },
 "nbformat": 4,
 "nbformat_minor": 5
}

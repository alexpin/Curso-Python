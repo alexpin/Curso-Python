{
 "cells": [
  {
   "cell_type": "code",
   "execution_count": 44,
   "id": "ff02fc15-c083-48aa-a79e-ded3b3962df2",
   "metadata": {},
   "outputs": [],
   "source": [
    "# Reto extrayendo información"
   ]
  },
  {
   "cell_type": "code",
   "execution_count": 45,
   "id": "938ebabb-c302-4ee2-b3ad-b9efcdd8ca24",
   "metadata": {},
   "outputs": [],
   "source": [
    "# importamos librerias\n",
    "import requests\n",
    "from bs4 import BeautifulSoup"
   ]
  },
  {
   "cell_type": "code",
   "execution_count": 46,
   "id": "35423622-8e89-4206-bced-df5b0f0bb9b5",
   "metadata": {},
   "outputs": [
    {
     "data": {
      "text/plain": [
       "200"
      ]
     },
     "execution_count": 46,
     "metadata": {},
     "output_type": "execute_result"
    }
   ],
   "source": [
    "# Obtenemos la pagina web con el metodo requests.get\n",
    "link_principal = 'https://www.pagina12.com.ar/'\n",
    "pagina_principal = requests.get(link_principal)\n",
    "pagina_principal.status_code"
   ]
  },
  {
   "cell_type": "code",
   "execution_count": 47,
   "id": "6e0ee968-4a60-442f-902d-edd57db8728e",
   "metadata": {},
   "outputs": [
    {
     "data": {
      "text/plain": [
       "bs4.BeautifulSoup"
      ]
     },
     "execution_count": 47,
     "metadata": {},
     "output_type": "execute_result"
    }
   ],
   "source": [
    "# parseamos la pagina web\n",
    "soup = BeautifulSoup(pagina_principal.text,'lxml')\n",
    "type(soup)"
   ]
  },
  {
   "cell_type": "code",
   "execution_count": 48,
   "id": "37dadd74-c89e-4e6d-a76d-e550b25f16ed",
   "metadata": {},
   "outputs": [],
   "source": [
    "def obtener_notas(soup):\n",
    "    #Función  que recibe un objeto de BeautifullSoup de una página de una sección y devuelve una lista de URLS a las notas de esa sección\n",
    "    #Secciones -> creamos un array de todos los elementos con el tag DIV que tengan el atributo class=p12-dropdown-column\n",
    "    # Selecionamos nuestro primer elemento\n",
    "    # lista vacia para links de notas de secciones\n",
    "    URL = []\n",
    "    \n",
    "    secciones = soup.find('ul', attrs={'class':'horizontal-list main-sections hide-on-dropdown'}).find_all('li')\n",
    "    #Busca los tag a para optener el href que contiene el link de la seccion\n",
    "    #recorremos el array de tag a y obtemos los elementos href que contienen links\n",
    "    href_link_secciones=[link.a.get('href') for link in secciones]\n",
    "    #seleccionamos el primer link que corresponde a la seccion el pais\n",
    "    pagina_seccion_el_pais= requests.get(href_link_secciones[0])\n",
    "     #parseamos la pagina seccion el pais\n",
    "    soup_pagina_seccion_el_pais= BeautifulSoup(pagina_seccion_el_pais.text,'lxml')\n",
    "     #la pagina de articulos de noticias se dividen en 3 sectores\n",
    "    #Top (1 noticia principal) - Semi(2 noticias semiprincipales) -  articulos (el resto de noticias)\n",
    "\n",
    "    #TOP\n",
    "    top_noticias_seccion_el_pais = soup_pagina_seccion_el_pais.find('div', attrs={'class':'article-item__content'})\n",
    "    # Obtener el link\n",
    "    link_top_noticias_seccion_el_pais = [link_principal + top_noticias_seccion_el_pais.a.get('href')]\n",
    "    #SEMI\n",
    "    semi_noticias_seccion_el_pais = soup_pagina_seccion_el_pais.find_all('h3', attrs={'class':'title ff-26px-w800-ls-07'})\n",
    "    link_semi_noticias_seccion_el_pais=[link_principal + link.a.get('href') for link in semi_noticias_seccion_el_pais]\n",
    "    # ARTICULOS\n",
    "    articulos_noticias_seccion_el_pais= soup_pagina_seccion_el_pais.find_all('h4', attrs={'class':'title is-display-inline ff-22px-w700-ls-07'})\n",
    "    link_articulos_noticias_seccion_el_pais=[link_principal + link.a.get('href') for link in articulos_noticias_seccion_el_pais]\n",
    "\n",
    "    URL.extend(link_top_noticias_seccion_el_pais)    \n",
    "    URL.extend(link_semi_noticias_seccion_el_pais)\n",
    "    URL.extend(link_articulos_noticias_seccion_el_pais)\n",
    "\n",
    "    return URL\n",
    "\n",
    "   "
   ]
  },
  {
   "cell_type": "code",
   "execution_count": 49,
   "id": "e2bd09f5-272c-42cf-bc6c-d9e13661a421",
   "metadata": {},
   "outputs": [
    {
     "data": {
      "text/plain": [
       "['https://www.pagina12.com.ar//594436-patricia-bullrich-en-guerra-con-los-derechos-quiere-escuchar',\n",
       " 'https://www.pagina12.com.ar//594272-bullrich-afirmo-que-derogaria-en-dos-minutos-las-indemnizaci',\n",
       " 'https://www.pagina12.com.ar//594437-javier-milei-y-patricia-bullrich-batallan-en-campo-minado',\n",
       " 'https://www.pagina12.com.ar//594398-el-oficialismo-busca-avanzar-en-diputados-con-los-proyectos-',\n",
       " 'https://www.pagina12.com.ar//594400-macri-el-presidente-de-venezuela-segun-harvard',\n",
       " 'https://www.pagina12.com.ar//594401-sin-imputados-ni-avances-un-nuevo-juez-asume-la-investigacio',\n",
       " 'https://www.pagina12.com.ar//594425-la-defensa-de-cfk-pidio-su-sobreseimiento-en-la-causa-de-la-',\n",
       " 'https://www.pagina12.com.ar//594426-comenzo-el-segundo-juicio-contra-marcos-levin-emblema-de-la-',\n",
       " 'https://www.pagina12.com.ar//594429-si-gana-milei-vamos-a-retroceder-muchos-pasos-en-la-lucha-co',\n",
       " 'https://www.pagina12.com.ar//594431-los-taxis-en-campana-contra-el-negacionismo-de-milei',\n",
       " 'https://www.pagina12.com.ar//594434-memorandum-con-iran-carlos-zannini-recuso-a-los-jueces-de-la',\n",
       " 'https://www.pagina12.com.ar//594248-milagro-sala-sera-trasladada-este-miercoles-al-hospital-ital',\n",
       " 'https://www.pagina12.com.ar//594435-control-de-dano-veloz-y-a-rezar-para-que-no-impacte-en-la-ca']"
      ]
     },
     "execution_count": 49,
     "metadata": {},
     "output_type": "execute_result"
    }
   ],
   "source": [
    "lista_notas = (obtener_notas(soup))\n",
    "lista_notas"
   ]
  },
  {
   "cell_type": "code",
   "execution_count": 50,
   "id": "ed8943e9-7d5d-413d-9825-63c8a7692d18",
   "metadata": {},
   "outputs": [],
   "source": [
    "url_nota = lista_notas[0]\n",
    "# Guarda la primera url"
   ]
  },
  {
   "cell_type": "code",
   "execution_count": 58,
   "id": "57e64ee7-467c-4e69-b258-a03bc0997f96",
   "metadata": {},
   "outputs": [
    {
     "name": "stdout",
     "output_type": "stream",
     "text": [
      "Titulo: Patricia Bullrich en guerra con los derechos: quiere escuchar las conversaciones entre presos y abogados\n",
      "Fecha publicación: 2023-10-04T00:01:00-03:00\n"
     ]
    }
   ],
   "source": [
    "try:\n",
    "    nota = requests.get(url_nota)\n",
    "    if nota.status_code == 200:\n",
    "        s_nota = BeautifulSoup(nota.text, 'lxml')\n",
    "        # Extraer el titulo\n",
    "        titulo = s_nota.find('h1')\n",
    "        print('Titulo: ' + titulo.text)\n",
    "        # Extrar la fecha\n",
    "        fecha = s_nota.find('time', attrs={'datetime': True}).get('datetime')\n",
    "        print('Fecha publicación: ' + fecha)\n",
    "except Exception as e:\n",
    "    print('Error:')\n",
    "    print(e)\n",
    "    print('\\n')\n",
    " # If status is 200 then convert in soup  "
   ]
  },
  {
   "cell_type": "code",
   "execution_count": null,
   "id": "5e5ff16e-1459-4d42-8704-639a1023285e",
   "metadata": {},
   "outputs": [],
   "source": []
  }
 ],
 "metadata": {
  "kernelspec": {
   "display_name": "Python 3 (ipykernel)",
   "language": "python",
   "name": "python3"
  },
  "language_info": {
   "codemirror_mode": {
    "name": "ipython",
    "version": 3
   },
   "file_extension": ".py",
   "mimetype": "text/x-python",
   "name": "python",
   "nbconvert_exporter": "python",
   "pygments_lexer": "ipython3",
   "version": "3.9.13"
  }
 },
 "nbformat": 4,
 "nbformat_minor": 5
}
